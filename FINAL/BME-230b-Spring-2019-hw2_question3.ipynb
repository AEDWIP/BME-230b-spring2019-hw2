{
 "cells": [
  {
   "cell_type": "markdown",
   "metadata": {},
   "source": [
    "# BME-230B Spring 2019 HW 3 Question \n",
    "James Casaletto, Andrew Davidson, Yuanqing Xue, Jim Zheng\n",
    "\n"
   ]
  },
  {
   "cell_type": "markdown",
   "metadata": {},
   "source": [
    "## 3.a. [10 pts] \n",
    "Write code to form a bb-k-NNG based on the two chemistries (5prime and 3prime). You should fill in the methods of the class named bbknn_graph contained in the euclid_bbknn script. Turn in your code. Compute a bb-k-NNG over the PBMC dataset using k=6 to use for the next clustering step.\n",
    "\n",
    "<B>Question 3.a see </B>[euclid_bbknn.py](euclid_bbknn.py)\n",
    "\n"
   ]
  },
  {
   "cell_type": "markdown",
   "metadata": {},
   "source": [
    "## 3.b. [5 pts] \n",
    "Cluster the integrated dataset using the Louvain method. Re-cluster the data now that you’ve attempted to remove the batch effect. Turn in a UMAP plot showing the integrated dataset and color the cells in the plot by their Louvain cluster assignments."
   ]
  },
  {
   "cell_type": "code",
   "execution_count": 1,
   "metadata": {},
   "outputs": [
    {
     "name": "stdout",
     "output_type": "stream",
     "text": [
      "scanpy.__version__:1.4.2\n"
     ]
    }
   ],
   "source": [
    "from euclid_bbknn import bbknn_graph\n",
    "import gseapy as gp\n",
    "import matplotlib.pyplot as plt\n",
    "import scanpy as sc\n",
    "print(\"scanpy.__version__:{}\".format(sc.__version__))"
   ]
  },
  {
   "cell_type": "code",
   "execution_count": 2,
   "metadata": {},
   "outputs": [
    {
     "name": "stdout",
     "output_type": "stream",
     "text": [
      "CPU times: user 4min 4s, sys: 3.86 s, total: 4min 8s\n",
      "Wall time: 4min 14s\n"
     ]
    }
   ],
   "source": [
    "%%time\n",
    "anndata = sc.read(\"PBMC.merged.h5ad\")\n",
    "\n",
    "# run our implementation of nearest neighboors and update anndata\n",
    "bbknn = bbknn_graph(anndata, neighbors_within_batch=6, runPCA=True, pcs=50)"
   ]
  },
  {
   "cell_type": "code",
   "execution_count": null,
   "metadata": {},
   "outputs": [],
   "source": [
    "%%time\n",
    "sc.tl.louvain(anndata,flavor='igraph', directed=False, use_weights=True)"
   ]
  },
  {
   "cell_type": "code",
   "execution_count": null,
   "metadata": {},
   "outputs": [],
   "source": [
    "%%time\n",
    "sc.tl.umap(anndata)"
   ]
  },
  {
   "cell_type": "code",
   "execution_count": null,
   "metadata": {},
   "outputs": [],
   "source": [
    "plt.figure(figsize=(10,10))\n",
    "sc.pl.umap(anndata, color=[\"louvain\"])"
   ]
  },
  {
   "cell_type": "markdown",
   "metadata": {},
   "source": [
    "## 3.c. [10 pts] \n",
    "Quantitatively estimate the degree to which the bb-k-NNG removed the batch\n",
    "effect using the F-statistic described above. Calculate the F statistic using the UMAP\n",
    "solution derived from the original, non-batch balanced 12-k-NNG. Then calculate the F-statistic\n",
    "using the bb-6-NNG to make the UMAP solution. Report both F-statistics. Do you see an\n",
    "improvement in the batch correction using the bb-k-NNG?"
   ]
  },
  {
   "cell_type": "code",
   "execution_count": null,
   "metadata": {},
   "outputs": [],
   "source": []
  }
 ],
 "metadata": {
  "kernelspec": {
   "display_name": "Python 3",
   "language": "python",
   "name": "python3"
  },
  "language_info": {
   "codemirror_mode": {
    "name": "ipython",
    "version": 3
   },
   "file_extension": ".py",
   "mimetype": "text/x-python",
   "name": "python",
   "nbconvert_exporter": "python",
   "pygments_lexer": "ipython3",
   "version": "3.7.3"
  }
 },
 "nbformat": 4,
 "nbformat_minor": 2
}
