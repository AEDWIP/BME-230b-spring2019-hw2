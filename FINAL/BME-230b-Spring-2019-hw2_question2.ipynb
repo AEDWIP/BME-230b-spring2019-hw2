{
 "cells": [
  {
   "cell_type": "markdown",
   "metadata": {},
   "source": [
    "# BME-230B Spring 2019 HW 2 Question \n",
    "James Casaletto, Andrew Davidson, Yuanqing Xue, Jim Zheng\n",
    "\n",
    "- ref\n",
    "    * [scanpy.tl.umap](https://icb-scanpy.readthedocs-hosted.com/en/stable/api/scanpy.tl.umap.html)\n",
    "    * [scanpy.api.pp.neighbors](https://icb-scanpy.readthedocs-hosted.com/en/stable/api/scanpy.api.pp.neighbors.html?highlight=neighbors)\n",
    "    * [scanpy.pl.umap](https://icb-scanpy.readthedocs-hosted.com/en/stable/api/scanpy.pl.umap.html#scanpy.pl.umap)\n",
    "    * [scanpy.tl.louvain](https://icb-scanpy.readthedocs-hosted.com/en/stable/api/scanpy.tl.louvain.html#scanpy.tl.louvain)\n",
    "    * [GSEAPY: Gene Set Enrichment Analysis in Python. pypi.org](https://pypi.org/project/gseapy/)\n",
    "    * [GSEAPY: Gene Set Enrichment Analysis in Python gseapy.readthedocs.io](https://gseapy.readthedocs.io/en/latest/introduction.html)\n",
    "    * [anndata](https://anndata.readthedocs.io/en/latest/anndata.AnnData.html)\n",
    "        + \"uns\" stands for unstructured data\n",
    "        + \"obs\" are panda data frame observations \n",
    "        + \"obsm key-indexed multi-dimensional observations\n",
    "    * [Hypergeometric_distribution](https://en.wikipedia.org/wiki/Hypergeometric_distribution)\n",
    "    * [Hypergeometric Tests\n",
    "for Gene Lists](http://users.unimi.it/marray/2007/material/day4/Lecture7.pdf)"
   ]
  },
  {
   "cell_type": "code",
   "execution_count": 1,
   "metadata": {},
   "outputs": [
    {
     "name": "stdout",
     "output_type": "stream",
     "text": [
      "scanpy.__version__:1.4.2\n"
     ]
    }
   ],
   "source": [
    "from euclid_knn import KnnG\n",
    "import gseapy as gp\n",
    "import matplotlib.pyplot as plt\n",
    "import numpy as np\n",
    "import os\n",
    "\n",
    "import pandas as pd\n",
    "import scanpy.api as sc\n",
    "import scanpy\n",
    "print(\"scanpy.__version__:{}\".format(scanpy.__version__))\n",
    "\n",
    "import scipy.special\n",
    "import scipy.stats as stats"
   ]
  },
  {
   "cell_type": "markdown",
   "metadata": {},
   "source": [
    "## 2.b. [5 pts] \n",
    "Turn in a UMAP plot of the combined dataset as you did in question #1, but\n",
    "this time, color the cells by their Louvain cluster assignments determined for each cell\n",
    "within each batch as a different color in each plot [2 pts: UMAP]. Also report the\n",
    "modularity of the partition you obtained on the combined dataset [3 pts: Reporting\n",
    "Modularity]."
   ]
  },
  {
   "cell_type": "code",
   "execution_count": 2,
   "metadata": {},
   "outputs": [
    {
     "name": "stdout",
     "output_type": "stream",
     "text": [
      "CPU times: user 1.56 s, sys: 203 ms, total: 1.76 s\n",
      "Wall time: 1.68 s\n"
     ]
    }
   ],
   "source": [
    "%%time\n",
    "anndata = sc.read(\"PBMC.merged.h5ad\")"
   ]
  },
  {
   "cell_type": "code",
   "execution_count": 3,
   "metadata": {},
   "outputs": [
    {
     "ename": "NameError",
     "evalue": "name 'anndata' is not defined",
     "output_type": "error",
     "traceback": [
      "\u001b[0;31m---------------------------------------------------------------------------\u001b[0m",
      "\u001b[0;31mNameError\u001b[0m                                 Traceback (most recent call last)",
      "\u001b[0;32m<ipython-input-3-1283be54f678>\u001b[0m in \u001b[0;36m<module>\u001b[0;34m\u001b[0m\n\u001b[1;32m      1\u001b[0m \u001b[0;31m# run our implementation of nearest neighboors and update anndata\u001b[0m\u001b[0;34m\u001b[0m\u001b[0;34m\u001b[0m\u001b[0;34m\u001b[0m\u001b[0m\n\u001b[0;32m----> 2\u001b[0;31m \u001b[0mKnnG\u001b[0m\u001b[0;34m(\u001b[0m\u001b[0manndata\u001b[0m\u001b[0;34m,\u001b[0m \u001b[0mn_neighbors\u001b[0m\u001b[0;34m=\u001b[0m\u001b[0;36m12\u001b[0m\u001b[0;34m,\u001b[0m \u001b[0mrunPCA\u001b[0m\u001b[0;34m=\u001b[0m\u001b[0;32mTrue\u001b[0m\u001b[0;34m,\u001b[0m \u001b[0mnPC\u001b[0m\u001b[0;34m=\u001b[0m\u001b[0;36m50\u001b[0m\u001b[0;34m)\u001b[0m\u001b[0;34m\u001b[0m\u001b[0;34m\u001b[0m\u001b[0m\n\u001b[0m",
      "\u001b[0;31mNameError\u001b[0m: name 'anndata' is not defined"
     ]
    }
   ],
   "source": [
    "# run our implementation of nearest neighboors and update anndata\n",
    "KnnG(anndata, n_neighbors=12, runPCA=True, nPC=50)"
   ]
  },
  {
   "cell_type": "code",
   "execution_count": null,
   "metadata": {},
   "outputs": [],
   "source": [
    "%%time\n",
    "# running Scanpy's version of Louvian\n",
    "# TODO: replace with our implementation\n",
    "scanpy.tl.louvain(anndata,\n",
    "                  flavor='igraph', \n",
    "                  directed=False, \n",
    "                  use_weights=True)"
   ]
  },
  {
   "cell_type": "code",
   "execution_count": null,
   "metadata": {},
   "outputs": [],
   "source": [
    "plt.figure(figsize=(10,10))\n",
    "scanpy.tl.umap(anndata)"
   ]
  },
  {
   "cell_type": "code",
   "execution_count": null,
   "metadata": {},
   "outputs": [],
   "source": [
    "scanpy.pl.umap(anndata, color=['Cell type'])\n",
    "scanpy.pl.umap(anndata, color=[\"louvain\"])\n",
    "scanpy.pl.umap(anndata, color=[\"batch\"])"
   ]
  },
  {
   "cell_type": "markdown",
   "metadata": {},
   "source": [
    "## 2.c. [5 pts] \n",
    "Turn in a table that lists each cluster and its best-matching cell type\n",
    "annotation. The table should contain the cluster number and its best matching cell-type\n",
    "annotation based on the hypergeometric analysis."
   ]
  },
  {
   "cell_type": "code",
   "execution_count": null,
   "metadata": {},
   "outputs": [],
   "source": [
    "def createCountsDict(anndata):\n",
    "    '''\n",
    "    assumes the data has been grouped by cluster id and cell type. \n",
    "    \n",
    "    return:\n",
    "        cellCountsByClusterId: \n",
    "            a dictionary of form d['cellType']['cellType'] == count\n",
    "            \n",
    "        cellTypesInClusters:\n",
    "            a dictionary of form d['clusterId']{'cell type1', 'cell type2'}\n",
    "    \n",
    "    arguments:\n",
    "        pandasGroupedData:\n",
    "            example : df.groupby(['louvain', 'Cell type'])['louvain'].count()\n",
    "            \n",
    "        keys:\n",
    "            example: grouped.groups.keys()\n",
    "    '''\n",
    "    df = anndata.obs.loc[:,['louvain', 'Cell type']]\n",
    "    grouped = df.groupby(['louvain', 'Cell type'])\n",
    "    pandasGroupedData=grouped['louvain'].count()\n",
    "    keys=grouped.groups.keys()\n",
    "    \n",
    "    cellCountsByClusterId = {}\n",
    "    cellTypesInClusters = {}\n",
    "    for tup in keys:\n",
    "        clusterId,cellType = tup\n",
    "        if cellType not in cellCountsByClusterId :\n",
    "            cellCountsByClusterId[cellType] = {}\n",
    "\n",
    "        cellCountsByClusterId[cellType][clusterId] = pandasGroupedData[tup]\n",
    "        \n",
    "        if clusterId not in cellTypesInClusters:\n",
    "            cellTypesInClusters[clusterId]= set()\n",
    "        \n",
    "        cellTypesInClusters[clusterId].add(cellType)\n",
    "        \n",
    "    return cellCountsByClusterId, cellTypesInClusters"
   ]
  },
  {
   "cell_type": "code",
   "execution_count": null,
   "metadata": {},
   "outputs": [],
   "source": [
    "cellCountsByClusterId, cellTypesInClusters = createCountsDict(anndata)"
   ]
  },
  {
   "cell_type": "code",
   "execution_count": null,
   "metadata": {},
   "outputs": [],
   "source": [
    "def cellCount(df, cellType):\n",
    "    rows = (df.loc[:,['Cell type']] == cellType)\n",
    "    n = rows.sum()\n",
    "    # n is a pandas series\n",
    "    return n.values[0]"
   ]
  },
  {
   "cell_type": "code",
   "execution_count": null,
   "metadata": {},
   "outputs": [],
   "source": [
    "# TODO: AEDWIP: define a class to store results. NO MAGIC NUMBERS\n",
    "K_CELLTYPE = 0\n",
    "K_P_VALUE = 1\n",
    "K_X = 2\n",
    "K_M = 3\n",
    "K_n = 4\n",
    "K_N = 5\n",
    "\n",
    "def annotationProbsForCluster(anndata, cellTypesInClusters, clusterId):\n",
    "    '''\n",
    "    aedwip: todo:\n",
    "    \n",
    "    arguments:\n",
    "    \n",
    "    returns a list of tuples of following form\n",
    "        (cellType, p, x, M, n, N)\n",
    "        p = p-value\n",
    "        x = number of cells in cluster of cellType\n",
    "        M = populations size\n",
    "        n = number of cell types in population\n",
    "        N = number of cells in the cluster\n",
    "        \n",
    "    '''\n",
    "    ret = []\n",
    "    df = anndata.obs.loc[:,['louvain', 'Cell type']]\n",
    "    M = df.count()[0] # size of population\n",
    "#     print(\"M:{}\".format(M))\n",
    "\n",
    "    cellTypes = cellTypesInClusters[clusterId]\n",
    "    for cellType in cellTypes:\n",
    "        # count the number of cells in the cluster\n",
    "        rows = df['louvain'] == clusterId\n",
    "        N = sum(rows)\n",
    "\n",
    "        totalCount = cellCount(df, cellType)\n",
    "        n = totalCount # number of cell types in populations\n",
    "\n",
    "        randomVariable = stats.hypergeom(M, n, N)\n",
    "        x = cellCountsByClusterId[cellType][clusterId]\n",
    "        pValue = 1.0 - randomVariable.cdf(x)\n",
    "        \n",
    "        ret.append( (cellType, pValue, x, M, n, N) )\n",
    "        \n",
    "    return ret\n",
    "          \n",
    "ret = annotationProbsForCluster(anndata, cellTypesInClusters, clusterId='0')\n",
    "\n",
    "# print(\"\\n\\n************\\nret:\\n{}\".format(ret))"
   ]
  },
  {
   "cell_type": "code",
   "execution_count": null,
   "metadata": {},
   "outputs": [],
   "source": [
    "def bestAnnotation(anndata, cellTypesInClusters):\n",
    "    '''\n",
    "    uses hypergeometric distribution to best-matching cell type annotation \n",
    "    \n",
    "    returns:\n",
    "        dataframe with a row for each cluster. the columns are 'cell type' and probablity\n",
    "    '''\n",
    "    clusterIds = cellTypesInClusters.keys()\n",
    "    retDF = pd.DataFrame()\n",
    "    \n",
    "    for clusterId in clusterIds:\n",
    "        stats = annotationProbsForCluster(anndata, cellTypesInClusters, clusterId)\n",
    "\n",
    "        best = min(stats, key=lambda tup : tup[K_P_VALUE])\n",
    "\n",
    "        bestDF = pd.DataFrame( data={'clusterId':int(clusterId),\n",
    "                                     'Cell type':best[K_CELLTYPE],\n",
    "                                     'p-value':best[K_P_VALUE]}, \n",
    "                                index=[int(clusterId)] )\n",
    "        retDF = retDF.append(bestDF)\n",
    "    \n",
    "    return retDF\n",
    "        "
   ]
  },
  {
   "cell_type": "code",
   "execution_count": null,
   "metadata": {
    "scrolled": false
   },
   "outputs": [],
   "source": [
    "retDF = bestAnnotation(anndata, cellTypesInClusters)  \n",
    "retDF.sort_values(by=['clusterId'])"
   ]
  },
  {
   "cell_type": "markdown",
   "metadata": {},
   "source": [
    "## 2.d. [5 pts] \n",
    "Turn in a list of top 5 pathways for each cluster in each dataset. You should\n",
    "use the gene expression signature of each cluster to find an associated pathway. A gene\n",
    "signature for a cluster represents the gene expression levels for a characteristic cell that is a\n",
    "member of the cluster. Use the centroid 𝞵 i of the i th cluster as the signature. Compute the\n",
    "centroids for each cluster in each dataset. You will next derive a gene-signature based\n",
    "annotation for each cluster using these centroids. Use a list of Gene Ontology Biological\n",
    "Process categories (provided in the Resources section at the top of this homework) and your\n",
    "signatures to perform an all-against-all Gene Set Enrichment Analysis (GSEA). Turn in a table\n",
    "that lists the top 5 pathways for each cluster"
   ]
  },
  {
   "cell_type": "markdown",
   "metadata": {},
   "source": [
    "1. create a data frame we can use to select the cells in a given cluster\n",
    "    a. we need the index value we can use to to get the cell's expression\n",
    "    values from the numpy array anndata.obsm['X_pca'].shape"
   ]
  },
  {
   "cell_type": "code",
   "execution_count": null,
   "metadata": {},
   "outputs": [],
   "source": [
    "def getCellsIdxForCluster(anndata, clusterId):\n",
    "    '''\n",
    "    returns a list of indices that can be use to select the cells in \n",
    "    the cluster. the indices are int values that correspond to the\n",
    "    rows in the numpy array anndata.obsm['X_pca']\n",
    "    \n",
    "    assumes clustering algorithym was run and results stored in\n",
    "    anndata.obs['louvain']\n",
    "    \n",
    "    arguments:\n",
    "        anndata\n",
    "        clusterId: a string\n",
    "    '''\n",
    "    numCells = anndata.obs['louvain'].size\n",
    "\n",
    "    numpyArrayIdx = [i for i in range(numCells)]\n",
    "    d = {'louvain':anndata.obs['louvain'], 'npIdx':numpyArrayIdx }\n",
    "    louvainDF = pd.DataFrame(data=d)\n",
    "    \n",
    "    clusterCells = louvainDF['louvain'] == clusterId\n",
    "    ret = louvainDF.loc[clusterCells, ['npIdx']]\n",
    "    return ret.values.flatten()\n",
    "    \n",
    "def testGetCellsIdxForCluster(anndata):\n",
    "    ret = getCellsIdxForCluster(anndata,clusterId='9')\n",
    "    print(\"TEST len(ret):{}\".format(len(ret)))\n",
    "    \n",
    "testGetCellsIdxForCluster(anndata)"
   ]
  },
  {
   "cell_type": "code",
   "execution_count": null,
   "metadata": {},
   "outputs": [],
   "source": [
    "def getGeneExpressionSignatureForCluster(anndata, clusterId):\n",
    "    '''\n",
    "    returns the centroid for cluster\n",
    "    \n",
    "    assumes:\n",
    "        1) gene expression values stored in anndata.X\n",
    "        \n",
    "        2) clustering algorithym was run and results stored in\n",
    "            anndata.obs['louvain']\n",
    "    \n",
    "    arguments:\n",
    "        anndata\n",
    "        clusterId: a string\n",
    "    '''\n",
    "    cellIndices = getCellsIdxForCluster(anndata ,clusterId)\n",
    "    # pathways are in gene space not pca(50) space\n",
    "    # anndata.obsm is a pandas data frame\n",
    "    # data = anndata.obsm['X_pca'][cellIndices]\n",
    "    # anndata.X is numpy array\n",
    "    data = anndata.X[cellIndices, :]\n",
    "\n",
    "    byColumns = 0\n",
    "    return np.mean(data, axis=byColumns)\n",
    "\n",
    "def testGetGeneExpressionSignatureForCluster(anndata):\n",
    "    ret = getGeneExpressionSignatureForCluster(anndata, clusterId='9')\n",
    "    # Sample data \n",
    "    # PCA 50\n",
    "    #expFirst = np.array([-5.547451, 13.029236, -0.9483415, \n",
    "    #                    -5.8531246, -2.0250516])\n",
    "    #expLast = np.array([-0.05719902, -0.16065401, 0.14730875, \n",
    "    #                    0.00936914, -0.06920523])\n",
    "    \n",
    "    # anndata.XC\n",
    "    print(\"TEST ret[0:5]:\\n{}\".format(ret[0:5]))\n",
    "    print(\"TEST ret[-5:]:\\n{}\".format(ret[-5:]))\n",
    "    \n",
    "testGetGeneExpressionSignatureForCluster(anndata)"
   ]
  },
  {
   "cell_type": "code",
   "execution_count": null,
   "metadata": {},
   "outputs": [],
   "source": [
    "def calculateClusterSignatures(anndata):\n",
    "    '''\n",
    "    for each cluster calls getGeneExpressionSignatureForCluster()\n",
    "    \n",
    "    returns a dictionary. Key is the cluster id, value is its signature\n",
    "    '''\n",
    "\n",
    "    numCells = anndata.obs['louvain'].size\n",
    "    numpyArrayIdx = [i for i in range(numCells)]\n",
    "    d = {'louvain':anndata.obs['louvain'], 'npIdx':numpyArrayIdx }\n",
    "    louvainDF = pd.DataFrame(data=d)\n",
    "    \n",
    "    clusterSigs = {}\n",
    "    for clusterId in pd.unique(louvainDF['louvain']) :\n",
    "        sig = getGeneExpressionSignatureForCluster(anndata, clusterId)\n",
    "        clusterSigs[clusterId] = sig\n",
    "    \n",
    "    return clusterSigs\n",
    "\n",
    "clusterSigs = calculateClusterSignatures(anndata)"
   ]
  },
  {
   "cell_type": "code",
   "execution_count": null,
   "metadata": {},
   "outputs": [],
   "source": [
    "def rankPathWaysForCluster(anndata, clusterSigs, clusterId):\n",
    "    '''\n",
    "    # to speed up testing do not run if results have already been calculated\n",
    "    \n",
    "    returns a tuple (cvsPath, preRes)\n",
    "        if cvsPath exists preRes == None\n",
    "    '''\n",
    "    rnkDf = pd.DataFrame(data={'gene':anndata.var['GeneName-0'],\n",
    "                               'score':clusterSigs[clusterId]})\n",
    "    \n",
    "    base = './gseapy.out/prerank_report_GO_Biological_Process_2018_clusterId-' \n",
    "    path = base + clusterId\n",
    "    #print(\"path:{}\".format(path))\n",
    "    \n",
    "    # path to output from previous run\n",
    "    csvPath = path + \"/\" + 'gseapy.prerank.gene_sets.report.csv'\n",
    "    #print(\"cvsPath:{}\".format(csvPath))\n",
    "    \n",
    "    # to speed up debugging do not run if results have already been \n",
    "    # calculated\n",
    "    ret = None\n",
    "    exists = os.path.isfile(csvPath)\n",
    "    if exists:\n",
    "        # gseapy.gsea.Prerank\n",
    "        # type(ret):<class 'gseapy.gsea.Prerank'>\n",
    "        #ret.outdir = csvPath \n",
    "        ret = (csvPath, None)\n",
    "    else:\n",
    "        preRes = gp.prerank(rnk=rnkDf, \n",
    "                         gene_sets='GO_Biological_Process_2018',\n",
    "                         processes=4,\n",
    "                         permutation_num=100, # reduce number to speed up test\n",
    "                         outdir=path,format='png')\n",
    "        ret = (csvPath, preRes)\n",
    "        \n",
    "    #print(\"type(ret):{}\".format(type(ret)))\n",
    "    return ret"
   ]
  },
  {
   "cell_type": "code",
   "execution_count": null,
   "metadata": {},
   "outputs": [],
   "source": [
    "def rankPathWays(anndata, clusterSigs, topN=5):\n",
    "    '''\n",
    "    returns a panda dataframe with columns Term, nes, cluster id\n",
    "        Term: pathway\n",
    "        nes: normalized enrichment score\n",
    "        cluster id: an integer\n",
    "    '''\n",
    "    retDF = pd.DataFrame()\n",
    "    for clusterId in clusterSigs.keys():\n",
    "        csvPath, preRes = rankPathWaysForCluster(anndata, \n",
    "                                         clusterSigs, \n",
    "                                         clusterId)\n",
    "        df = pd.read_csv(csvPath)\n",
    "        df2 = df.sort_values(by='nes', ascending=False)\n",
    "        df3 = df2.iloc[0:topN, [0, 2]]\n",
    "        numRows = df3.shape[0]\n",
    "        cid = [int(clusterId) for j in range(numRows)]\n",
    "        df3['cluster id'] = cid\n",
    "        retDF = retDF.append(df3)\n",
    "        \n",
    "    retDF = retDF.sort_values(by='cluster id')\n",
    "    return retDF  "
   ]
  },
  {
   "cell_type": "code",
   "execution_count": null,
   "metadata": {},
   "outputs": [],
   "source": [
    "%%time\n",
    "retDF = rankPathWays(anndata, clusterSigs, topN=5)"
   ]
  },
  {
   "cell_type": "code",
   "execution_count": null,
   "metadata": {
    "scrolled": false
   },
   "outputs": [],
   "source": [
    "# https://stackoverflow.com/a/35693013/4586180\n",
    "# display data frame with out index column\n",
    "from IPython.display import display, HTML\n",
    "display(HTML(retDF.to_html(index=False)))"
   ]
  }
 ],
 "metadata": {
  "kernelspec": {
   "display_name": "Python 3",
   "language": "python",
   "name": "python3"
  },
  "language_info": {
   "codemirror_mode": {
    "name": "ipython",
    "version": 3
   },
   "file_extension": ".py",
   "mimetype": "text/x-python",
   "name": "python",
   "nbconvert_exporter": "python",
   "pygments_lexer": "ipython3",
   "version": "3.7.3"
  }
 },
 "nbformat": 4,
 "nbformat_minor": 2
}
