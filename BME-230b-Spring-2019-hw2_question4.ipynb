{
 "cells": [
  {
   "cell_type": "markdown",
   "metadata": {},
   "source": [
    "# BME-230B Spring 2019 HW 4 Question \n",
    "James Casaletto, Andrew Davidson, Yuanqing Xue, Jim Zheng\n",
    "\n",
    "## <span style=\"color:red\">TODO</span>\n",
    "* 4.a does not ask for graph. its useful for debugging\n",
    "* 4.b\n",
    "* remove louvain debug cell\n",
    "* add ref: URLS\n",
    "* is this correct? did not fix the warning/errors from sc.tl.louvain and sc.tl.umap\n",
    "    - see  euclid_bbknn.py _update_adata(self, l=None):\n",
    "    ```\n",
    "    n = self._neighbors_within_batch\n",
    "    if l:\n",
    "        n = self._numBatches * l\n",
    "\n",
    "    self._adata.uns['neighbors']['params']['n_neighbors']=n\n",
    "    ```"
   ]
  },
  {
   "cell_type": "markdown",
   "metadata": {},
   "source": [
    "## 4.a. [10 pts] \n",
    "Turn in code that can compute a bb-l-k-NNG from a given bb-k-NNG. In addition to the input bb-k-NNG, the method should take in a parameter specifying the number of subsampled graphs that should be returned. Each of the returned subsampled graphs should represent a distinct sub-sampled bb-l-k-NNG from the given input graph. Fill in the l_k_bbknn method in euclid_bknn.py. You can set the l parameter accordingly. NOTE: in order to run this function successfully you will have to run the bbknn() method first, and then run the l_k_bbknn method. Consult example usage within euclid_bbknn.py.\n"
   ]
  },
  {
   "cell_type": "code",
   "execution_count": null,
   "metadata": {},
   "outputs": [],
   "source": [
    "from euclid_bbknn import bbknn_graph\n",
    "# import gseapy as gp\n",
    "import matplotlib.pyplot as plt\n",
    "# import numpy as np\n",
    "# import os\n",
    "\n",
    "\n",
    "#import pandas as pd\n",
    "#import scanpy.api as sc\n",
    "import scanpy as sc\n",
    "print(\"scanpy.__version__:{}\".format(sc.__version__))"
   ]
  },
  {
   "cell_type": "code",
   "execution_count": null,
   "metadata": {},
   "outputs": [],
   "source": [
    "%%time\n",
    "anndata = sc.read(\"PBMC.merged.h5ad\")"
   ]
  },
  {
   "cell_type": "code",
   "execution_count": null,
   "metadata": {},
   "outputs": [],
   "source": [
    "%%time\n",
    "# run our implementation of nearest neighboors and update anndata\n",
    "bb6nn = bbknn_graph(anndata, neighbors_within_batch=6, runPCA=True, pcs=50)"
   ]
  },
  {
   "cell_type": "code",
   "execution_count": null,
   "metadata": {},
   "outputs": [],
   "source": [
    "%%time\n",
    "sc.tl.louvain(anndata,\n",
    "                  flavor='igraph', \n",
    "                  directed=False, \n",
    "                  use_weights=True)"
   ]
  },
  {
   "cell_type": "code",
   "execution_count": null,
   "metadata": {},
   "outputs": [],
   "source": [
    "# save the bb6nn results. we will need them for 4.b\n",
    "bb6nnConnectivities = anndata.uns['neighbors']['connectivities']\n",
    "bb6nnDistances      = anndata.uns['neighbors']['distances']\n",
    "bb6nnLouvain        = anndata.obs['louvain']"
   ]
  },
  {
   "cell_type": "code",
   "execution_count": null,
   "metadata": {},
   "outputs": [],
   "source": [
    "# debug\n",
    "bb6nnLouvain.head()"
   ]
  },
  {
   "cell_type": "code",
   "execution_count": null,
   "metadata": {},
   "outputs": [],
   "source": [
    "# how to you print csr_matrix ?\n",
    "# https://docs.scipy.org/doc/scipy/reference/generated/scipy.sparse.csr_matrix.html#scipy.sparse.csr_matrix\n",
    "print(type(bb6nnConnectivities))\n",
    "print(bb6nnConnectivities.shape)\n",
    "print(type(bb6nnConnectivities[10:15, 0:5]))\n",
    "print(bb6nnConnectivities[0:5, 0:5])"
   ]
  },
  {
   "cell_type": "code",
   "execution_count": null,
   "metadata": {},
   "outputs": [],
   "source": [
    "## <span style=\"color:red\">AEDWIP</span>"
   ]
  },
  {
   "cell_type": "code",
   "execution_count": null,
   "metadata": {},
   "outputs": [],
   "source": [
    "%%time\n",
    "bb6nn.l_k_bbknn(l=3)"
   ]
  },
  {
   "cell_type": "code",
   "execution_count": null,
   "metadata": {},
   "outputs": [],
   "source": [
    "%%time\n",
    "sc.tl.louvain(anndata,\n",
    "                  flavor='igraph', \n",
    "                  directed=False, \n",
    "                  use_weights=True)"
   ]
  },
  {
   "cell_type": "code",
   "execution_count": null,
   "metadata": {},
   "outputs": [],
   "source": [
    "# save the bb3-6nn results. we will need them for 4.b\n",
    "bb3_6nnConnectivities = anndata.uns['neighbors']['connectivities']\n",
    "bb3_6nnDistances      = anndata.uns['neighbors']['distances']\n",
    "bb3_6nnLouvain        = anndata.obs['louvain']"
   ]
  },
  {
   "cell_type": "code",
   "execution_count": null,
   "metadata": {},
   "outputs": [],
   "source": []
  },
  {
   "cell_type": "code",
   "execution_count": null,
   "metadata": {},
   "outputs": [],
   "source": [
    "%%time\n",
    "sc.tl.umap(anndata)"
   ]
  },
  {
   "cell_type": "code",
   "execution_count": null,
   "metadata": {},
   "outputs": [],
   "source": [
    "plt.figure(figsize=(10,10))\n",
    "sc.pl.umap(anndata, color=[\"louvain\"])"
   ]
  },
  {
   "cell_type": "markdown",
   "metadata": {},
   "source": [
    "## 4.b. [10 pts] \n",
    "Turn in a bar plot of the Adjusted Rand Index (ARI) for Louvain clusters obtained from 10 independently subsampled bb-3-6-NNGs compared to the Louvain clusters obtained on the original bb-6-NNGs. Also report the average and standard deviations of the ARI. Based on these results, would you conclude these clusters are robust? Justify your answer. Hint: check if your ARI is significantly better than chance.\n"
   ]
  },
  {
   "cell_type": "code",
   "execution_count": null,
   "metadata": {},
   "outputs": [],
   "source": [
    "from sklearn.metrics.cluster import adjusted_rand_score\n",
    "import numpy as np\n",
    "import matplotlib.pyplot as plt\n",
    "\n",
    "# number of subsamples to run\n",
    "subsamples = 10\n",
    "\n",
    "# list of ARIs obtained from each subsample\n",
    "results = []\n",
    "\n",
    "for sample in range(subsamples):\n",
    "    bb3_6nn = bb6nn.l_k_bbknn(l=3)\n",
    "    sc.tl.louvain(anndata, flavor='igraph', directed=False, use_weights=True)\n",
    "    bb3_6nnConnectivities = anndata.uns['neighbors']['connectivities']\n",
    "    bb3_6nnDistances      = anndata.uns['neighbors']['distances']\n",
    "    bb3_6nnLouvain        = anndata.obs['louvain']\n",
    "    ars = adjusted_rand_score(bb3_6nnLouvain, bb6nnLouvain)\n",
    "    print('sample', sample, 'finished')\n",
    "    results.append(ars)\n",
    "\n",
    "# plot ARIs and print statistics\n",
    "plt.bar(range(len(results)), results, color='black')\n",
    "print('Average:', np.mean(results), 'SD:', np.std(results))"
   ]
  }
 ],
 "metadata": {
  "kernelspec": {
   "display_name": "Python 3",
   "language": "python",
   "name": "python3"
  },
  "language_info": {
   "codemirror_mode": {
    "name": "ipython",
    "version": 3
   },
   "file_extension": ".py",
   "mimetype": "text/x-python",
   "name": "python",
   "nbconvert_exporter": "python",
   "pygments_lexer": "ipython3",
   "version": "3.6.8"
  }
 },
 "nbformat": 4,
 "nbformat_minor": 2
}
