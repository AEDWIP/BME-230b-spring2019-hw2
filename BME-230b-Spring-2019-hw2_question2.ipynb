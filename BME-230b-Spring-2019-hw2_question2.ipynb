{
 "cells": [
  {
   "cell_type": "markdown",
   "metadata": {},
   "source": [
    "# Hw 2 question 2\n",
    "\n",
    "supposedly it took Andrew and Yianni 3 days to write the louvain clustering algo. The inner loop is about 100 lines.\n",
    "\n",
    "Given we only get 10 pts for the implementation and we are running out of time lets use the scanpy version for now\n",
    "\n",
    "- ref\n",
    "    * [scanpy.tl.umap](https://icb-scanpy.readthedocs-hosted.com/en/stable/api/scanpy.tl.umap.html)\n",
    "    * [scanpy.api.pp.neighbors](https://icb-scanpy.readthedocs-hosted.com/en/stable/api/scanpy.api.pp.neighbors.html?highlight=neighbors)\n",
    "    * [scanpy.pl.umap](https://icb-scanpy.readthedocs-hosted.com/en/stable/api/scanpy.pl.umap.html#scanpy.pl.umap)\n",
    "    * [anndata](https://anndata.readthedocs.io/en/latest/anndata.AnnData.html)\n",
    "        + \"uns\" stands for unstructured data\n",
    "        + \"obs\" are panda data frame observations \n",
    "        + \"obsm key-indexed multi-dimensional observations"
   ]
  },
  {
   "cell_type": "code",
   "execution_count": 1,
   "metadata": {},
   "outputs": [
    {
     "name": "stdout",
     "output_type": "stream",
     "text": [
      "scanpy.__version__:1.4.1\n"
     ]
    }
   ],
   "source": [
    "import numpy\n",
    "import pandas as pd\n",
    "import scanpy\n",
    "print(\"scanpy.__version__:{}\".format(scanpy.__version__))\n",
    "\n",
    "import scanpy.api as api"
   ]
  },
  {
   "cell_type": "markdown",
   "metadata": {},
   "source": [
    "## Load the data and explore the anndata"
   ]
  },
  {
   "cell_type": "code",
   "execution_count": 2,
   "metadata": {},
   "outputs": [],
   "source": [
    "anndata = api.read(\"PBMC.merged.h5ad\")"
   ]
  },
  {
   "cell_type": "code",
   "execution_count": 3,
   "metadata": {},
   "outputs": [
    {
     "data": {
      "text/plain": [
       "odict_keys(['Cell type_colors', 'Method_colors', 'Sample_colors', 'anno_colors', 'louvain', 'louvain_colors', 'neighbors', 'rank_genes_groups'])"
      ]
     },
     "execution_count": 3,
     "metadata": {},
     "output_type": "execute_result"
    }
   ],
   "source": [
    "anndata.uns.keys()"
   ]
  },
  {
   "cell_type": "code",
   "execution_count": 4,
   "metadata": {},
   "outputs": [
    {
     "data": {
      "text/plain": [
       "{'connectivities': <15476x15476 sparse matrix of type '<class 'numpy.float64'>'\n",
       " \twith 350180 stored elements in Compressed Sparse Row format>,\n",
       " 'distances': <15476x15476 sparse matrix of type '<class 'numpy.float64'>'\n",
       " \twith 216679 stored elements in Compressed Sparse Row format>,\n",
       " 'params': {'method': 'umap', 'n_neighbors': 15}}"
      ]
     },
     "execution_count": 4,
     "metadata": {},
     "output_type": "execute_result"
    }
   ],
   "source": [
    "anndata.uns['neighbors']"
   ]
  },
  {
   "cell_type": "code",
   "execution_count": 5,
   "metadata": {},
   "outputs": [
    {
     "data": {
      "text/plain": [
       "Index(['Sample', 'n_counts', 'n_genes', 'batch', 'louvain', 'anno', 'Method',\n",
       "       'Cell type'],\n",
       "      dtype='object')"
      ]
     },
     "execution_count": 5,
     "metadata": {},
     "output_type": "execute_result"
    }
   ],
   "source": [
    "anndata.obs.keys()"
   ]
  },
  {
   "cell_type": "code",
   "execution_count": 6,
   "metadata": {},
   "outputs": [
    {
     "data": {
      "text/plain": [
       "('X_pca', 'X_umap', 'X_tsne')"
      ]
     },
     "execution_count": 6,
     "metadata": {},
     "output_type": "execute_result"
    }
   ],
   "source": [
    "anndata.obsm.keys()"
   ]
  },
  {
   "cell_type": "code",
   "execution_count": 7,
   "metadata": {},
   "outputs": [
    {
     "name": "stdout",
     "output_type": "stream",
     "text": [
      "anndata.obsm['X_umap'].shape:(15476, 2)\n"
     ]
    },
    {
     "data": {
      "text/plain": [
       "array([[  5.22802598, -12.95435605],\n",
       "       [  6.55507112,  11.33216615],\n",
       "       [  2.77255624,   9.3685141 ],\n",
       "       ...,\n",
       "       [  7.9267579 ,  -6.59574586],\n",
       "       [-14.63327089,   5.05999486],\n",
       "       [  1.79479544,  -2.50853541]])"
      ]
     },
     "execution_count": 7,
     "metadata": {},
     "output_type": "execute_result"
    }
   ],
   "source": [
    "print(\"anndata.obsm['X_umap'].shape:{}\".format(anndata.obsm['X_umap'].shape))\n",
    "anndata.obsm['X_umap']"
   ]
  },
  {
   "cell_type": "markdown",
   "metadata": {},
   "source": [
    "## reverse engine scanpy neighbors\n",
    "calling neighbors updates anndata.uns['neighbors']"
   ]
  },
  {
   "cell_type": "code",
   "execution_count": 8,
   "metadata": {},
   "outputs": [
    {
     "name": "stdout",
     "output_type": "stream",
     "text": [
      "CPU times: user 11.5 s, sys: 456 ms, total: 12 s\n",
      "Wall time: 7.72 s\n"
     ]
    }
   ],
   "source": [
    "%%time\n",
    "import scanpy.api.pp as pp\n",
    "neighborsAnndata = pp.neighbors(anndata, n_neighbors=12, \n",
    "                                           n_pcs=50,\n",
    "                                           copy=True)"
   ]
  },
  {
   "cell_type": "code",
   "execution_count": 9,
   "metadata": {},
   "outputs": [
    {
     "data": {
      "text/plain": [
       "{'params': {'n_neighbors': 12, 'method': 'umap'},\n",
       " 'distances': <15476x15476 sparse matrix of type '<class 'numpy.float64'>'\n",
       " \twith 170304 stored elements in Compressed Sparse Row format>,\n",
       " 'connectivities': <15476x15476 sparse matrix of type '<class 'numpy.float64'>'\n",
       " \twith 276558 stored elements in Compressed Sparse Row format>}"
      ]
     },
     "execution_count": 9,
     "metadata": {},
     "output_type": "execute_result"
    }
   ],
   "source": [
    "neighborsAnndata.uns['neighbors']"
   ]
  },
  {
   "cell_type": "markdown",
   "metadata": {},
   "source": [
    "## reverse engineer scanpy umap\n",
    "changes X_umap in adata.obsm. Shape is still the same"
   ]
  },
  {
   "cell_type": "code",
   "execution_count": 10,
   "metadata": {},
   "outputs": [
    {
     "name": "stdout",
     "output_type": "stream",
     "text": [
      "CPU times: user 13.8 s, sys: 382 ms, total: 14.2 s\n",
      "Wall time: 10.7 s\n"
     ]
    }
   ],
   "source": [
    "%%time\n",
    "#import scanpy.tl as tl\n",
    "import scanpy.api.tl as tl\n",
    "umapAnndata = tl.umap(neighborsAnndata, copy=True)"
   ]
  },
  {
   "cell_type": "code",
   "execution_count": 11,
   "metadata": {},
   "outputs": [
    {
     "name": "stdout",
     "output_type": "stream",
     "text": [
      "umapAnndata.obsm['X_umap'].shape:(15476, 2)\n"
     ]
    },
    {
     "data": {
      "text/plain": [
       "array([[-10.3389189 ,   4.22456398],\n",
       "       [  1.33525599, -12.37560098],\n",
       "       [ -2.86763376,  -9.7511629 ],\n",
       "       ...,\n",
       "       [ -6.19845091,  -4.45192189],\n",
       "       [ 12.2907242 ,  -4.62321576],\n",
       "       [ -1.09135604,  -0.89688203]])"
      ]
     },
     "execution_count": 11,
     "metadata": {},
     "output_type": "execute_result"
    }
   ],
   "source": [
    "print(\"umapAnndata.obsm['X_umap'].shape:{}\".format(umapAnndata.obsm['X_umap'].shape))\n",
    "umapAnndata.obsm['X_umap']"
   ]
  },
  {
   "cell_type": "code",
   "execution_count": null,
   "metadata": {},
   "outputs": [],
   "source": []
  },
  {
   "cell_type": "code",
   "execution_count": 12,
   "metadata": {},
   "outputs": [
    {
     "name": "stdout",
     "output_type": "stream",
     "text": [
      "values we can set umap color argument to:\n",
      "Index(['Sample', 'n_counts', 'n_genes', 'batch', 'louvain', 'anno', 'Method',\n",
      "       'Cell type'],\n",
      "      dtype='object')\n"
     ]
    }
   ],
   "source": [
    "# aedwip\n",
    "# obs.batch we can get a logical knock out to select batch 1 and batch 2\n",
    "# then maybe call pl.umap twice\n",
    "print(\"values we can set umap color argument to:\\n{}\".format(umapAnndata.obs.keys()))"
   ]
  },
  {
   "cell_type": "code",
   "execution_count": 13,
   "metadata": {},
   "outputs": [
    {
     "data": {
      "image/png": "[encoded data removed]",
      "text/plain": [
       "<Figure size 432x288 with 1 Axes>"
      ]
     },
     "metadata": {},
     "output_type": "display_data"
    }
   ],
   "source": [
    "# you can use batch or method\n",
    "# you get the same sckater plot, just different labels\n",
    "#scanpy.pl.umap(umapAnndata, color=['batch'])\n",
    "scanpy.pl.umap(umapAnndata, color=['Method'])"
   ]
  },
  {
   "cell_type": "code",
   "execution_count": null,
   "metadata": {},
   "outputs": [],
   "source": []
  },
  {
   "cell_type": "code",
   "execution_count": null,
   "metadata": {},
   "outputs": [],
   "source": []
  },
  {
   "cell_type": "code",
   "execution_count": null,
   "metadata": {},
   "outputs": [],
   "source": []
  },
  {
   "cell_type": "code",
   "execution_count": null,
   "metadata": {},
   "outputs": [],
   "source": []
  },
  {
   "cell_type": "code",
   "execution_count": null,
   "metadata": {},
   "outputs": [],
   "source": []
  },
  {
   "cell_type": "code",
   "execution_count": null,
   "metadata": {},
   "outputs": [],
   "source": []
  },
  {
   "cell_type": "code",
   "execution_count": null,
   "metadata": {},
   "outputs": [],
   "source": []
  },
  {
   "cell_type": "code",
   "execution_count": null,
   "metadata": {},
   "outputs": [],
   "source": []
  },
  {
   "cell_type": "code",
   "execution_count": null,
   "metadata": {},
   "outputs": [],
   "source": []
  },
  {
   "cell_type": "code",
   "execution_count": null,
   "metadata": {},
   "outputs": [],
   "source": []
  }
 ],
 "metadata": {
  "kernelspec": {
   "display_name": "Python 3",
   "language": "python",
   "name": "python3"
  },
  "language_info": {
   "codemirror_mode": {
    "name": "ipython",
    "version": 3
   },
   "file_extension": ".py",
   "mimetype": "text/x-python",
   "name": "python",
   "nbconvert_exporter": "python",
   "pygments_lexer": "ipython3",
   "version": "3.7.3"
  }
 },
 "nbformat": 4,
 "nbformat_minor": 2
}
