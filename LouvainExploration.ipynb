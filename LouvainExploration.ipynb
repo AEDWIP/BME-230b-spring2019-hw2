{
 "cells": [
  {
   "cell_type": "markdown",
   "metadata": {},
   "source": [
    "# igraph louvain experiments\n",
    "\n",
    "\n",
    "ref:\n",
    "- [tutorial](https://igraph.org/python/doc/tutorial/tutorial.html)\n",
    "- [GraphBase modularity](https://igraph.org/python/doc/igraph.GraphBase-class.html#modularity)\n",
    "    * membership argument is a list of vertex index\n",
    "    * weights is a list of edge weights\n",
    "- [Graph modularity](https://igraph.org/python/doc/igraph.Graph-class.html#modularity)\n",
    "    * membership can be a list or a VertexClustering obj\n",
    "- [clustering](https://igraph.org/python/doc/igraph.clustering.Clustering-class.html)\n",
    "    * use VertexClustering instead, it has more functionality\n",
    "- [VertexClustering](https://igraph.org/python/doc/igraph.clustering.VertexClustering-class.html)\n",
    "    * cluster_graph() Returns a graph where each cluster is contracted into a single vertex.\n",
    "    * subgraph() ???\n",
    "- [VertexSeq](https://igraph.org/python/doc/igraph.VertexSeq-class.html)\n",
    "- [cover](https://igraph.org/python/doc/igraph.clustering.Cover-class.html)\n",
    "    * Covers are similar to clusterings, but each element of the set may belong to more than one cluster in a cover, and elements not belonging to any cluster are also allowed\n",
    " "
   ]
  },
  {
   "cell_type": "code",
   "execution_count": 1,
   "metadata": {},
   "outputs": [
    {
     "name": "stdout",
     "output_type": "stream",
     "text": [
      "igraph version:0.7.1\n"
     ]
    }
   ],
   "source": [
    "import igraph as ig\n",
    "print(\"igraph version:{}\".format(ig.__version__))\n",
    "\n",
    "import numpy as np"
   ]
  },
  {
   "cell_type": "markdown",
   "metadata": {},
   "source": [
    "# How to graphs and clusters work?\n",
    "\n",
    "## create social graph from tutorial"
   ]
  },
  {
   "cell_type": "code",
   "execution_count": 2,
   "metadata": {},
   "outputs": [],
   "source": [
    "g = ig.Graph([(0,1), (0,2), (2,3), (3,4), (4,2), (2,5), (5,0), (6,3), (5,6)])\n",
    "    \n",
    "# add attributes to the vertices\n",
    "g.vs[\"name\"] = \\\n",
    "    [\"Alice\", \"Bob\", \"Claire\", \"Dennis\", \"Esther\", \"Frank\", \"George\"]\n",
    "g.vs[\"age\"] = [25, 31, 18, 47, 22, 23, 50]\n",
    "g.vs[\"gender\"] = [\"f\", \"m\", \"f\", \"m\", \"f\", \"m\", \"m\"]\n",
    "\n",
    "# add attributes to the edges\n",
    "g.es[\"is_formal\"] = [False, False, True, True, True, False, True, False, False]"
   ]
  },
  {
   "cell_type": "code",
   "execution_count": 3,
   "metadata": {},
   "outputs": [
    {
     "name": "stdout",
     "output_type": "stream",
     "text": [
      "IGRAPH UN-- 7 9 --\n",
      "+ attr: age (v), gender (v), name (v), is_formal (e)\n",
      "+ edges (vertex names):\n",
      " Alice -- Bob, Claire, Frank             Esther -- Claire, Dennis\n",
      "   Bob -- Alice                           Frank -- Alice, Claire, George\n",
      "Claire -- Alice, Dennis, Esther, Frank   George -- Dennis, Frank\n",
      "Dennis -- Claire, Esther, George\n"
     ]
    }
   ],
   "source": [
    "print(g)"
   ]
  },
  {
   "cell_type": "code",
   "execution_count": 4,
   "metadata": {},
   "outputs": [
    {
     "data": {
      "image/svg+xml": [
       "<?xml version=\"1.0\" encoding=\"UTF-8\"?>\n",
       "<svg xmlns=\"http://www.w3.org/2000/svg\" xmlns:xlink=\"http://www.w3.org/1999/xlink\" width=\"250pt\" height=\"250pt\" viewBox=\"0 0 250 250\" version=\"1.1\">\n",
       "<defs>\n",
       "<g>\n",
       "<symbol overflow=\"visible\" id=\"glyph0-0\">\n",
       "<path style=\"stroke:none;\" d=\"M 0.453125 0 L 0.453125 -10.042969 L 8.421875 -10.042969 L 8.421875 0 Z M 7.164062 -1.257812 L 7.164062 -8.785156 L 1.710938 -8.785156 L 1.710938 -1.257812 Z M 7.164062 -1.257812 \"/>\n",
       "</symbol>\n",
       "<symbol overflow=\"visible\" id=\"glyph0-1\">\n",
       "<path style=\"stroke:none;\" d=\"M 6.21875 -4.117188 L 4.695312 -8.550781 L 3.078125 -4.117188 Z M 3.984375 -10.042969 L 5.523438 -10.042969 L 9.167969 0 L 7.675781 0 L 6.65625 -3.007812 L 2.6875 -3.007812 L 1.601562 0 L 0.203125 0 Z M 3.984375 -10.042969 \"/>\n",
       "</symbol>\n",
       "<symbol overflow=\"visible\" id=\"glyph0-2\">\n",
       "<path style=\"stroke:none;\" d=\"M 0.9375 -10.042969 L 2.167969 -10.042969 L 2.167969 0 L 0.9375 0 Z M 0.9375 -10.042969 \"/>\n",
       "</symbol>\n",
       "<symbol overflow=\"visible\" id=\"glyph0-3\">\n",
       "<path style=\"stroke:none;\" d=\"M 0.902344 -7.289062 L 2.152344 -7.289062 L 2.152344 0 L 0.902344 0 Z M 0.902344 -10.042969 L 2.152344 -10.042969 L 2.152344 -8.648438 L 0.902344 -8.648438 Z M 0.902344 -10.042969 \"/>\n",
       "</symbol>\n",
       "<symbol overflow=\"visible\" id=\"glyph0-4\">\n",
       "<path style=\"stroke:none;\" d=\"M 3.726562 -7.53125 C 4.550781 -7.53125 5.222656 -7.332031 5.738281 -6.929688 C 6.257812 -6.53125 6.566406 -5.839844 6.671875 -4.859375 L 5.476562 -4.859375 C 5.402344 -5.3125 5.234375 -5.6875 4.976562 -5.984375 C 4.71875 -6.28125 4.300781 -6.433594 3.726562 -6.433594 C 2.941406 -6.433594 2.382812 -6.050781 2.042969 -5.285156 C 1.824219 -4.789062 1.714844 -4.175781 1.714844 -3.445312 C 1.714844 -2.710938 1.871094 -2.09375 2.179688 -1.59375 C 2.492188 -1.09375 2.976562 -0.839844 3.644531 -0.839844 C 4.15625 -0.839844 4.558594 -0.996094 4.855469 -1.308594 C 5.15625 -1.621094 5.363281 -2.046875 5.476562 -2.589844 L 6.671875 -2.589844 C 6.535156 -1.621094 6.195312 -0.910156 5.648438 -0.460938 C 5.101562 -0.0117188 4.398438 0.210938 3.546875 0.210938 C 2.589844 0.210938 1.828125 -0.136719 1.257812 -0.835938 C 0.6875 -1.535156 0.402344 -2.410156 0.402344 -3.460938 C 0.402344 -4.746094 0.714844 -5.746094 1.339844 -6.460938 C 1.964844 -7.175781 2.757812 -7.53125 3.726562 -7.53125 Z M 3.726562 -7.53125 \"/>\n",
       "</symbol>\n",
       "<symbol overflow=\"visible\" id=\"glyph0-5\">\n",
       "<path style=\"stroke:none;\" d=\"M 3.953125 -7.484375 C 4.472656 -7.484375 4.972656 -7.363281 5.460938 -7.121094 C 5.949219 -6.875 6.320312 -6.558594 6.578125 -6.171875 C 6.824219 -5.804688 6.984375 -5.375 7.070312 -4.882812 C 7.140625 -4.542969 7.179688 -4.007812 7.179688 -3.265625 L 1.8125 -3.265625 C 1.835938 -2.523438 2.007812 -1.929688 2.335938 -1.480469 C 2.664062 -1.03125 3.175781 -0.804688 3.863281 -0.804688 C 4.503906 -0.804688 5.015625 -1.019531 5.398438 -1.441406 C 5.617188 -1.6875 5.773438 -1.972656 5.867188 -2.296875 L 7.074219 -2.296875 C 7.042969 -2.027344 6.9375 -1.726562 6.757812 -1.398438 C 6.578125 -1.066406 6.375 -0.796875 6.152344 -0.585938 C 5.777344 -0.222656 5.316406 0.0234375 4.765625 0.148438 C 4.46875 0.222656 4.132812 0.257812 3.757812 0.257812 C 2.847656 0.257812 2.074219 -0.0703125 1.441406 -0.734375 C 0.808594 -1.398438 0.492188 -2.328125 0.492188 -3.519531 C 0.492188 -4.695312 0.8125 -5.652344 1.449219 -6.382812 C 2.085938 -7.117188 2.921875 -7.484375 3.953125 -7.484375 Z M 5.914062 -4.246094 C 5.863281 -4.777344 5.746094 -5.203125 5.5625 -5.523438 C 5.226562 -6.117188 4.664062 -6.414062 3.875 -6.414062 C 3.3125 -6.414062 2.835938 -6.207031 2.453125 -5.800781 C 2.070312 -5.390625 1.867188 -4.875 1.84375 -4.246094 Z M 5.914062 -4.246094 \"/>\n",
       "</symbol>\n",
       "<symbol overflow=\"visible\" id=\"glyph0-6\">\n",
       "<path style=\"stroke:none;\" d=\"M 4.839844 -5.796875 C 5.414062 -5.796875 5.859375 -5.875 6.179688 -6.035156 C 6.679688 -6.285156 6.929688 -6.738281 6.929688 -7.390625 C 6.929688 -8.046875 6.664062 -8.488281 6.132812 -8.714844 C 5.832031 -8.84375 5.382812 -8.90625 4.792969 -8.90625 L 2.367188 -8.90625 L 2.367188 -5.796875 Z M 5.296875 -1.164062 C 6.132812 -1.164062 6.726562 -1.402344 7.082031 -1.886719 C 7.304688 -2.191406 7.417969 -2.5625 7.417969 -2.992188 C 7.417969 -3.722656 7.089844 -4.21875 6.4375 -4.484375 C 6.09375 -4.625 5.636719 -4.695312 5.066406 -4.695312 L 2.367188 -4.695312 L 2.367188 -1.164062 Z M 1.03125 -10.042969 L 5.34375 -10.042969 C 6.519531 -10.042969 7.359375 -9.691406 7.855469 -8.988281 C 8.148438 -8.574219 8.292969 -8.097656 8.292969 -7.554688 C 8.292969 -6.921875 8.113281 -6.402344 7.75 -5.996094 C 7.5625 -5.78125 7.296875 -5.585938 6.945312 -5.40625 C 7.460938 -5.210938 7.84375 -4.992188 8.101562 -4.742188 C 8.550781 -4.304688 8.777344 -3.703125 8.777344 -2.933594 C 8.777344 -2.285156 8.574219 -1.699219 8.167969 -1.175781 C 7.5625 -0.390625 6.597656 0 5.277344 0 L 1.03125 0 Z M 1.03125 -10.042969 \"/>\n",
       "</symbol>\n",
       "<symbol overflow=\"visible\" id=\"glyph0-7\">\n",
       "<path style=\"stroke:none;\" d=\"M 3.808594 -0.792969 C 4.625 -0.792969 5.183594 -1.101562 5.484375 -1.71875 C 5.789062 -2.335938 5.941406 -3.023438 5.941406 -3.78125 C 5.941406 -4.464844 5.832031 -5.019531 5.613281 -5.449219 C 5.265625 -6.125 4.667969 -6.460938 3.820312 -6.460938 C 3.070312 -6.460938 2.523438 -6.171875 2.179688 -5.597656 C 1.839844 -5.023438 1.667969 -4.332031 1.667969 -3.519531 C 1.667969 -2.742188 1.839844 -2.09375 2.179688 -1.570312 C 2.523438 -1.050781 3.066406 -0.792969 3.808594 -0.792969 Z M 3.855469 -7.53125 C 4.796875 -7.53125 5.597656 -7.21875 6.25 -6.589844 C 6.898438 -5.960938 7.226562 -5.035156 7.226562 -3.8125 C 7.226562 -2.632812 6.9375 -1.660156 6.363281 -0.890625 C 5.789062 -0.117188 4.898438 0.265625 3.691406 0.265625 C 2.683594 0.265625 1.882812 -0.0742188 1.292969 -0.753906 C 0.699219 -1.4375 0.402344 -2.351562 0.402344 -3.5 C 0.402344 -4.730469 0.714844 -5.710938 1.339844 -6.4375 C 1.964844 -7.167969 2.804688 -7.53125 3.855469 -7.53125 Z M 3.855469 -7.53125 \"/>\n",
       "</symbol>\n",
       "<symbol overflow=\"visible\" id=\"glyph0-8\">\n",
       "<path style=\"stroke:none;\" d=\"M 0.804688 -10.078125 L 2.003906 -10.078125 L 2.003906 -6.433594 C 2.273438 -6.785156 2.59375 -7.050781 2.96875 -7.234375 C 3.339844 -7.421875 3.746094 -7.511719 4.183594 -7.511719 C 5.09375 -7.511719 5.835938 -7.199219 6.402344 -6.574219 C 6.96875 -5.945312 7.253906 -5.023438 7.253906 -3.800781 C 7.253906 -2.644531 6.972656 -1.679688 6.414062 -0.914062 C 5.851562 -0.148438 5.074219 0.234375 4.082031 0.234375 C 3.523438 0.234375 3.054688 0.0976562 2.671875 -0.171875 C 2.445312 -0.332031 2.203125 -0.585938 1.941406 -0.9375 L 1.941406 0 L 0.804688 0 Z M 4.007812 -0.855469 C 4.671875 -0.855469 5.167969 -1.117188 5.5 -1.648438 C 5.828125 -2.175781 5.996094 -2.875 5.996094 -3.738281 C 5.996094 -4.507812 5.828125 -5.148438 5.5 -5.652344 C 5.167969 -6.160156 4.683594 -6.414062 4.039062 -6.414062 C 3.480469 -6.414062 2.988281 -6.203125 2.566406 -5.789062 C 2.144531 -5.375 1.933594 -4.691406 1.933594 -3.738281 C 1.933594 -3.050781 2.019531 -2.492188 2.195312 -2.0625 C 2.519531 -1.257812 3.121094 -0.855469 4.007812 -0.855469 Z M 4.007812 -0.855469 \"/>\n",
       "</symbol>\n",
       "<symbol overflow=\"visible\" id=\"glyph0-9\">\n",
       "<path style=\"stroke:none;\" d=\"M 5.296875 -10.316406 C 6.570312 -10.316406 7.554688 -9.980469 8.257812 -9.3125 C 8.960938 -8.640625 9.347656 -7.878906 9.425781 -7.027344 L 8.101562 -7.027344 C 7.949219 -7.675781 7.652344 -8.1875 7.203125 -8.566406 C 6.753906 -8.945312 6.121094 -9.132812 5.3125 -9.132812 C 4.324219 -9.132812 3.523438 -8.785156 2.914062 -8.089844 C 2.304688 -7.394531 2.003906 -6.328125 2.003906 -4.894531 C 2.003906 -3.71875 2.277344 -2.765625 2.828125 -2.035156 C 3.375 -1.304688 4.195312 -0.9375 5.285156 -0.9375 C 6.289062 -0.9375 7.050781 -1.320312 7.574219 -2.09375 C 7.851562 -2.5 8.058594 -3.03125 8.195312 -3.691406 L 9.523438 -3.691406 C 9.40625 -2.632812 9.011719 -1.746094 8.347656 -1.03125 C 7.550781 -0.171875 6.472656 0.257812 5.121094 0.257812 C 3.953125 0.257812 2.972656 -0.09375 2.179688 -0.800781 C 1.136719 -1.734375 0.617188 -3.175781 0.617188 -5.125 C 0.617188 -6.609375 1.007812 -7.824219 1.789062 -8.769531 C 2.636719 -9.800781 3.808594 -10.316406 5.296875 -10.316406 Z M 5.296875 -10.316406 \"/>\n",
       "</symbol>\n",
       "<symbol overflow=\"visible\" id=\"glyph0-10\">\n",
       "<path style=\"stroke:none;\" d=\"M 1.84375 -1.949219 C 1.84375 -1.59375 1.976562 -1.3125 2.234375 -1.109375 C 2.496094 -0.902344 2.804688 -0.800781 3.15625 -0.800781 C 3.589844 -0.800781 4.011719 -0.898438 4.414062 -1.101562 C 5.097656 -1.433594 5.441406 -1.976562 5.441406 -2.734375 L 5.441406 -3.726562 C 5.289062 -3.628906 5.097656 -3.550781 4.859375 -3.484375 C 4.625 -3.421875 4.390625 -3.375 4.164062 -3.351562 L 3.417969 -3.253906 C 2.972656 -3.195312 2.636719 -3.101562 2.414062 -2.972656 C 2.035156 -2.757812 1.84375 -2.417969 1.84375 -1.949219 Z M 4.828125 -4.4375 C 5.109375 -4.472656 5.296875 -4.589844 5.394531 -4.792969 C 5.449219 -4.902344 5.476562 -5.058594 5.476562 -5.265625 C 5.476562 -5.683594 5.328125 -5.988281 5.027344 -6.175781 C 4.730469 -6.367188 4.300781 -6.460938 3.746094 -6.460938 C 3.101562 -6.460938 2.648438 -6.285156 2.378906 -5.941406 C 2.226562 -5.75 2.128906 -5.464844 2.085938 -5.085938 L 0.9375 -5.085938 C 0.960938 -5.988281 1.253906 -6.617188 1.816406 -6.96875 C 2.378906 -7.320312 3.03125 -7.5 3.773438 -7.5 C 4.632812 -7.5 5.335938 -7.335938 5.871094 -7.007812 C 6.40625 -6.679688 6.671875 -6.167969 6.671875 -5.476562 L 6.671875 -1.257812 C 6.671875 -1.128906 6.699219 -1.027344 6.75 -0.949219 C 6.804688 -0.871094 6.914062 -0.835938 7.082031 -0.835938 C 7.136719 -0.835938 7.199219 -0.835938 7.265625 -0.84375 C 7.335938 -0.851562 7.40625 -0.859375 7.484375 -0.875 L 7.484375 0.0351562 C 7.292969 0.0898438 7.148438 0.125 7.046875 0.136719 C 6.945312 0.148438 6.8125 0.15625 6.636719 0.15625 C 6.214844 0.15625 5.90625 0.0078125 5.714844 -0.292969 C 5.613281 -0.453125 5.542969 -0.679688 5.503906 -0.96875 C 5.253906 -0.640625 4.890625 -0.359375 4.421875 -0.117188 C 3.953125 0.125 3.4375 0.246094 2.871094 0.246094 C 2.191406 0.246094 1.636719 0.0390625 1.207031 -0.371094 C 0.777344 -0.785156 0.5625 -1.300781 0.5625 -1.921875 C 0.5625 -2.601562 0.773438 -3.125 1.195312 -3.5 C 1.621094 -3.875 2.175781 -4.105469 2.863281 -4.191406 Z M 4.828125 -4.4375 \"/>\n",
       "</symbol>\n",
       "<symbol overflow=\"visible\" id=\"glyph0-11\">\n",
       "<path style=\"stroke:none;\" d=\"M 0.9375 -7.320312 L 2.105469 -7.320312 L 2.105469 -6.054688 C 2.203125 -6.300781 2.4375 -6.601562 2.808594 -6.957031 C 3.183594 -7.308594 3.613281 -7.484375 4.101562 -7.484375 C 4.125 -7.484375 4.164062 -7.484375 4.21875 -7.476562 C 4.273438 -7.472656 4.367188 -7.464844 4.5 -7.453125 L 4.5 -6.152344 C 4.425781 -6.164062 4.359375 -6.175781 4.296875 -6.179688 C 4.234375 -6.183594 4.167969 -6.1875 4.09375 -6.1875 C 3.476562 -6.1875 3 -5.988281 2.664062 -5.589844 C 2.332031 -5.191406 2.167969 -4.730469 2.167969 -4.210938 L 2.167969 0 L 0.9375 0 Z M 0.9375 -7.320312 \"/>\n",
       "</symbol>\n",
       "<symbol overflow=\"visible\" id=\"glyph0-12\">\n",
       "<path style=\"stroke:none;\" d=\"M 4.921875 -1.164062 C 5.382812 -1.164062 5.761719 -1.210938 6.054688 -1.304688 C 6.585938 -1.484375 7.019531 -1.824219 7.355469 -2.332031 C 7.625 -2.738281 7.816406 -3.257812 7.9375 -3.890625 C 8.003906 -4.269531 8.039062 -4.617188 8.039062 -4.941406 C 8.039062 -6.1875 7.792969 -7.152344 7.296875 -7.839844 C 6.804688 -8.527344 6.007812 -8.875 4.90625 -8.875 L 2.496094 -8.875 L 2.496094 -1.164062 Z M 1.128906 -10.042969 L 5.195312 -10.042969 C 6.578125 -10.042969 7.648438 -9.550781 8.40625 -8.570312 C 9.085938 -7.6875 9.425781 -6.554688 9.425781 -5.175781 C 9.425781 -4.109375 9.226562 -3.144531 8.824219 -2.28125 C 8.117188 -0.761719 6.90625 0 5.179688 0 L 1.128906 0 Z M 1.128906 -10.042969 \"/>\n",
       "</symbol>\n",
       "<symbol overflow=\"visible\" id=\"glyph0-13\">\n",
       "<path style=\"stroke:none;\" d=\"M 0.902344 -7.320312 L 2.070312 -7.320312 L 2.070312 -6.28125 C 2.417969 -6.710938 2.785156 -7.019531 3.171875 -7.203125 C 3.558594 -7.390625 3.988281 -7.484375 4.464844 -7.484375 C 5.503906 -7.484375 6.203125 -7.125 6.570312 -6.398438 C 6.769531 -6 6.871094 -5.433594 6.871094 -4.695312 L 6.871094 0 L 5.617188 0 L 5.617188 -4.613281 C 5.617188 -5.0625 5.554688 -5.421875 5.421875 -5.695312 C 5.203125 -6.148438 4.804688 -6.378906 4.230469 -6.378906 C 3.9375 -6.378906 3.699219 -6.347656 3.515625 -6.289062 C 3.175781 -6.1875 2.878906 -5.988281 2.625 -5.6875 C 2.421875 -5.445312 2.285156 -5.195312 2.226562 -4.9375 C 2.164062 -4.679688 2.132812 -4.3125 2.132812 -3.835938 L 2.132812 0 L 0.902344 0 Z M 0.902344 -7.320312 \"/>\n",
       "</symbol>\n",
       "<symbol overflow=\"visible\" id=\"glyph0-14\">\n",
       "<path style=\"stroke:none;\" d=\"M 1.632812 -2.296875 C 1.671875 -1.886719 1.773438 -1.570312 1.941406 -1.351562 C 2.25 -0.957031 2.789062 -0.757812 3.554688 -0.757812 C 4.011719 -0.757812 4.410156 -0.859375 4.757812 -1.054688 C 5.105469 -1.253906 5.277344 -1.5625 5.277344 -1.976562 C 5.277344 -2.289062 5.136719 -2.53125 4.859375 -2.695312 C 4.683594 -2.792969 4.332031 -2.910156 3.808594 -3.042969 L 2.828125 -3.289062 C 2.203125 -3.445312 1.746094 -3.617188 1.449219 -3.808594 C 0.921875 -4.140625 0.65625 -4.601562 0.65625 -5.1875 C 0.65625 -5.882812 0.90625 -6.441406 1.40625 -6.871094 C 1.90625 -7.296875 2.574219 -7.511719 3.417969 -7.511719 C 4.519531 -7.511719 5.316406 -7.1875 5.804688 -6.542969 C 6.109375 -6.132812 6.257812 -5.691406 6.25 -5.214844 L 5.085938 -5.214844 C 5.0625 -5.492188 4.964844 -5.746094 4.792969 -5.976562 C 4.507812 -6.296875 4.019531 -6.460938 3.320312 -6.460938 C 2.855469 -6.460938 2.503906 -6.371094 2.265625 -6.195312 C 2.027344 -6.015625 1.90625 -5.78125 1.90625 -5.488281 C 1.90625 -5.171875 2.0625 -4.914062 2.378906 -4.722656 C 2.5625 -4.609375 2.828125 -4.507812 3.1875 -4.421875 L 4 -4.226562 C 4.882812 -4.011719 5.476562 -3.804688 5.777344 -3.601562 C 6.253906 -3.289062 6.492188 -2.792969 6.492188 -2.117188 C 6.492188 -1.46875 6.246094 -0.90625 5.753906 -0.429688 C 5.257812 0.0429688 4.503906 0.28125 3.492188 0.28125 C 2.402344 0.28125 1.632812 0.03125 1.179688 -0.460938 C 0.726562 -0.957031 0.484375 -1.566406 0.453125 -2.296875 Z M 1.632812 -2.296875 \"/>\n",
       "</symbol>\n",
       "<symbol overflow=\"visible\" id=\"glyph0-15\">\n",
       "<path style=\"stroke:none;\" d=\"M 1.195312 -10.042969 L 8.515625 -10.042969 L 8.515625 -8.8125 L 2.523438 -8.8125 L 2.523438 -5.761719 L 8.066406 -5.761719 L 8.066406 -4.601562 L 2.523438 -4.601562 L 2.523438 -1.195312 L 8.621094 -1.195312 L 8.621094 0 L 1.195312 0 Z M 1.195312 -10.042969 \"/>\n",
       "</symbol>\n",
       "<symbol overflow=\"visible\" id=\"glyph0-16\">\n",
       "<path style=\"stroke:none;\" d=\"M 1.148438 -9.367188 L 2.390625 -9.367188 L 2.390625 -7.320312 L 3.5625 -7.320312 L 3.5625 -6.316406 L 2.390625 -6.316406 L 2.390625 -1.539062 C 2.390625 -1.28125 2.480469 -1.113281 2.652344 -1.023438 C 2.75 -0.976562 2.90625 -0.949219 3.132812 -0.949219 C 3.191406 -0.949219 3.253906 -0.953125 3.320312 -0.953125 C 3.390625 -0.957031 3.46875 -0.960938 3.5625 -0.96875 L 3.5625 0 C 3.421875 0.0390625 3.273438 0.0703125 3.121094 0.0898438 C 2.96875 0.109375 2.804688 0.117188 2.625 0.117188 C 2.050781 0.117188 1.660156 -0.03125 1.457031 -0.324219 C 1.25 -0.617188 1.148438 -1 1.148438 -1.46875 L 1.148438 -6.316406 L 0.15625 -6.316406 L 0.15625 -7.320312 L 1.148438 -7.320312 Z M 1.148438 -9.367188 \"/>\n",
       "</symbol>\n",
       "<symbol overflow=\"visible\" id=\"glyph0-17\">\n",
       "<path style=\"stroke:none;\" d=\"M 0.902344 -10.078125 L 2.132812 -10.078125 L 2.132812 -6.328125 C 2.425781 -6.699219 2.6875 -6.960938 2.917969 -7.109375 C 3.316406 -7.367188 3.808594 -7.5 4.402344 -7.5 C 5.464844 -7.5 6.183594 -7.128906 6.5625 -6.382812 C 6.765625 -5.976562 6.871094 -5.417969 6.871094 -4.695312 L 6.871094 0 L 5.605469 0 L 5.605469 -4.613281 C 5.605469 -5.152344 5.539062 -5.546875 5.398438 -5.796875 C 5.175781 -6.199219 4.757812 -6.398438 4.140625 -6.398438 C 3.632812 -6.398438 3.167969 -6.222656 2.753906 -5.871094 C 2.339844 -5.519531 2.132812 -4.859375 2.132812 -3.882812 L 2.132812 0 L 0.902344 0 Z M 0.902344 -10.078125 \"/>\n",
       "</symbol>\n",
       "<symbol overflow=\"visible\" id=\"glyph0-18\">\n",
       "<path style=\"stroke:none;\" d=\"M 1.195312 -10.042969 L 8.164062 -10.042969 L 8.164062 -8.8125 L 2.554688 -8.8125 L 2.554688 -5.761719 L 7.484375 -5.761719 L 7.484375 -4.566406 L 2.554688 -4.566406 L 2.554688 0 L 1.195312 0 Z M 1.195312 -10.042969 \"/>\n",
       "</symbol>\n",
       "<symbol overflow=\"visible\" id=\"glyph0-19\">\n",
       "<path style=\"stroke:none;\" d=\"M 0.875 -10.042969 L 2.058594 -10.042969 L 2.058594 -4.210938 L 5.214844 -7.320312 L 6.789062 -7.320312 L 3.984375 -4.578125 L 6.945312 0 L 5.375 0 L 3.089844 -3.691406 L 2.058594 -2.75 L 2.058594 0 L 0.875 0 Z M 0.875 -10.042969 \"/>\n",
       "</symbol>\n",
       "<symbol overflow=\"visible\" id=\"glyph0-20\">\n",
       "<path style=\"stroke:none;\" d=\"M 5.40625 -10.300781 C 6.351562 -10.300781 7.167969 -10.121094 7.855469 -9.753906 C 8.851562 -9.230469 9.464844 -8.3125 9.6875 -7 L 8.339844 -7 C 8.175781 -7.734375 7.835938 -8.269531 7.320312 -8.601562 C 6.804688 -8.9375 6.15625 -9.105469 5.375 -9.105469 C 4.445312 -9.105469 3.660156 -8.757812 3.023438 -8.058594 C 2.390625 -7.363281 2.070312 -6.324219 2.070312 -4.941406 C 2.070312 -3.75 2.332031 -2.777344 2.859375 -2.027344 C 3.382812 -1.277344 4.234375 -0.902344 5.421875 -0.902344 C 6.328125 -0.902344 7.078125 -1.164062 7.671875 -1.691406 C 8.265625 -2.21875 8.570312 -3.070312 8.585938 -4.246094 L 5.441406 -4.246094 L 5.441406 -5.375 L 9.851562 -5.375 L 9.851562 0 L 8.976562 0 L 8.648438 -1.292969 C 8.1875 -0.785156 7.78125 -0.433594 7.421875 -0.238281 C 6.828125 0.0976562 6.066406 0.265625 5.148438 0.265625 C 3.957031 0.265625 2.933594 -0.117188 2.078125 -0.890625 C 1.144531 -1.855469 0.675781 -3.179688 0.675781 -4.867188 C 0.675781 -6.546875 1.132812 -7.886719 2.042969 -8.878906 C 2.910156 -9.828125 4.03125 -10.300781 5.40625 -10.300781 Z M 5.40625 -10.300781 \"/>\n",
       "</symbol>\n",
       "<symbol overflow=\"visible\" id=\"glyph0-21\">\n",
       "<path style=\"stroke:none;\" d=\"M 3.484375 -7.453125 C 4.058594 -7.453125 4.5625 -7.308594 4.992188 -7.027344 C 5.222656 -6.867188 5.460938 -6.636719 5.703125 -6.328125 L 5.703125 -7.253906 L 6.835938 -7.253906 L 6.835938 -0.59375 C 6.835938 0.335938 6.699219 1.070312 6.425781 1.605469 C 5.914062 2.601562 4.953125 3.097656 3.535156 3.097656 C 2.746094 3.097656 2.082031 2.921875 1.546875 2.566406 C 1.007812 2.214844 0.707031 1.660156 0.640625 0.910156 L 1.894531 0.910156 C 1.953125 1.238281 2.070312 1.492188 2.25 1.667969 C 2.527344 1.941406 2.964844 2.078125 3.5625 2.078125 C 4.503906 2.078125 5.121094 1.746094 5.414062 1.078125 C 5.585938 0.6875 5.667969 -0.0117188 5.652344 -1.019531 C 5.40625 -0.644531 5.109375 -0.367188 4.765625 -0.183594 C 4.417969 0 3.960938 0.0898438 3.390625 0.0898438 C 2.597656 0.0898438 1.902344 -0.191406 1.308594 -0.753906 C 0.714844 -1.316406 0.417969 -2.25 0.417969 -3.546875 C 0.417969 -4.773438 0.714844 -5.730469 1.316406 -6.417969 C 1.914062 -7.105469 2.640625 -7.453125 3.484375 -7.453125 Z M 5.703125 -3.691406 C 5.703125 -4.597656 5.515625 -5.269531 5.140625 -5.707031 C 4.765625 -6.144531 4.289062 -6.363281 3.710938 -6.363281 C 2.84375 -6.363281 2.253906 -5.957031 1.933594 -5.148438 C 1.765625 -4.714844 1.679688 -4.148438 1.679688 -3.445312 C 1.679688 -2.621094 1.847656 -1.992188 2.183594 -1.5625 C 2.519531 -1.132812 2.96875 -0.914062 3.535156 -0.914062 C 4.417969 -0.914062 5.039062 -1.316406 5.398438 -2.113281 C 5.601562 -2.5625 5.703125 -3.089844 5.703125 -3.691406 Z M 5.703125 -3.691406 \"/>\n",
       "</symbol>\n",
       "</g>\n",
       "</defs>\n",
       "<g id=\"surface2\">\n",
       "<rect x=\"0\" y=\"0\" width=\"250\" height=\"250\" style=\"fill:rgb(100%,100%,100%);fill-opacity:1;stroke:none;\"/>\n",
       "<path style=\"fill:none;stroke-width:1;stroke-linecap:butt;stroke-linejoin:miter;stroke:rgb(26.666667%,26.666667%,26.666667%);stroke-opacity:1;stroke-miterlimit:10;\" d=\"M 77.800781 69.679688 L 10 10 \"/>\n",
       "<path style=\"fill:none;stroke-width:1;stroke-linecap:butt;stroke-linejoin:miter;stroke:rgb(26.666667%,26.666667%,26.666667%);stroke-opacity:1;stroke-miterlimit:10;\" d=\"M 77.800781 69.679688 L 159.046875 88.800781 \"/>\n",
       "<path style=\"fill:none;stroke-width:3;stroke-linecap:butt;stroke-linejoin:miter;stroke:rgb(26.666667%,26.666667%,26.666667%);stroke-opacity:1;stroke-miterlimit:10;\" d=\"M 159.046875 88.800781 L 222.164062 164.21875 \"/>\n",
       "<path style=\"fill:none;stroke-width:3;stroke-linecap:butt;stroke-linejoin:miter;stroke:rgb(26.666667%,26.666667%,26.666667%);stroke-opacity:1;stroke-miterlimit:10;\" d=\"M 222.164062 164.21875 L 240 68.664062 \"/>\n",
       "<path style=\"fill:none;stroke-width:3;stroke-linecap:butt;stroke-linejoin:miter;stroke:rgb(26.666667%,26.666667%,26.666667%);stroke-opacity:1;stroke-miterlimit:10;\" d=\"M 159.046875 88.800781 L 240 68.664062 \"/>\n",
       "<path style=\"fill:none;stroke-width:1;stroke-linecap:butt;stroke-linejoin:miter;stroke:rgb(26.666667%,26.666667%,26.666667%);stroke-opacity:1;stroke-miterlimit:10;\" d=\"M 159.046875 88.800781 L 97.996094 165.867188 \"/>\n",
       "<path style=\"fill:none;stroke-width:3;stroke-linecap:butt;stroke-linejoin:miter;stroke:rgb(26.666667%,26.666667%,26.666667%);stroke-opacity:1;stroke-miterlimit:10;\" d=\"M 77.800781 69.679688 L 97.996094 165.867188 \"/>\n",
       "<path style=\"fill:none;stroke-width:1;stroke-linecap:butt;stroke-linejoin:miter;stroke:rgb(26.666667%,26.666667%,26.666667%);stroke-opacity:1;stroke-miterlimit:10;\" d=\"M 222.164062 164.21875 L 160.410156 240 \"/>\n",
       "<path style=\"fill:none;stroke-width:1;stroke-linecap:butt;stroke-linejoin:miter;stroke:rgb(26.666667%,26.666667%,26.666667%);stroke-opacity:1;stroke-miterlimit:10;\" d=\"M 97.996094 165.867188 L 160.410156 240 \"/>\n",
       "<path style=\"fill-rule:nonzero;fill:rgb(100%,75.294118%,79.607843%);fill-opacity:1;stroke-width:1;stroke-linecap:butt;stroke-linejoin:miter;stroke:rgb(0%,0%,0%);stroke-opacity:1;stroke-miterlimit:10;\" d=\"M 82.800781 69.679688 C 82.800781 76.34375 72.800781 76.34375 72.800781 69.679688 C 72.800781 63.011719 82.800781 63.011719 82.800781 69.679688 \"/>\n",
       "<path style=\"fill-rule:nonzero;fill:rgb(0%,0%,100%);fill-opacity:1;stroke-width:1;stroke-linecap:butt;stroke-linejoin:miter;stroke:rgb(0%,0%,0%);stroke-opacity:1;stroke-miterlimit:10;\" d=\"M 15 10 C 15 16.667969 5 16.667969 5 10 C 5 3.332031 15 3.332031 15 10 \"/>\n",
       "<path style=\"fill-rule:nonzero;fill:rgb(100%,75.294118%,79.607843%);fill-opacity:1;stroke-width:1;stroke-linecap:butt;stroke-linejoin:miter;stroke:rgb(0%,0%,0%);stroke-opacity:1;stroke-miterlimit:10;\" d=\"M 164.046875 88.800781 C 164.046875 95.464844 154.046875 95.464844 154.046875 88.800781 C 154.046875 82.132812 164.046875 82.132812 164.046875 88.800781 \"/>\n",
       "<path style=\"fill-rule:nonzero;fill:rgb(0%,0%,100%);fill-opacity:1;stroke-width:1;stroke-linecap:butt;stroke-linejoin:miter;stroke:rgb(0%,0%,0%);stroke-opacity:1;stroke-miterlimit:10;\" d=\"M 227.164062 164.21875 C 227.164062 170.886719 217.164062 170.886719 217.164062 164.21875 C 217.164062 157.550781 227.164062 157.550781 227.164062 164.21875 \"/>\n",
       "<path style=\"fill-rule:nonzero;fill:rgb(100%,75.294118%,79.607843%);fill-opacity:1;stroke-width:1;stroke-linecap:butt;stroke-linejoin:miter;stroke:rgb(0%,0%,0%);stroke-opacity:1;stroke-miterlimit:10;\" d=\"M 245 68.664062 C 245 75.328125 235 75.328125 235 68.664062 C 235 61.996094 245 61.996094 245 68.664062 \"/>\n",
       "<path style=\"fill-rule:nonzero;fill:rgb(0%,0%,100%);fill-opacity:1;stroke-width:1;stroke-linecap:butt;stroke-linejoin:miter;stroke:rgb(0%,0%,0%);stroke-opacity:1;stroke-miterlimit:10;\" d=\"M 102.996094 165.867188 C 102.996094 172.535156 92.996094 172.535156 92.996094 165.867188 C 92.996094 159.203125 102.996094 159.203125 102.996094 165.867188 \"/>\n",
       "<path style=\"fill-rule:nonzero;fill:rgb(0%,0%,100%);fill-opacity:1;stroke-width:1;stroke-linecap:butt;stroke-linejoin:miter;stroke:rgb(0%,0%,0%);stroke-opacity:1;stroke-miterlimit:10;\" d=\"M 165.410156 240 C 165.410156 246.667969 155.410156 246.667969 155.410156 240 C 155.410156 233.332031 165.410156 233.332031 165.410156 240 \"/>\n",
       "<g style=\"fill:rgb(0%,0%,0%);fill-opacity:1;\">\n",
       "  <use xlink:href=\"#glyph0-1\" x=\"62.832031\" y=\"76.308594\"/>\n",
       "  <use xlink:href=\"#glyph0-2\" x=\"72.169922\" y=\"76.308594\"/>\n",
       "  <use xlink:href=\"#glyph0-3\" x=\"75.280273\" y=\"76.308594\"/>\n",
       "  <use xlink:href=\"#glyph0-4\" x=\"78.390625\" y=\"76.308594\"/>\n",
       "  <use xlink:href=\"#glyph0-5\" x=\"85.390625\" y=\"76.308594\"/>\n",
       "</g>\n",
       "<g style=\"fill:rgb(0%,0%,0%);fill-opacity:1;\">\n",
       "  <use xlink:href=\"#glyph0-6\" x=\"-2.703125\" y=\"16.648438\"/>\n",
       "  <use xlink:href=\"#glyph0-7\" x=\"6.634766\" y=\"16.648438\"/>\n",
       "  <use xlink:href=\"#glyph0-8\" x=\"14.420898\" y=\"16.648438\"/>\n",
       "</g>\n",
       "<g style=\"fill:rgb(0%,0%,0%);fill-opacity:1;\">\n",
       "  <use xlink:href=\"#glyph0-9\" x=\"140.757812\" y=\"95.566406\"/>\n",
       "  <use xlink:href=\"#glyph0-2\" x=\"150.868164\" y=\"95.566406\"/>\n",
       "  <use xlink:href=\"#glyph0-10\" x=\"153.978516\" y=\"95.566406\"/>\n",
       "  <use xlink:href=\"#glyph0-3\" x=\"161.764648\" y=\"95.566406\"/>\n",
       "  <use xlink:href=\"#glyph0-11\" x=\"164.875\" y=\"95.566406\"/>\n",
       "  <use xlink:href=\"#glyph0-5\" x=\"169.537109\" y=\"95.566406\"/>\n",
       "</g>\n",
       "<g style=\"fill:rgb(0%,0%,0%);fill-opacity:1;\">\n",
       "  <use xlink:href=\"#glyph0-12\" x=\"200.0625\" y=\"170.847656\"/>\n",
       "  <use xlink:href=\"#glyph0-5\" x=\"210.172852\" y=\"170.847656\"/>\n",
       "  <use xlink:href=\"#glyph0-13\" x=\"217.958984\" y=\"170.847656\"/>\n",
       "  <use xlink:href=\"#glyph0-13\" x=\"225.745117\" y=\"170.847656\"/>\n",
       "  <use xlink:href=\"#glyph0-3\" x=\"233.53125\" y=\"170.847656\"/>\n",
       "  <use xlink:href=\"#glyph0-14\" x=\"236.641602\" y=\"170.847656\"/>\n",
       "</g>\n",
       "<g style=\"fill:rgb(0%,0%,0%);fill-opacity:1;\">\n",
       "  <use xlink:href=\"#glyph0-15\" x=\"219.253906\" y=\"75.3125\"/>\n",
       "  <use xlink:href=\"#glyph0-14\" x=\"228.591797\" y=\"75.3125\"/>\n",
       "  <use xlink:href=\"#glyph0-16\" x=\"235.591797\" y=\"75.3125\"/>\n",
       "  <use xlink:href=\"#glyph0-17\" x=\"239.481445\" y=\"75.3125\"/>\n",
       "  <use xlink:href=\"#glyph0-5\" x=\"247.267578\" y=\"75.3125\"/>\n",
       "  <use xlink:href=\"#glyph0-11\" x=\"255.053711\" y=\"75.3125\"/>\n",
       "</g>\n",
       "<g style=\"fill:rgb(0%,0%,0%);fill-opacity:1;\">\n",
       "  <use xlink:href=\"#glyph0-18\" x=\"79.53125\" y=\"172.5\"/>\n",
       "  <use xlink:href=\"#glyph0-11\" x=\"88.083008\" y=\"172.5\"/>\n",
       "  <use xlink:href=\"#glyph0-10\" x=\"92.745117\" y=\"172.5\"/>\n",
       "  <use xlink:href=\"#glyph0-13\" x=\"100.53125\" y=\"172.5\"/>\n",
       "  <use xlink:href=\"#glyph0-19\" x=\"108.317383\" y=\"172.5\"/>\n",
       "</g>\n",
       "<g style=\"fill:rgb(0%,0%,0%);fill-opacity:1;\">\n",
       "  <use xlink:href=\"#glyph0-20\" x=\"137.03125\" y=\"246.765625\"/>\n",
       "  <use xlink:href=\"#glyph0-5\" x=\"147.920898\" y=\"246.765625\"/>\n",
       "  <use xlink:href=\"#glyph0-7\" x=\"155.707031\" y=\"246.765625\"/>\n",
       "  <use xlink:href=\"#glyph0-11\" x=\"163.493164\" y=\"246.765625\"/>\n",
       "  <use xlink:href=\"#glyph0-21\" x=\"168.155273\" y=\"246.765625\"/>\n",
       "  <use xlink:href=\"#glyph0-5\" x=\"175.941406\" y=\"246.765625\"/>\n",
       "</g>\n",
       "</g>\n",
       "</svg>\n"
      ],
      "text/plain": [
       "<igraph.drawing.Plot at 0x115e55358>"
      ]
     },
     "execution_count": 4,
     "metadata": {},
     "output_type": "execute_result"
    }
   ],
   "source": [
    "layout = g.layout(\"kk\")\n",
    "\n",
    "visual_style = {}\n",
    "visual_style[\"vertex_size\"] = 10\n",
    "color_dict = {\"m\": \"blue\", \"f\": \"pink\"}\n",
    "visual_style[\"vertex_color\"] = [color_dict[gender] for gender in g.vs[\"gender\"]]\n",
    "visual_style[\"vertex_label\"] = g.vs[\"name\"]\n",
    "visual_style[\"edge_width\"] = [1 + 2 * int(is_formal) for is_formal in g.es[\"is_formal\"]]\n",
    "visual_style[\"layout\"] = layout\n",
    "visual_style[\"bbox\"] = (250, 250)\n",
    "visual_style[\"margin\"] = 10\n",
    "ig.plot(g, **visual_style)"
   ]
  },
  {
   "cell_type": "code",
   "execution_count": 5,
   "metadata": {},
   "outputs": [
    {
     "data": {
      "text/plain": [
       "[0, 2, 4]"
      ]
     },
     "execution_count": 5,
     "metadata": {},
     "output_type": "execute_result"
    }
   ],
   "source": [
    "girls = ['Claire', 'Esther', 'Alice'] \n",
    "girlsVertexSeq = g.vs.select( lambda v: v[\"name\"] in girls)\n",
    "girlsVerticesIndicies = [v.index for v in girlsVertexSeq]\n",
    "girlsVerticesIndicies"
   ]
  },
  {
   "cell_type": "code",
   "execution_count": null,
   "metadata": {},
   "outputs": [],
   "source": []
  },
  {
   "cell_type": "markdown",
   "metadata": {},
   "source": [
    "## graph modularity"
   ]
  },
  {
   "cell_type": "code",
   "execution_count": 6,
   "metadata": {},
   "outputs": [
    {
     "name": "stdout",
     "output_type": "stream",
     "text": [
      "num vertices in graph:7\n",
      "ml:[0 0 0 0 0 0 0]\n",
      "\n",
      "girlsVerticesIndicies:[0, 2, 4]\n",
      "\n",
      "ml after assign girls to a seperate cluster\n",
      "[1 0 1 0 1 0 0]\n",
      "\n",
      "Q:-0.05555555555555558\n"
     ]
    }
   ],
   "source": [
    "# how does graph.modularity work\n",
    "# does not look like we have access to the modularity code we will need to \n",
    "# write our own\n",
    "#\n",
    "# modularity membership is a list with length = number of nodes\n",
    "# the value in the list corresponds to the cluster the node is\n",
    "\n",
    "print(\"num vertices in graph:{}\".format(g.vcount()))\n",
    "\n",
    "# use numpy array. it makes it easy to change values\n",
    "# using a list of idx\n",
    "ml = np.zeros(g.vcount(), dtype = int)\n",
    "print(\"ml:{}\".format(ml))\n",
    "print(\"\\ngirlsVerticesIndicies:{}\".format(girlsVerticesIndicies))\n",
    "ml[girlsVerticesIndicies] = 1\n",
    "print(\"\\nml after assign girls to a seperate cluster\\n{}\".format(ml))\n",
    "\n",
    "\n",
    "Q = g.modularity(membership=ml)\n",
    "print(\"\\nQ:{}\".format(Q))"
   ]
  },
  {
   "cell_type": "code",
   "execution_count": 7,
   "metadata": {},
   "outputs": [],
   "source": [
    "# graph.modularity() calls graphbase.modularity\n",
    "# looks like we need to computer modularity our selves we can not use igraphs it implemented in c\n",
    "# we can use it to test"
   ]
  },
  {
   "cell_type": "markdown",
   "metadata": {},
   "source": [
    "## how do clusters, clustering work?"
   ]
  },
  {
   "cell_type": "code",
   "execution_count": 8,
   "metadata": {},
   "outputs": [
    {
     "name": "stdout",
     "output_type": "stream",
     "text": [
      "Clustering with 3 elements and 5 clusters\n",
      "[0] 0\n",
      "\n",
      "[2] 1\n",
      "\n",
      "[4] 2\n",
      "\n",
      "xxx c:[0]\n",
      "xxx c:[]\n",
      "xxx c:[1]\n",
      "xxx c:[]\n",
      "xxx c:[2]\n"
     ]
    }
   ],
   "source": [
    "# looks like the membership list create 3 cluster e\n",
    "clustering1 = ig.Clustering(membership=girlsVerticesIndicies)\n",
    "print(clustering1)\n",
    "# cluster = Clustering1[0]\n",
    "# print()\n",
    "# print(type(cluster))\n",
    "# print(type(cluster[0]))\n",
    "# print(cluster)\n",
    "clustering1.summary(verbosity=1)\n",
    "\n",
    "print()\n",
    "for c in clustering1:\n",
    "#     print(type(c)) list\n",
    "    print(\"xxx c:{}\".format(c))"
   ]
  },
  {
   "cell_type": "code",
   "execution_count": 9,
   "metadata": {},
   "outputs": [],
   "source": [
    "# use modularity_params to pass weight\n",
    "# this does not work, membership is bad\n",
    "# it is a list of len(g.vcount)\n",
    "# values are the cluster id each vertice belongs to\n",
    "#vc = ig.VertexClustering(g, membership=girlsVerticesIndicies, modularity_params=None)"
   ]
  },
  {
   "cell_type": "markdown",
   "metadata": {},
   "source": [
    "## VertexClustering"
   ]
  },
  {
   "cell_type": "code",
   "execution_count": 10,
   "metadata": {},
   "outputs": [
    {
     "name": "stdout",
     "output_type": "stream",
     "text": [
      "Clustering with 7 elements and 7 clusters\n",
      "[0] Alice\n",
      "[1] Bob\n",
      "[2] Claire\n",
      "[3] Dennis\n",
      "[4] Esther\n",
      "[5] Frank\n",
      "[6] George\n"
     ]
    }
   ],
   "source": [
    "# put each vertice in a seperate cluster\n",
    "ml = [i for i in range(g.vcount())]\n",
    "level0 = ig.VertexClustering(g,membership=ml)\n",
    "print(level0)"
   ]
  },
  {
   "cell_type": "code",
   "execution_count": 11,
   "metadata": {},
   "outputs": [
    {
     "name": "stdout",
     "output_type": "stream",
     "text": [
      "['f', 'm', 'f', 'm', 'f', 'm', 'm']\n",
      "[0, 2, 4]\n",
      "ml:[1 0 1 0 1 0 0]\n",
      "Clustering with 7 elements and 2 clusters\n",
      "[0] Bob, Dennis, Frank, George\n",
      "[1] Alice, Claire, Esther\n"
     ]
    }
   ],
   "source": [
    "# now create a new level with 2 clusters seperated by sex\n",
    "#girlsVertexSeq = g.vs.select( lambda v: v[\"name\"] in girls)\n",
    "print(g.vs[\"gender\"] )\n",
    "weomanVertexSeq = g.vs.select(gender_eq='f')\n",
    "weomanIndicies = [v.index for v in weomanVertexSeq]\n",
    "print(weomanIndicies)\n",
    "\n",
    "\n",
    "ml = np.zeros(g.vcount(), dtype=int)\n",
    "ml[weomanIndicies] = 1\n",
    "print(\"ml:{}\".format(ml))\n",
    "level1 = ig.VertexClustering(g,membership=ml)\n",
    "print(level1)"
   ]
  },
  {
   "cell_type": "code",
   "execution_count": null,
   "metadata": {},
   "outputs": [],
   "source": []
  },
  {
   "cell_type": "code",
   "execution_count": 12,
   "metadata": {},
   "outputs": [
    {
     "ename": "SyntaxError",
     "evalue": "invalid syntax (<ipython-input-12-9e7c44824071>, line 4)",
     "output_type": "error",
     "traceback": [
      "\u001b[0;36m  File \u001b[0;32m\"<ipython-input-12-9e7c44824071>\"\u001b[0;36m, line \u001b[0;32m4\u001b[0m\n\u001b[0;31m    we lost the weights\u001b[0m\n\u001b[0m          ^\u001b[0m\n\u001b[0;31mSyntaxError\u001b[0m\u001b[0;31m:\u001b[0m invalid syntax\n"
     ]
    }
   ],
   "source": [
    "#Returns a graph where each cluster is contracted into a single vertex.\n",
    "glevel1 = level1.cluster_graph()\n",
    "print(glevel1)\n",
    "we lost the weights\n",
    "try adding weights"
   ]
  },
  {
   "cell_type": "code",
   "execution_count": null,
   "metadata": {},
   "outputs": [],
   "source": [
    "print(level1[0])\n",
    "print(level1[1])\n",
    "print(level1[0].degrees())"
   ]
  },
  {
   "cell_type": "markdown",
   "metadata": {},
   "source": [
    "# subgraphs\n",
    "maybe not what we want, we get a sub graph on a cluster we a disjoint graph. ie edges to other clusters are lost"
   ]
  },
  {
   "cell_type": "code",
   "execution_count": null,
   "metadata": {},
   "outputs": [],
   "source": [
    "clusterId = 0\n",
    "l1Msubgraph = level1.subgraph(clusterId)\n",
    "print(type(l1Msubgraph))\n",
    "print(l1Msubgraph)"
   ]
  },
  {
   "cell_type": "code",
   "execution_count": null,
   "metadata": {},
   "outputs": [],
   "source": [
    "clusterId = 1\n",
    "l1Fsubgraph = level1.subgraph(clusterId)\n",
    "print(type(l1Fsubgraph))\n",
    "print(l1Fsubgraph)"
   ]
  },
  {
   "cell_type": "code",
   "execution_count": null,
   "metadata": {},
   "outputs": [],
   "source": [
    "alice = g.vs.find(name='Alice')\n",
    "print(alice)\n",
    "\n",
    "print(alice.incident())   "
   ]
  },
  {
   "cell_type": "code",
   "execution_count": null,
   "metadata": {},
   "outputs": [],
   "source": [
    "for e in g.es:\n",
    "    print(e)\n",
    "    \n",
    "print(\"*********\")\n",
    "print(g.es[0].attributes())\n",
    "print(g.es[0].tuple)"
   ]
  },
  {
   "cell_type": "code",
   "execution_count": 19,
   "metadata": {},
   "outputs": [
    {
     "data": {
      "image/svg+xml": [
       "<?xml version=\"1.0\" encoding=\"UTF-8\"?>\n",
       "<svg xmlns=\"http://www.w3.org/2000/svg\" xmlns:xlink=\"http://www.w3.org/1999/xlink\" width=\"600pt\" height=\"600pt\" viewBox=\"0 0 600 600\" version=\"1.1\">\n",
       "<g id=\"surface32\">\n",
       "<rect x=\"0\" y=\"0\" width=\"600\" height=\"600\" style=\"fill:rgb(100%,100%,100%);fill-opacity:1;stroke:none;\"/>\n",
       "<path style=\"fill-rule:nonzero;fill:rgb(100%,0%,0%);fill-opacity:0.25;stroke-width:2;stroke-linecap:butt;stroke-linejoin:miter;stroke:rgb(100%,0%,0%);stroke-opacity:1;stroke-miterlimit:10;\" d=\"M 276.300781 41.40625 L 229.902344 36.195312 C 217.480469 34.800781 199.167969 44.429688 193.277344 55.457031 L 11.679688 395.277344 C 5.789062 406.300781 10.667969 423.667969 21.441406 430.007812 L 120.621094 488.398438 C 131.394531 494.738281 152.175781 493.59375 162.1875 486.109375 L 462.765625 261.367188 C 472.777344 253.882812 474.4375 237.101562 466.082031 227.800781 L 317.851562 62.796875 C 309.5 53.496094 288.722656 42.800781 276.300781 41.40625 \"/>\n",
       "<path style=\"fill-rule:nonzero;fill:rgb(0%,100%,0%);fill-opacity:0.25;stroke-width:2;stroke-linecap:butt;stroke-linejoin:miter;stroke:rgb(0%,100%,0%);stroke-opacity:1;stroke-miterlimit:10;\" d=\"M 349.257812 12.652344 L 146.902344 2.574219 C 134.414062 1.953125 118.796875 13.429688 115.660156 25.53125 L 56.195312 255.023438 C 53.058594 267.125 61.554688 274.644531 73.1875 270.066406 L 333.535156 167.5625 C 345.167969 162.980469 358.296875 145.992188 359.792969 133.582031 L 371.234375 38.714844 C 372.730469 26.304688 361.742188 13.273438 349.257812 12.652344 \"/>\n",
       "<path style=\"fill-rule:nonzero;fill:rgb(0%,0%,100%);fill-opacity:0.25;stroke-width:2;stroke-linecap:butt;stroke-linejoin:miter;stroke:rgb(0%,0%,100%);stroke-opacity:1;stroke-miterlimit:10;\" d=\"M 510.8125 72.292969 L 420.75 48.425781 C 408.667969 45.222656 394.960938 54.414062 393.335938 66.808594 L 330.1875 548.394531 C 328.5625 560.789062 338.980469 576.535156 351.023438 579.890625 L 416.304688 598.0625 C 428.347656 601.417969 447.394531 594.417969 454.402344 584.066406 L 589.566406 384.386719 C 596.574219 374.035156 603.332031 351.183594 603.082031 338.6875 L 601.832031 276.175781 C 601.585938 263.675781 596.847656 239.511719 592.359375 227.847656 L 543.957031 102.027344 C 539.46875 90.363281 522.894531 75.492188 510.8125 72.292969 \"/>\n",
       "<path style=\"fill-rule:nonzero;fill:rgb(100%,100%,0%);fill-opacity:0.25;stroke-width:2;stroke-linecap:butt;stroke-linejoin:miter;stroke:rgb(100%,100%,0%);stroke-opacity:1;stroke-miterlimit:10;\" d=\"M 542.113281 425.765625 L 587.246094 141.484375 C 589.203125 129.136719 578.867188 119.035156 566.570312 121.273438 L 457.972656 141.058594 C 445.675781 143.300781 425.703125 155.40625 418.027344 165.273438 L 337.96875 268.199219 C 330.296875 278.0625 317.25 299.21875 311.875 310.503906 L 248.417969 443.816406 C 243.046875 455.101562 250.101562 467.738281 262.527344 469.085938 L 286.019531 471.632812 C 298.445312 472.980469 323.363281 474.8125 335.855469 475.300781 L 417.789062 478.488281 C 430.28125 478.972656 454.730469 475.824219 466.691406 472.1875 L 514.273438 457.726562 C 526.230469 454.089844 540.152344 438.109375 542.113281 425.765625 \"/>\n",
       "<path style=\"fill:none;stroke-width:1;stroke-linecap:butt;stroke-linejoin:miter;stroke:rgb(20%,20%,20%);stroke-opacity:1;stroke-miterlimit:10;\" d=\"M 68.082031 262.039062 L 138.558594 20 \"/>\n",
       "<path style=\"fill:none;stroke-width:1;stroke-linecap:butt;stroke-linejoin:miter;stroke:rgb(20%,20%,20%);stroke-opacity:1;stroke-miterlimit:10;\" d=\"M 292.546875 67.671875 L 300.230469 221.304688 \"/>\n",
       "<path style=\"fill:none;stroke-width:1;stroke-linecap:butt;stroke-linejoin:miter;stroke:rgb(20%,20%,20%);stroke-opacity:1;stroke-miterlimit:10;\" d=\"M 189.097656 364.800781 L 300.230469 221.304688 \"/>\n",
       "<path style=\"fill:none;stroke-width:1;stroke-linecap:butt;stroke-linejoin:miter;stroke:rgb(80%,80%,80%);stroke-opacity:1;stroke-miterlimit:10;\" d=\"M 300.230469 221.304688 L 529.363281 103.054688 \"/>\n",
       "<path style=\"fill:none;stroke-width:1;stroke-linecap:butt;stroke-linejoin:miter;stroke:rgb(80%,80%,80%);stroke-opacity:1;stroke-miterlimit:10;\" d=\"M 300.230469 221.304688 L 353.464844 27.820312 \"/>\n",
       "<path style=\"fill:none;stroke-width:1;stroke-linecap:butt;stroke-linejoin:miter;stroke:rgb(80%,80%,80%);stroke-opacity:1;stroke-miterlimit:10;\" d=\"M 529.363281 103.054688 L 353.464844 27.820312 \"/>\n",
       "<path style=\"fill:none;stroke-width:1;stroke-linecap:butt;stroke-linejoin:miter;stroke:rgb(20%,20%,20%);stroke-opacity:1;stroke-miterlimit:10;\" d=\"M 292.546875 67.671875 L 252.753906 194.65625 \"/>\n",
       "<path style=\"fill:none;stroke-width:1;stroke-linecap:butt;stroke-linejoin:miter;stroke:rgb(20%,20%,20%);stroke-opacity:1;stroke-miterlimit:10;\" d=\"M 189.097656 364.800781 L 252.753906 194.65625 \"/>\n",
       "<path style=\"fill:none;stroke-width:1;stroke-linecap:butt;stroke-linejoin:miter;stroke:rgb(20%,20%,20%);stroke-opacity:1;stroke-miterlimit:10;\" d=\"M 292.546875 67.671875 L 457.792969 246.800781 \"/>\n",
       "<path style=\"fill:none;stroke-width:1;stroke-linecap:butt;stroke-linejoin:miter;stroke:rgb(20%,20%,20%);stroke-opacity:1;stroke-miterlimit:10;\" d=\"M 300.230469 221.304688 L 457.792969 246.800781 \"/>\n",
       "<path style=\"fill:none;stroke-width:1;stroke-linecap:butt;stroke-linejoin:miter;stroke:rgb(80%,80%,80%);stroke-opacity:1;stroke-miterlimit:10;\" d=\"M 443.777344 580 L 457.792969 246.800781 \"/>\n",
       "<path style=\"fill:none;stroke-width:1;stroke-linecap:butt;stroke-linejoin:miter;stroke:rgb(80%,80%,80%);stroke-opacity:1;stroke-miterlimit:10;\" d=\"M 353.464844 27.820312 L 457.792969 246.800781 \"/>\n",
       "<path style=\"fill:none;stroke-width:1;stroke-linecap:butt;stroke-linejoin:miter;stroke:rgb(80%,80%,80%);stroke-opacity:1;stroke-miterlimit:10;\" d=\"M 519.195312 434.203125 L 457.792969 246.800781 \"/>\n",
       "<path style=\"fill:none;stroke-width:1;stroke-linecap:butt;stroke-linejoin:miter;stroke:rgb(20%,20%,20%);stroke-opacity:1;stroke-miterlimit:10;\" d=\"M 252.753906 194.65625 L 457.792969 246.800781 \"/>\n",
       "<path style=\"fill:none;stroke-width:1;stroke-linecap:butt;stroke-linejoin:miter;stroke:rgb(80%,80%,80%);stroke-opacity:1;stroke-miterlimit:10;\" d=\"M 138.558594 20 L 430.824219 170.410156 \"/>\n",
       "<path style=\"fill:none;stroke-width:1;stroke-linecap:butt;stroke-linejoin:miter;stroke:rgb(20%,20%,20%);stroke-opacity:1;stroke-miterlimit:10;\" d=\"M 519.195312 434.203125 L 430.824219 170.410156 \"/>\n",
       "<path style=\"fill:none;stroke-width:1;stroke-linecap:butt;stroke-linejoin:miter;stroke:rgb(80%,80%,80%);stroke-opacity:1;stroke-miterlimit:10;\" d=\"M 252.753906 194.65625 L 430.824219 170.410156 \"/>\n",
       "<path style=\"fill:none;stroke-width:1;stroke-linecap:butt;stroke-linejoin:miter;stroke:rgb(80%,80%,80%);stroke-opacity:1;stroke-miterlimit:10;\" d=\"M 292.546875 67.671875 L 135.390625 191.460938 \"/>\n",
       "<path style=\"fill:none;stroke-width:1;stroke-linecap:butt;stroke-linejoin:miter;stroke:rgb(20%,20%,20%);stroke-opacity:1;stroke-miterlimit:10;\" d=\"M 68.082031 262.039062 L 135.390625 191.460938 \"/>\n",
       "<path style=\"fill:none;stroke-width:1;stroke-linecap:butt;stroke-linejoin:miter;stroke:rgb(20%,20%,20%);stroke-opacity:1;stroke-miterlimit:10;\" d=\"M 138.558594 20 L 135.390625 191.460938 \"/>\n",
       "<path style=\"fill:none;stroke-width:1;stroke-linecap:butt;stroke-linejoin:miter;stroke:rgb(20%,20%,20%);stroke-opacity:1;stroke-miterlimit:10;\" d=\"M 353.464844 27.820312 L 135.390625 191.460938 \"/>\n",
       "<path style=\"fill:none;stroke-width:1;stroke-linecap:butt;stroke-linejoin:miter;stroke:rgb(80%,80%,80%);stroke-opacity:1;stroke-miterlimit:10;\" d=\"M 252.753906 194.65625 L 135.390625 191.460938 \"/>\n",
       "<path style=\"fill:none;stroke-width:1;stroke-linecap:butt;stroke-linejoin:miter;stroke:rgb(80%,80%,80%);stroke-opacity:1;stroke-miterlimit:10;\" d=\"M 292.546875 67.671875 L 343.933594 301 \"/>\n",
       "<path style=\"fill:none;stroke-width:1;stroke-linecap:butt;stroke-linejoin:miter;stroke:rgb(80%,80%,80%);stroke-opacity:1;stroke-miterlimit:10;\" d=\"M 189.097656 364.800781 L 343.933594 301 \"/>\n",
       "<path style=\"fill:none;stroke-width:1;stroke-linecap:butt;stroke-linejoin:miter;stroke:rgb(80%,80%,80%);stroke-opacity:1;stroke-miterlimit:10;\" d=\"M 68.082031 262.039062 L 343.933594 301 \"/>\n",
       "<path style=\"fill:none;stroke-width:1;stroke-linecap:butt;stroke-linejoin:miter;stroke:rgb(80%,80%,80%);stroke-opacity:1;stroke-miterlimit:10;\" d=\"M 353.464844 27.820312 L 343.933594 301 \"/>\n",
       "<path style=\"fill:none;stroke-width:1;stroke-linecap:butt;stroke-linejoin:miter;stroke:rgb(20%,20%,20%);stroke-opacity:1;stroke-miterlimit:10;\" d=\"M 519.195312 434.203125 L 343.933594 301 \"/>\n",
       "<path style=\"fill:none;stroke-width:1;stroke-linecap:butt;stroke-linejoin:miter;stroke:rgb(20%,20%,20%);stroke-opacity:1;stroke-miterlimit:10;\" d=\"M 292.546875 67.671875 L 164.714844 223.5625 \"/>\n",
       "<path style=\"fill:none;stroke-width:1;stroke-linecap:butt;stroke-linejoin:miter;stroke:rgb(20%,20%,20%);stroke-opacity:1;stroke-miterlimit:10;\" d=\"M 189.097656 364.800781 L 164.714844 223.5625 \"/>\n",
       "<path style=\"fill:none;stroke-width:1;stroke-linecap:butt;stroke-linejoin:miter;stroke:rgb(80%,80%,80%);stroke-opacity:1;stroke-miterlimit:10;\" d=\"M 138.558594 20 L 164.714844 223.5625 \"/>\n",
       "<path style=\"fill:none;stroke-width:1;stroke-linecap:butt;stroke-linejoin:miter;stroke:rgb(20%,20%,20%);stroke-opacity:1;stroke-miterlimit:10;\" d=\"M 300.230469 221.304688 L 164.714844 223.5625 \"/>\n",
       "<path style=\"fill:none;stroke-width:1;stroke-linecap:butt;stroke-linejoin:miter;stroke:rgb(20%,20%,20%);stroke-opacity:1;stroke-miterlimit:10;\" d=\"M 150.0625 477.359375 L 164.714844 223.5625 \"/>\n",
       "<path style=\"fill:none;stroke-width:1;stroke-linecap:butt;stroke-linejoin:miter;stroke:rgb(80%,80%,80%);stroke-opacity:1;stroke-miterlimit:10;\" d=\"M 353.464844 27.820312 L 164.714844 223.5625 \"/>\n",
       "<path style=\"fill:none;stroke-width:1;stroke-linecap:butt;stroke-linejoin:miter;stroke:rgb(20%,20%,20%);stroke-opacity:1;stroke-miterlimit:10;\" d=\"M 252.753906 194.65625 L 164.714844 223.5625 \"/>\n",
       "<path style=\"fill:none;stroke-width:1;stroke-linecap:butt;stroke-linejoin:miter;stroke:rgb(20%,20%,20%);stroke-opacity:1;stroke-miterlimit:10;\" d=\"M 457.792969 246.800781 L 164.714844 223.5625 \"/>\n",
       "<path style=\"fill:none;stroke-width:1;stroke-linecap:butt;stroke-linejoin:miter;stroke:rgb(20%,20%,20%);stroke-opacity:1;stroke-miterlimit:10;\" d=\"M 68.082031 262.039062 L 333.015625 150.695312 \"/>\n",
       "<path style=\"fill:none;stroke-width:1;stroke-linecap:butt;stroke-linejoin:miter;stroke:rgb(20%,20%,20%);stroke-opacity:1;stroke-miterlimit:10;\" d=\"M 138.558594 20 L 333.015625 150.695312 \"/>\n",
       "<path style=\"fill:none;stroke-width:1;stroke-linecap:butt;stroke-linejoin:miter;stroke:rgb(80%,80%,80%);stroke-opacity:1;stroke-miterlimit:10;\" d=\"M 529.363281 103.054688 L 333.015625 150.695312 \"/>\n",
       "<path style=\"fill:none;stroke-width:1;stroke-linecap:butt;stroke-linejoin:miter;stroke:rgb(80%,80%,80%);stroke-opacity:1;stroke-miterlimit:10;\" d=\"M 150.0625 477.359375 L 333.015625 150.695312 \"/>\n",
       "<path style=\"fill:none;stroke-width:1;stroke-linecap:butt;stroke-linejoin:miter;stroke:rgb(20%,20%,20%);stroke-opacity:1;stroke-miterlimit:10;\" d=\"M 353.464844 27.820312 L 333.015625 150.695312 \"/>\n",
       "<path style=\"fill:none;stroke-width:1;stroke-linecap:butt;stroke-linejoin:miter;stroke:rgb(80%,80%,80%);stroke-opacity:1;stroke-miterlimit:10;\" d=\"M 68.082031 262.039062 L 326.257812 454.621094 \"/>\n",
       "<path style=\"fill:none;stroke-width:1;stroke-linecap:butt;stroke-linejoin:miter;stroke:rgb(80%,80%,80%);stroke-opacity:1;stroke-miterlimit:10;\" d=\"M 443.777344 580 L 326.257812 454.621094 \"/>\n",
       "<path style=\"fill:none;stroke-width:1;stroke-linecap:butt;stroke-linejoin:miter;stroke:rgb(20%,20%,20%);stroke-opacity:1;stroke-miterlimit:10;\" d=\"M 519.195312 434.203125 L 326.257812 454.621094 \"/>\n",
       "<path style=\"fill:none;stroke-width:1;stroke-linecap:butt;stroke-linejoin:miter;stroke:rgb(80%,80%,80%);stroke-opacity:1;stroke-miterlimit:10;\" d=\"M 252.753906 194.65625 L 326.257812 454.621094 \"/>\n",
       "<path style=\"fill:none;stroke-width:1;stroke-linecap:butt;stroke-linejoin:miter;stroke:rgb(20%,20%,20%);stroke-opacity:1;stroke-miterlimit:10;\" d=\"M 343.933594 301 L 326.257812 454.621094 \"/>\n",
       "<path style=\"fill:none;stroke-width:1;stroke-linecap:butt;stroke-linejoin:miter;stroke:rgb(80%,80%,80%);stroke-opacity:1;stroke-miterlimit:10;\" d=\"M 164.714844 223.5625 L 326.257812 454.621094 \"/>\n",
       "<path style=\"fill:none;stroke-width:1;stroke-linecap:butt;stroke-linejoin:miter;stroke:rgb(80%,80%,80%);stroke-opacity:1;stroke-miterlimit:10;\" d=\"M 189.097656 364.800781 L 403.722656 65.980469 \"/>\n",
       "<path style=\"fill:none;stroke-width:1;stroke-linecap:butt;stroke-linejoin:miter;stroke:rgb(20%,20%,20%);stroke-opacity:1;stroke-miterlimit:10;\" d=\"M 529.363281 103.054688 L 403.722656 65.980469 \"/>\n",
       "<path style=\"fill:none;stroke-width:1;stroke-linecap:butt;stroke-linejoin:miter;stroke:rgb(80%,80%,80%);stroke-opacity:1;stroke-miterlimit:10;\" d=\"M 252.753906 194.65625 L 403.722656 65.980469 \"/>\n",
       "<path style=\"fill:none;stroke-width:1;stroke-linecap:butt;stroke-linejoin:miter;stroke:rgb(80%,80%,80%);stroke-opacity:1;stroke-miterlimit:10;\" d=\"M 430.824219 170.410156 L 403.722656 65.980469 \"/>\n",
       "<path style=\"fill:none;stroke-width:1;stroke-linecap:butt;stroke-linejoin:miter;stroke:rgb(80%,80%,80%);stroke-opacity:1;stroke-miterlimit:10;\" d=\"M 164.714844 223.5625 L 403.722656 65.980469 \"/>\n",
       "<path style=\"fill:none;stroke-width:1;stroke-linecap:butt;stroke-linejoin:miter;stroke:rgb(20%,20%,20%);stroke-opacity:1;stroke-miterlimit:10;\" d=\"M 529.363281 103.054688 L 580 355.378906 \"/>\n",
       "<path style=\"fill:none;stroke-width:1;stroke-linecap:butt;stroke-linejoin:miter;stroke:rgb(80%,80%,80%);stroke-opacity:1;stroke-miterlimit:10;\" d=\"M 519.195312 434.203125 L 580 355.378906 \"/>\n",
       "<path style=\"fill:none;stroke-width:1;stroke-linecap:butt;stroke-linejoin:miter;stroke:rgb(80%,80%,80%);stroke-opacity:1;stroke-miterlimit:10;\" d=\"M 343.933594 301 L 580 355.378906 \"/>\n",
       "<path style=\"fill:none;stroke-width:1;stroke-linecap:butt;stroke-linejoin:miter;stroke:rgb(80%,80%,80%);stroke-opacity:1;stroke-miterlimit:10;\" d=\"M 333.015625 150.695312 L 580 355.378906 \"/>\n",
       "<path style=\"fill:none;stroke-width:1;stroke-linecap:butt;stroke-linejoin:miter;stroke:rgb(20%,20%,20%);stroke-opacity:1;stroke-miterlimit:10;\" d=\"M 189.097656 364.800781 L 20 402.464844 \"/>\n",
       "<path style=\"fill:none;stroke-width:1;stroke-linecap:butt;stroke-linejoin:miter;stroke:rgb(20%,20%,20%);stroke-opacity:1;stroke-miterlimit:10;\" d=\"M 150.0625 477.359375 L 20 402.464844 \"/>\n",
       "<path style=\"fill:none;stroke-width:1;stroke-linecap:butt;stroke-linejoin:miter;stroke:rgb(80%,80%,80%);stroke-opacity:1;stroke-miterlimit:10;\" d=\"M 135.390625 191.460938 L 20 402.464844 \"/>\n",
       "<path style=\"fill:none;stroke-width:1;stroke-linecap:butt;stroke-linejoin:miter;stroke:rgb(20%,20%,20%);stroke-opacity:1;stroke-miterlimit:10;\" d=\"M 164.714844 223.5625 L 20 402.464844 \"/>\n",
       "<path style=\"fill:none;stroke-width:1;stroke-linecap:butt;stroke-linejoin:miter;stroke:rgb(80%,80%,80%);stroke-opacity:1;stroke-miterlimit:10;\" d=\"M 292.546875 67.671875 L 258.144531 452.035156 \"/>\n",
       "<path style=\"fill:none;stroke-width:1;stroke-linecap:butt;stroke-linejoin:miter;stroke:rgb(80%,80%,80%);stroke-opacity:1;stroke-miterlimit:10;\" d=\"M 443.777344 580 L 258.144531 452.035156 \"/>\n",
       "<path style=\"fill:none;stroke-width:1;stroke-linecap:butt;stroke-linejoin:miter;stroke:rgb(20%,20%,20%);stroke-opacity:1;stroke-miterlimit:10;\" d=\"M 519.195312 434.203125 L 258.144531 452.035156 \"/>\n",
       "<path style=\"fill:none;stroke-width:1;stroke-linecap:butt;stroke-linejoin:miter;stroke:rgb(80%,80%,80%);stroke-opacity:1;stroke-miterlimit:10;\" d=\"M 20 402.464844 L 258.144531 452.035156 \"/>\n",
       "<path style=\"fill:none;stroke-width:1;stroke-linecap:butt;stroke-linejoin:miter;stroke:rgb(20%,20%,20%);stroke-opacity:1;stroke-miterlimit:10;\" d=\"M 300.230469 221.304688 L 207.410156 58.296875 \"/>\n",
       "<path style=\"fill:none;stroke-width:1;stroke-linecap:butt;stroke-linejoin:miter;stroke:rgb(20%,20%,20%);stroke-opacity:1;stroke-miterlimit:10;\" d=\"M 252.753906 194.65625 L 207.410156 58.296875 \"/>\n",
       "<path style=\"fill:none;stroke-width:1;stroke-linecap:butt;stroke-linejoin:miter;stroke:rgb(80%,80%,80%);stroke-opacity:1;stroke-miterlimit:10;\" d=\"M 430.824219 170.410156 L 207.410156 58.296875 \"/>\n",
       "<path style=\"fill:none;stroke-width:1;stroke-linecap:butt;stroke-linejoin:miter;stroke:rgb(80%,80%,80%);stroke-opacity:1;stroke-miterlimit:10;\" d=\"M 135.390625 191.460938 L 207.410156 58.296875 \"/>\n",
       "<path style=\"fill:none;stroke-width:1;stroke-linecap:butt;stroke-linejoin:miter;stroke:rgb(20%,20%,20%);stroke-opacity:1;stroke-miterlimit:10;\" d=\"M 164.714844 223.5625 L 207.410156 58.296875 \"/>\n",
       "<path style=\"fill:none;stroke-width:1;stroke-linecap:butt;stroke-linejoin:miter;stroke:rgb(80%,80%,80%);stroke-opacity:1;stroke-miterlimit:10;\" d=\"M 333.015625 150.695312 L 207.410156 58.296875 \"/>\n",
       "<path style=\"fill:none;stroke-width:1;stroke-linecap:butt;stroke-linejoin:miter;stroke:rgb(80%,80%,80%);stroke-opacity:1;stroke-miterlimit:10;\" d=\"M 403.722656 65.980469 L 207.410156 58.296875 \"/>\n",
       "<path style=\"fill:none;stroke-width:1;stroke-linecap:butt;stroke-linejoin:miter;stroke:rgb(80%,80%,80%);stroke-opacity:1;stroke-miterlimit:10;\" d=\"M 258.144531 452.035156 L 207.410156 58.296875 \"/>\n",
       "<path style=\"fill:none;stroke-width:1;stroke-linecap:butt;stroke-linejoin:miter;stroke:rgb(20%,20%,20%);stroke-opacity:1;stroke-miterlimit:10;\" d=\"M 529.363281 103.054688 L 579.558594 263.457031 \"/>\n",
       "<path style=\"fill:none;stroke-width:1;stroke-linecap:butt;stroke-linejoin:miter;stroke:rgb(80%,80%,80%);stroke-opacity:1;stroke-miterlimit:10;\" d=\"M 519.195312 434.203125 L 579.558594 263.457031 \"/>\n",
       "<path style=\"fill:none;stroke-width:1;stroke-linecap:butt;stroke-linejoin:miter;stroke:rgb(80%,80%,80%);stroke-opacity:1;stroke-miterlimit:10;\" d=\"M 430.824219 170.410156 L 579.558594 263.457031 \"/>\n",
       "<path style=\"fill:none;stroke-width:1;stroke-linecap:butt;stroke-linejoin:miter;stroke:rgb(80%,80%,80%);stroke-opacity:1;stroke-miterlimit:10;\" d=\"M 326.257812 454.621094 L 579.558594 263.457031 \"/>\n",
       "<path style=\"fill:none;stroke-width:1;stroke-linecap:butt;stroke-linejoin:miter;stroke:rgb(20%,20%,20%);stroke-opacity:1;stroke-miterlimit:10;\" d=\"M 403.722656 65.980469 L 579.558594 263.457031 \"/>\n",
       "<path style=\"fill:none;stroke-width:1;stroke-linecap:butt;stroke-linejoin:miter;stroke:rgb(20%,20%,20%);stroke-opacity:1;stroke-miterlimit:10;\" d=\"M 580 355.378906 L 579.558594 263.457031 \"/>\n",
       "<path style=\"fill:none;stroke-width:1;stroke-linecap:butt;stroke-linejoin:miter;stroke:rgb(80%,80%,80%);stroke-opacity:1;stroke-miterlimit:10;\" d=\"M 189.097656 364.800781 L 468.234375 304.183594 \"/>\n",
       "<path style=\"fill:none;stroke-width:1;stroke-linecap:butt;stroke-linejoin:miter;stroke:rgb(80%,80%,80%);stroke-opacity:1;stroke-miterlimit:10;\" d=\"M 529.363281 103.054688 L 468.234375 304.183594 \"/>\n",
       "<path style=\"fill:none;stroke-width:1;stroke-linecap:butt;stroke-linejoin:miter;stroke:rgb(80%,80%,80%);stroke-opacity:1;stroke-miterlimit:10;\" d=\"M 353.464844 27.820312 L 468.234375 304.183594 \"/>\n",
       "<path style=\"fill:none;stroke-width:1;stroke-linecap:butt;stroke-linejoin:miter;stroke:rgb(20%,20%,20%);stroke-opacity:1;stroke-miterlimit:10;\" d=\"M 519.195312 434.203125 L 468.234375 304.183594 \"/>\n",
       "<path style=\"fill:none;stroke-width:1;stroke-linecap:butt;stroke-linejoin:miter;stroke:rgb(80%,80%,80%);stroke-opacity:1;stroke-miterlimit:10;\" d=\"M 252.753906 194.65625 L 468.234375 304.183594 \"/>\n",
       "<path style=\"fill:none;stroke-width:1;stroke-linecap:butt;stroke-linejoin:miter;stroke:rgb(20%,20%,20%);stroke-opacity:1;stroke-miterlimit:10;\" d=\"M 430.824219 170.410156 L 468.234375 304.183594 \"/>\n",
       "<path style=\"fill:none;stroke-width:1;stroke-linecap:butt;stroke-linejoin:miter;stroke:rgb(20%,20%,20%);stroke-opacity:1;stroke-miterlimit:10;\" d=\"M 343.933594 301 L 468.234375 304.183594 \"/>\n",
       "<path style=\"fill:none;stroke-width:1;stroke-linecap:butt;stroke-linejoin:miter;stroke:rgb(20%,20%,20%);stroke-opacity:1;stroke-miterlimit:10;\" d=\"M 326.257812 454.621094 L 468.234375 304.183594 \"/>\n",
       "<path style=\"fill:none;stroke-width:1;stroke-linecap:butt;stroke-linejoin:miter;stroke:rgb(20%,20%,20%);stroke-opacity:1;stroke-miterlimit:10;\" d=\"M 258.144531 452.035156 L 468.234375 304.183594 \"/>\n",
       "<path style=\"fill:none;stroke-width:1;stroke-linecap:butt;stroke-linejoin:miter;stroke:rgb(80%,80%,80%);stroke-opacity:1;stroke-miterlimit:10;\" d=\"M 292.546875 67.671875 L 575.714844 136.449219 \"/>\n",
       "<path style=\"fill:none;stroke-width:1;stroke-linecap:butt;stroke-linejoin:miter;stroke:rgb(20%,20%,20%);stroke-opacity:1;stroke-miterlimit:10;\" d=\"M 519.195312 434.203125 L 575.714844 136.449219 \"/>\n",
       "<path style=\"fill:none;stroke-width:1;stroke-linecap:butt;stroke-linejoin:miter;stroke:rgb(20%,20%,20%);stroke-opacity:1;stroke-miterlimit:10;\" d=\"M 430.824219 170.410156 L 575.714844 136.449219 \"/>\n",
       "<path style=\"fill:none;stroke-width:1;stroke-linecap:butt;stroke-linejoin:miter;stroke:rgb(80%,80%,80%);stroke-opacity:1;stroke-miterlimit:10;\" d=\"M 333.015625 150.695312 L 575.714844 136.449219 \"/>\n",
       "<path style=\"fill:none;stroke-width:1;stroke-linecap:butt;stroke-linejoin:miter;stroke:rgb(80%,80%,80%);stroke-opacity:1;stroke-miterlimit:10;\" d=\"M 403.722656 65.980469 L 575.714844 136.449219 \"/>\n",
       "<path style=\"fill:none;stroke-width:1;stroke-linecap:butt;stroke-linejoin:miter;stroke:rgb(80%,80%,80%);stroke-opacity:1;stroke-miterlimit:10;\" d=\"M 580 355.378906 L 575.714844 136.449219 \"/>\n",
       "<path style=\"fill:none;stroke-width:1;stroke-linecap:butt;stroke-linejoin:miter;stroke:rgb(20%,20%,20%);stroke-opacity:1;stroke-miterlimit:10;\" d=\"M 468.234375 304.183594 L 575.714844 136.449219 \"/>\n",
       "<path style=\"fill:none;stroke-width:1;stroke-linecap:butt;stroke-linejoin:miter;stroke:rgb(80%,80%,80%);stroke-opacity:1;stroke-miterlimit:10;\" d=\"M 189.097656 364.800781 L 378.972656 357.578125 \"/>\n",
       "<path style=\"fill:none;stroke-width:1;stroke-linecap:butt;stroke-linejoin:miter;stroke:rgb(20%,20%,20%);stroke-opacity:1;stroke-miterlimit:10;\" d=\"M 443.777344 580 L 378.972656 357.578125 \"/>\n",
       "<path style=\"fill:none;stroke-width:1;stroke-linecap:butt;stroke-linejoin:miter;stroke:rgb(20%,20%,20%);stroke-opacity:1;stroke-miterlimit:10;\" d=\"M 529.363281 103.054688 L 378.972656 357.578125 \"/>\n",
       "<path style=\"fill:none;stroke-width:1;stroke-linecap:butt;stroke-linejoin:miter;stroke:rgb(80%,80%,80%);stroke-opacity:1;stroke-miterlimit:10;\" d=\"M 150.0625 477.359375 L 378.972656 357.578125 \"/>\n",
       "<path style=\"fill:none;stroke-width:1;stroke-linecap:butt;stroke-linejoin:miter;stroke:rgb(80%,80%,80%);stroke-opacity:1;stroke-miterlimit:10;\" d=\"M 457.792969 246.800781 L 378.972656 357.578125 \"/>\n",
       "<path style=\"fill:none;stroke-width:1;stroke-linecap:butt;stroke-linejoin:miter;stroke:rgb(80%,80%,80%);stroke-opacity:1;stroke-miterlimit:10;\" d=\"M 430.824219 170.410156 L 378.972656 357.578125 \"/>\n",
       "<path style=\"fill:none;stroke-width:1;stroke-linecap:butt;stroke-linejoin:miter;stroke:rgb(80%,80%,80%);stroke-opacity:1;stroke-miterlimit:10;\" d=\"M 135.390625 191.460938 L 378.972656 357.578125 \"/>\n",
       "<path style=\"fill:none;stroke-width:1;stroke-linecap:butt;stroke-linejoin:miter;stroke:rgb(80%,80%,80%);stroke-opacity:1;stroke-miterlimit:10;\" d=\"M 333.015625 150.695312 L 378.972656 357.578125 \"/>\n",
       "<path style=\"fill:none;stroke-width:1;stroke-linecap:butt;stroke-linejoin:miter;stroke:rgb(20%,20%,20%);stroke-opacity:1;stroke-miterlimit:10;\" d=\"M 403.722656 65.980469 L 378.972656 357.578125 \"/>\n",
       "<path style=\"fill:none;stroke-width:1;stroke-linecap:butt;stroke-linejoin:miter;stroke:rgb(20%,20%,20%);stroke-opacity:1;stroke-miterlimit:10;\" d=\"M 580 355.378906 L 378.972656 357.578125 \"/>\n",
       "<path style=\"fill:none;stroke-width:1;stroke-linecap:butt;stroke-linejoin:miter;stroke:rgb(80%,80%,80%);stroke-opacity:1;stroke-miterlimit:10;\" d=\"M 457.792969 246.800781 L 437.441406 455.035156 \"/>\n",
       "<path style=\"fill:none;stroke-width:1;stroke-linecap:butt;stroke-linejoin:miter;stroke:rgb(20%,20%,20%);stroke-opacity:1;stroke-miterlimit:10;\" d=\"M 430.824219 170.410156 L 437.441406 455.035156 \"/>\n",
       "<path style=\"fill:none;stroke-width:1;stroke-linecap:butt;stroke-linejoin:miter;stroke:rgb(80%,80%,80%);stroke-opacity:1;stroke-miterlimit:10;\" d=\"M 135.390625 191.460938 L 437.441406 455.035156 \"/>\n",
       "<path style=\"fill:none;stroke-width:1;stroke-linecap:butt;stroke-linejoin:miter;stroke:rgb(20%,20%,20%);stroke-opacity:1;stroke-miterlimit:10;\" d=\"M 343.933594 301 L 437.441406 455.035156 \"/>\n",
       "<path style=\"fill:none;stroke-width:1;stroke-linecap:butt;stroke-linejoin:miter;stroke:rgb(80%,80%,80%);stroke-opacity:1;stroke-miterlimit:10;\" d=\"M 580 355.378906 L 437.441406 455.035156 \"/>\n",
       "<path style=\"fill:none;stroke-width:1;stroke-linecap:butt;stroke-linejoin:miter;stroke:rgb(20%,20%,20%);stroke-opacity:1;stroke-miterlimit:10;\" d=\"M 258.144531 452.035156 L 437.441406 455.035156 \"/>\n",
       "<path style=\"fill:none;stroke-width:1;stroke-linecap:butt;stroke-linejoin:miter;stroke:rgb(20%,20%,20%);stroke-opacity:1;stroke-miterlimit:10;\" d=\"M 468.234375 304.183594 L 437.441406 455.035156 \"/>\n",
       "<path style=\"fill:none;stroke-width:1;stroke-linecap:butt;stroke-linejoin:miter;stroke:rgb(80%,80%,80%);stroke-opacity:1;stroke-miterlimit:10;\" d=\"M 378.972656 357.578125 L 437.441406 455.035156 \"/>\n",
       "<path style=\"fill:none;stroke-width:1;stroke-linecap:butt;stroke-linejoin:miter;stroke:rgb(20%,20%,20%);stroke-opacity:1;stroke-miterlimit:10;\" d=\"M 300.230469 221.304688 L 250.371094 384.851562 \"/>\n",
       "<path style=\"fill:none;stroke-width:1;stroke-linecap:butt;stroke-linejoin:miter;stroke:rgb(20%,20%,20%);stroke-opacity:1;stroke-miterlimit:10;\" d=\"M 150.0625 477.359375 L 250.371094 384.851562 \"/>\n",
       "<path style=\"fill:none;stroke-width:1;stroke-linecap:butt;stroke-linejoin:miter;stroke:rgb(20%,20%,20%);stroke-opacity:1;stroke-miterlimit:10;\" d=\"M 252.753906 194.65625 L 250.371094 384.851562 \"/>\n",
       "<path style=\"fill:none;stroke-width:1;stroke-linecap:butt;stroke-linejoin:miter;stroke:rgb(80%,80%,80%);stroke-opacity:1;stroke-miterlimit:10;\" d=\"M 430.824219 170.410156 L 250.371094 384.851562 \"/>\n",
       "<path style=\"fill:none;stroke-width:1;stroke-linecap:butt;stroke-linejoin:miter;stroke:rgb(80%,80%,80%);stroke-opacity:1;stroke-miterlimit:10;\" d=\"M 135.390625 191.460938 L 250.371094 384.851562 \"/>\n",
       "<path style=\"fill:none;stroke-width:1;stroke-linecap:butt;stroke-linejoin:miter;stroke:rgb(80%,80%,80%);stroke-opacity:1;stroke-miterlimit:10;\" d=\"M 343.933594 301 L 250.371094 384.851562 \"/>\n",
       "<path style=\"fill:none;stroke-width:1;stroke-linecap:butt;stroke-linejoin:miter;stroke:rgb(20%,20%,20%);stroke-opacity:1;stroke-miterlimit:10;\" d=\"M 164.714844 223.5625 L 250.371094 384.851562 \"/>\n",
       "<path style=\"fill:none;stroke-width:1;stroke-linecap:butt;stroke-linejoin:miter;stroke:rgb(80%,80%,80%);stroke-opacity:1;stroke-miterlimit:10;\" d=\"M 579.558594 263.457031 L 250.371094 384.851562 \"/>\n",
       "<path style=\"fill:none;stroke-width:1;stroke-linecap:butt;stroke-linejoin:miter;stroke:rgb(80%,80%,80%);stroke-opacity:1;stroke-miterlimit:10;\" d=\"M 189.097656 364.800781 L 339.832031 551.765625 \"/>\n",
       "<path style=\"fill:none;stroke-width:1;stroke-linecap:butt;stroke-linejoin:miter;stroke:rgb(80%,80%,80%);stroke-opacity:1;stroke-miterlimit:10;\" d=\"M 300.230469 221.304688 L 339.832031 551.765625 \"/>\n",
       "<path style=\"fill:none;stroke-width:1;stroke-linecap:butt;stroke-linejoin:miter;stroke:rgb(20%,20%,20%);stroke-opacity:1;stroke-miterlimit:10;\" d=\"M 443.777344 580 L 339.832031 551.765625 \"/>\n",
       "<path style=\"fill:none;stroke-width:1;stroke-linecap:butt;stroke-linejoin:miter;stroke:rgb(80%,80%,80%);stroke-opacity:1;stroke-miterlimit:10;\" d=\"M 150.0625 477.359375 L 339.832031 551.765625 \"/>\n",
       "<path style=\"fill:none;stroke-width:1;stroke-linecap:butt;stroke-linejoin:miter;stroke:rgb(80%,80%,80%);stroke-opacity:1;stroke-miterlimit:10;\" d=\"M 519.195312 434.203125 L 339.832031 551.765625 \"/>\n",
       "<path style=\"fill:none;stroke-width:1;stroke-linecap:butt;stroke-linejoin:miter;stroke:rgb(20%,20%,20%);stroke-opacity:1;stroke-miterlimit:10;\" d=\"M 580 355.378906 L 339.832031 551.765625 \"/>\n",
       "<path style=\"fill:none;stroke-width:1;stroke-linecap:butt;stroke-linejoin:miter;stroke:rgb(20%,20%,20%);stroke-opacity:1;stroke-miterlimit:10;\" d=\"M 378.972656 357.578125 L 339.832031 551.765625 \"/>\n",
       "<path style=\"fill:none;stroke-width:1;stroke-linecap:butt;stroke-linejoin:miter;stroke:rgb(80%,80%,80%);stroke-opacity:1;stroke-miterlimit:10;\" d=\"M 437.441406 455.035156 L 339.832031 551.765625 \"/>\n",
       "<path style=\"fill:none;stroke-width:1;stroke-linecap:butt;stroke-linejoin:miter;stroke:rgb(80%,80%,80%);stroke-opacity:1;stroke-miterlimit:10;\" d=\"M 250.371094 384.851562 L 339.832031 551.765625 \"/>\n",
       "<path style=\"fill-rule:nonzero;fill:rgb(100%,0%,0%);fill-opacity:1;stroke-width:1;stroke-linecap:butt;stroke-linejoin:miter;stroke:rgb(0%,0%,0%);stroke-opacity:1;stroke-miterlimit:10;\" d=\"M 302.546875 67.671875 C 302.546875 73.195312 298.070312 77.671875 292.546875 77.671875 C 287.023438 77.671875 282.546875 73.195312 282.546875 67.671875 C 282.546875 62.148438 287.023438 57.671875 292.546875 57.671875 C 298.070312 57.671875 302.546875 62.148438 302.546875 67.671875 \"/>\n",
       "<path style=\"fill-rule:nonzero;fill:rgb(100%,0%,0%);fill-opacity:1;stroke-width:1;stroke-linecap:butt;stroke-linejoin:miter;stroke:rgb(0%,0%,0%);stroke-opacity:1;stroke-miterlimit:10;\" d=\"M 199.097656 364.800781 C 199.097656 370.324219 194.621094 374.800781 189.097656 374.800781 C 183.574219 374.800781 179.097656 370.324219 179.097656 364.800781 C 179.097656 359.28125 183.574219 354.800781 189.097656 354.800781 C 194.621094 354.800781 199.097656 359.28125 199.097656 364.800781 \"/>\n",
       "<path style=\"fill-rule:nonzero;fill:rgb(0%,100%,0%);fill-opacity:1;stroke-width:1;stroke-linecap:butt;stroke-linejoin:miter;stroke:rgb(0%,0%,0%);stroke-opacity:1;stroke-miterlimit:10;\" d=\"M 78.082031 262.039062 C 78.082031 267.5625 73.605469 272.039062 68.082031 272.039062 C 62.558594 272.039062 58.082031 267.5625 58.082031 262.039062 C 58.082031 256.515625 62.558594 252.039062 68.082031 252.039062 C 73.605469 252.039062 78.082031 256.515625 78.082031 262.039062 \"/>\n",
       "<path style=\"fill-rule:nonzero;fill:rgb(0%,100%,0%);fill-opacity:1;stroke-width:1;stroke-linecap:butt;stroke-linejoin:miter;stroke:rgb(0%,0%,0%);stroke-opacity:1;stroke-miterlimit:10;\" d=\"M 148.558594 20 C 148.558594 25.523438 144.082031 30 138.558594 30 C 133.035156 30 128.558594 25.523438 128.558594 20 C 128.558594 14.476562 133.035156 10 138.558594 10 C 144.082031 10 148.558594 14.476562 148.558594 20 \"/>\n",
       "<path style=\"fill-rule:nonzero;fill:rgb(100%,0%,0%);fill-opacity:1;stroke-width:1;stroke-linecap:butt;stroke-linejoin:miter;stroke:rgb(0%,0%,0%);stroke-opacity:1;stroke-miterlimit:10;\" d=\"M 310.230469 221.304688 C 310.230469 226.828125 305.753906 231.304688 300.230469 231.304688 C 294.707031 231.304688 290.230469 226.828125 290.230469 221.304688 C 290.230469 215.785156 294.707031 211.304688 300.230469 211.304688 C 305.753906 211.304688 310.230469 215.785156 310.230469 221.304688 \"/>\n",
       "<path style=\"fill-rule:nonzero;fill:rgb(0%,0%,100%);fill-opacity:1;stroke-width:1;stroke-linecap:butt;stroke-linejoin:miter;stroke:rgb(0%,0%,0%);stroke-opacity:1;stroke-miterlimit:10;\" d=\"M 453.777344 580 C 453.777344 585.523438 449.300781 590 443.777344 590 C 438.253906 590 433.777344 585.523438 433.777344 580 C 433.777344 574.476562 438.253906 570 443.777344 570 C 449.300781 570 453.777344 574.476562 453.777344 580 \"/>\n",
       "<path style=\"fill-rule:nonzero;fill:rgb(0%,0%,100%);fill-opacity:1;stroke-width:1;stroke-linecap:butt;stroke-linejoin:miter;stroke:rgb(0%,0%,0%);stroke-opacity:1;stroke-miterlimit:10;\" d=\"M 539.363281 103.054688 C 539.363281 108.578125 534.886719 113.054688 529.363281 113.054688 C 523.839844 113.054688 519.363281 108.578125 519.363281 103.054688 C 519.363281 97.535156 523.839844 93.054688 529.363281 93.054688 C 534.886719 93.054688 539.363281 97.535156 539.363281 103.054688 \"/>\n",
       "<path style=\"fill-rule:nonzero;fill:rgb(100%,0%,0%);fill-opacity:1;stroke-width:1;stroke-linecap:butt;stroke-linejoin:miter;stroke:rgb(0%,0%,0%);stroke-opacity:1;stroke-miterlimit:10;\" d=\"M 160.0625 477.359375 C 160.0625 482.882812 155.585938 487.359375 150.0625 487.359375 C 144.539062 487.359375 140.0625 482.882812 140.0625 477.359375 C 140.0625 471.835938 144.539062 467.359375 150.0625 467.359375 C 155.585938 467.359375 160.0625 471.835938 160.0625 477.359375 \"/>\n",
       "<path style=\"fill-rule:nonzero;fill:rgb(0%,100%,0%);fill-opacity:1;stroke-width:1;stroke-linecap:butt;stroke-linejoin:miter;stroke:rgb(0%,0%,0%);stroke-opacity:1;stroke-miterlimit:10;\" d=\"M 363.464844 27.820312 C 363.464844 33.34375 358.988281 37.820312 353.464844 37.820312 C 347.941406 37.820312 343.464844 33.34375 343.464844 27.820312 C 343.464844 22.300781 347.941406 17.820312 353.464844 17.820312 C 358.988281 17.820312 363.464844 22.300781 363.464844 27.820312 \"/>\n",
       "<path style=\"fill-rule:nonzero;fill:rgb(100%,100%,0%);fill-opacity:1;stroke-width:1;stroke-linecap:butt;stroke-linejoin:miter;stroke:rgb(0%,0%,0%);stroke-opacity:1;stroke-miterlimit:10;\" d=\"M 529.195312 434.203125 C 529.195312 439.722656 524.71875 444.203125 519.195312 444.203125 C 513.675781 444.203125 509.195312 439.722656 509.195312 434.203125 C 509.195312 428.679688 513.675781 424.203125 519.195312 424.203125 C 524.71875 424.203125 529.195312 428.679688 529.195312 434.203125 \"/>\n",
       "<path style=\"fill-rule:nonzero;fill:rgb(100%,0%,0%);fill-opacity:1;stroke-width:1;stroke-linecap:butt;stroke-linejoin:miter;stroke:rgb(0%,0%,0%);stroke-opacity:1;stroke-miterlimit:10;\" d=\"M 262.753906 194.65625 C 262.753906 200.179688 258.277344 204.65625 252.753906 204.65625 C 247.230469 204.65625 242.753906 200.179688 242.753906 194.65625 C 242.753906 189.132812 247.230469 184.65625 252.753906 184.65625 C 258.277344 184.65625 262.753906 189.132812 262.753906 194.65625 \"/>\n",
       "<path style=\"fill-rule:nonzero;fill:rgb(100%,0%,0%);fill-opacity:1;stroke-width:1;stroke-linecap:butt;stroke-linejoin:miter;stroke:rgb(0%,0%,0%);stroke-opacity:1;stroke-miterlimit:10;\" d=\"M 467.792969 246.800781 C 467.792969 252.320312 463.316406 256.800781 457.792969 256.800781 C 452.269531 256.800781 447.792969 252.320312 447.792969 246.800781 C 447.792969 241.277344 452.269531 236.800781 457.792969 236.800781 C 463.316406 236.800781 467.792969 241.277344 467.792969 246.800781 \"/>\n",
       "<path style=\"fill-rule:nonzero;fill:rgb(100%,100%,0%);fill-opacity:1;stroke-width:1;stroke-linecap:butt;stroke-linejoin:miter;stroke:rgb(0%,0%,0%);stroke-opacity:1;stroke-miterlimit:10;\" d=\"M 440.824219 170.410156 C 440.824219 175.933594 436.347656 180.410156 430.824219 180.410156 C 425.304688 180.410156 420.824219 175.933594 420.824219 170.410156 C 420.824219 164.886719 425.304688 160.410156 430.824219 160.410156 C 436.347656 160.410156 440.824219 164.886719 440.824219 170.410156 \"/>\n",
       "<path style=\"fill-rule:nonzero;fill:rgb(0%,100%,0%);fill-opacity:1;stroke-width:1;stroke-linecap:butt;stroke-linejoin:miter;stroke:rgb(0%,0%,0%);stroke-opacity:1;stroke-miterlimit:10;\" d=\"M 145.390625 191.460938 C 145.390625 196.980469 140.914062 201.460938 135.390625 201.460938 C 129.867188 201.460938 125.390625 196.980469 125.390625 191.460938 C 125.390625 185.9375 129.867188 181.460938 135.390625 181.460938 C 140.914062 181.460938 145.390625 185.9375 145.390625 191.460938 \"/>\n",
       "<path style=\"fill-rule:nonzero;fill:rgb(100%,100%,0%);fill-opacity:1;stroke-width:1;stroke-linecap:butt;stroke-linejoin:miter;stroke:rgb(0%,0%,0%);stroke-opacity:1;stroke-miterlimit:10;\" d=\"M 353.933594 301 C 353.933594 306.523438 349.457031 311 343.933594 311 C 338.410156 311 333.933594 306.523438 333.933594 301 C 333.933594 295.476562 338.410156 291 343.933594 291 C 349.457031 291 353.933594 295.476562 353.933594 301 \"/>\n",
       "<path style=\"fill-rule:nonzero;fill:rgb(100%,0%,0%);fill-opacity:1;stroke-width:1;stroke-linecap:butt;stroke-linejoin:miter;stroke:rgb(0%,0%,0%);stroke-opacity:1;stroke-miterlimit:10;\" d=\"M 174.714844 223.5625 C 174.714844 229.085938 170.238281 233.5625 164.714844 233.5625 C 159.191406 233.5625 154.714844 229.085938 154.714844 223.5625 C 154.714844 218.039062 159.191406 213.5625 164.714844 213.5625 C 170.238281 213.5625 174.714844 218.039062 174.714844 223.5625 \"/>\n",
       "<path style=\"fill-rule:nonzero;fill:rgb(0%,100%,0%);fill-opacity:1;stroke-width:1;stroke-linecap:butt;stroke-linejoin:miter;stroke:rgb(0%,0%,0%);stroke-opacity:1;stroke-miterlimit:10;\" d=\"M 343.015625 150.695312 C 343.015625 156.21875 338.539062 160.695312 333.015625 160.695312 C 327.492188 160.695312 323.015625 156.21875 323.015625 150.695312 C 323.015625 145.175781 327.492188 140.695312 333.015625 140.695312 C 338.539062 140.695312 343.015625 145.175781 343.015625 150.695312 \"/>\n",
       "<path style=\"fill-rule:nonzero;fill:rgb(100%,100%,0%);fill-opacity:1;stroke-width:1;stroke-linecap:butt;stroke-linejoin:miter;stroke:rgb(0%,0%,0%);stroke-opacity:1;stroke-miterlimit:10;\" d=\"M 336.257812 454.621094 C 336.257812 460.144531 331.777344 464.621094 326.257812 464.621094 C 320.734375 464.621094 316.257812 460.144531 316.257812 454.621094 C 316.257812 449.097656 320.734375 444.621094 326.257812 444.621094 C 331.777344 444.621094 336.257812 449.097656 336.257812 454.621094 \"/>\n",
       "<path style=\"fill-rule:nonzero;fill:rgb(0%,0%,100%);fill-opacity:1;stroke-width:1;stroke-linecap:butt;stroke-linejoin:miter;stroke:rgb(0%,0%,0%);stroke-opacity:1;stroke-miterlimit:10;\" d=\"M 413.722656 65.980469 C 413.722656 71.503906 409.246094 75.980469 403.722656 75.980469 C 398.199219 75.980469 393.722656 71.503906 393.722656 65.980469 C 393.722656 60.457031 398.199219 55.980469 403.722656 55.980469 C 409.246094 55.980469 413.722656 60.457031 413.722656 65.980469 \"/>\n",
       "<path style=\"fill-rule:nonzero;fill:rgb(0%,0%,100%);fill-opacity:1;stroke-width:1;stroke-linecap:butt;stroke-linejoin:miter;stroke:rgb(0%,0%,0%);stroke-opacity:1;stroke-miterlimit:10;\" d=\"M 590 355.378906 C 590 360.902344 585.523438 365.378906 580 365.378906 C 574.476562 365.378906 570 360.902344 570 355.378906 C 570 349.855469 574.476562 345.378906 580 345.378906 C 585.523438 345.378906 590 349.855469 590 355.378906 \"/>\n",
       "<path style=\"fill-rule:nonzero;fill:rgb(100%,0%,0%);fill-opacity:1;stroke-width:1;stroke-linecap:butt;stroke-linejoin:miter;stroke:rgb(0%,0%,0%);stroke-opacity:1;stroke-miterlimit:10;\" d=\"M 30 402.464844 C 30 407.988281 25.523438 412.464844 20 412.464844 C 14.476562 412.464844 10 407.988281 10 402.464844 C 10 396.941406 14.476562 392.464844 20 392.464844 C 25.523438 392.464844 30 396.941406 30 402.464844 \"/>\n",
       "<path style=\"fill-rule:nonzero;fill:rgb(100%,100%,0%);fill-opacity:1;stroke-width:1;stroke-linecap:butt;stroke-linejoin:miter;stroke:rgb(0%,0%,0%);stroke-opacity:1;stroke-miterlimit:10;\" d=\"M 268.144531 452.035156 C 268.144531 457.558594 263.667969 462.035156 258.144531 462.035156 C 252.621094 462.035156 248.144531 457.558594 248.144531 452.035156 C 248.144531 446.511719 252.621094 442.035156 258.144531 442.035156 C 263.667969 442.035156 268.144531 446.511719 268.144531 452.035156 \"/>\n",
       "<path style=\"fill-rule:nonzero;fill:rgb(100%,0%,0%);fill-opacity:1;stroke-width:1;stroke-linecap:butt;stroke-linejoin:miter;stroke:rgb(0%,0%,0%);stroke-opacity:1;stroke-miterlimit:10;\" d=\"M 217.410156 58.296875 C 217.410156 63.816406 212.933594 68.296875 207.410156 68.296875 C 201.886719 68.296875 197.410156 63.816406 197.410156 58.296875 C 197.410156 52.773438 201.886719 48.296875 207.410156 48.296875 C 212.933594 48.296875 217.410156 52.773438 217.410156 58.296875 \"/>\n",
       "<path style=\"fill-rule:nonzero;fill:rgb(0%,0%,100%);fill-opacity:1;stroke-width:1;stroke-linecap:butt;stroke-linejoin:miter;stroke:rgb(0%,0%,0%);stroke-opacity:1;stroke-miterlimit:10;\" d=\"M 589.558594 263.457031 C 589.558594 268.980469 585.082031 273.457031 579.558594 273.457031 C 574.035156 273.457031 569.558594 268.980469 569.558594 263.457031 C 569.558594 257.933594 574.035156 253.457031 579.558594 253.457031 C 585.082031 253.457031 589.558594 257.933594 589.558594 263.457031 \"/>\n",
       "<path style=\"fill-rule:nonzero;fill:rgb(100%,100%,0%);fill-opacity:1;stroke-width:1;stroke-linecap:butt;stroke-linejoin:miter;stroke:rgb(0%,0%,0%);stroke-opacity:1;stroke-miterlimit:10;\" d=\"M 478.234375 304.183594 C 478.234375 309.703125 473.753906 314.183594 468.234375 314.183594 C 462.710938 314.183594 458.234375 309.703125 458.234375 304.183594 C 458.234375 298.660156 462.710938 294.183594 468.234375 294.183594 C 473.753906 294.183594 478.234375 298.660156 478.234375 304.183594 \"/>\n",
       "<path style=\"fill-rule:nonzero;fill:rgb(100%,100%,0%);fill-opacity:1;stroke-width:1;stroke-linecap:butt;stroke-linejoin:miter;stroke:rgb(0%,0%,0%);stroke-opacity:1;stroke-miterlimit:10;\" d=\"M 585.714844 136.449219 C 585.714844 141.972656 581.238281 146.449219 575.714844 146.449219 C 570.195312 146.449219 565.714844 141.972656 565.714844 136.449219 C 565.714844 130.925781 570.195312 126.449219 575.714844 126.449219 C 581.238281 126.449219 585.714844 130.925781 585.714844 136.449219 \"/>\n",
       "<path style=\"fill-rule:nonzero;fill:rgb(0%,0%,100%);fill-opacity:1;stroke-width:1;stroke-linecap:butt;stroke-linejoin:miter;stroke:rgb(0%,0%,0%);stroke-opacity:1;stroke-miterlimit:10;\" d=\"M 388.972656 357.578125 C 388.972656 363.101562 384.496094 367.578125 378.972656 367.578125 C 373.449219 367.578125 368.972656 363.101562 368.972656 357.578125 C 368.972656 352.054688 373.449219 347.578125 378.972656 347.578125 C 384.496094 347.578125 388.972656 352.054688 388.972656 357.578125 \"/>\n",
       "<path style=\"fill-rule:nonzero;fill:rgb(100%,100%,0%);fill-opacity:1;stroke-width:1;stroke-linecap:butt;stroke-linejoin:miter;stroke:rgb(0%,0%,0%);stroke-opacity:1;stroke-miterlimit:10;\" d=\"M 447.441406 455.035156 C 447.441406 460.558594 442.960938 465.035156 437.441406 465.035156 C 431.917969 465.035156 427.441406 460.558594 427.441406 455.035156 C 427.441406 449.511719 431.917969 445.035156 437.441406 445.035156 C 442.960938 445.035156 447.441406 449.511719 447.441406 455.035156 \"/>\n",
       "<path style=\"fill-rule:nonzero;fill:rgb(100%,0%,0%);fill-opacity:1;stroke-width:1;stroke-linecap:butt;stroke-linejoin:miter;stroke:rgb(0%,0%,0%);stroke-opacity:1;stroke-miterlimit:10;\" d=\"M 260.371094 384.851562 C 260.371094 390.375 255.894531 394.851562 250.371094 394.851562 C 244.847656 394.851562 240.371094 390.375 240.371094 384.851562 C 240.371094 379.328125 244.847656 374.851562 250.371094 374.851562 C 255.894531 374.851562 260.371094 379.328125 260.371094 384.851562 \"/>\n",
       "<path style=\"fill-rule:nonzero;fill:rgb(0%,0%,100%);fill-opacity:1;stroke-width:1;stroke-linecap:butt;stroke-linejoin:miter;stroke:rgb(0%,0%,0%);stroke-opacity:1;stroke-miterlimit:10;\" d=\"M 349.832031 551.765625 C 349.832031 557.289062 345.355469 561.765625 339.832031 561.765625 C 334.308594 561.765625 329.832031 557.289062 329.832031 551.765625 C 329.832031 546.242188 334.308594 541.765625 339.832031 541.765625 C 345.355469 541.765625 349.832031 546.242188 349.832031 551.765625 \"/>\n",
       "</g>\n",
       "</svg>\n"
      ],
      "text/plain": [
       "<igraph.drawing.Plot at 0x1225217f0>"
      ]
     },
     "execution_count": 19,
     "metadata": {},
     "output_type": "execute_result"
    }
   ],
   "source": [
    "from igraph import *\n",
    "import random\n",
    "random.seed(1)\n",
    "\n",
    "\n",
    "g = Graph.Erdos_Renyi(30,0.3)\n",
    "# g = Graph.Erdos_Renyi(3,0.3)\n",
    "comms = g.community_multilevel()\n",
    "plot(comms, mark_groups = True)"
   ]
  },
  {
   "cell_type": "code",
   "execution_count": 20,
   "metadata": {},
   "outputs": [
    {
     "name": "stdout",
     "output_type": "stream",
     "text": [
      "<class 'igraph.clustering.VertexClustering'>\n"
     ]
    },
    {
     "data": {
      "text/plain": [
       "[[0, 1, 4, 7, 10, 11, 15, 20, 22, 28],\n",
       " [2, 3, 8, 13, 16],\n",
       " [5, 6, 18, 19, 23, 26, 29],\n",
       " [9, 12, 14, 17, 21, 24, 25, 27]]"
      ]
     },
     "execution_count": 20,
     "metadata": {},
     "output_type": "execute_result"
    }
   ],
   "source": [
    "print(type(comms))\n",
    "l = list(comms)\n",
    "l"
   ]
  },
  {
   "cell_type": "code",
   "execution_count": 28,
   "metadata": {},
   "outputs": [
    {
     "data": {
      "image/svg+xml": [
       "<?xml version=\"1.0\" encoding=\"UTF-8\"?>\n",
       "<svg xmlns=\"http://www.w3.org/2000/svg\" xmlns:xlink=\"http://www.w3.org/1999/xlink\" width=\"600pt\" height=\"600pt\" viewBox=\"0 0 600 600\" version=\"1.1\">\n",
       "<g id=\"surface68\">\n",
       "<rect x=\"0\" y=\"0\" width=\"600\" height=\"600\" style=\"fill:rgb(100%,100%,100%);fill-opacity:1;stroke:none;\"/>\n",
       "<path style=\"fill-rule:nonzero;fill:rgb(100%,0%,0%);fill-opacity:0.25;stroke-width:2;stroke-linecap:butt;stroke-linejoin:miter;stroke:rgb(100%,0%,0%);stroke-opacity:1;stroke-miterlimit:10;\" d=\"M 595.722656 11.921875 C 599.761719 19.785156 601.097656 36.0625 598.394531 44.476562 L 464.492188 461.242188 C 461.789062 469.65625 451.222656 482.109375 443.363281 486.148438 C 435.5 490.1875 423.597656 486.363281 419.558594 478.5 C 415.519531 470.636719 414.1875 454.359375 416.890625 445.945312 L 550.789062 29.183594 C 553.496094 20.769531 564.058594 8.3125 571.921875 4.277344 C 579.785156 0.238281 591.6875 4.058594 595.722656 11.921875 \"/>\n",
       "<path style=\"fill-rule:nonzero;fill:rgb(0%,100%,0%);fill-opacity:0.25;stroke-width:2;stroke-linecap:butt;stroke-linejoin:miter;stroke:rgb(0%,100%,0%);stroke-opacity:1;stroke-miterlimit:10;\" d=\"M 19.773438 359.589844 C 28.609375 359.476562 43.777344 365.53125 50.109375 371.699219 L 232.816406 549.757812 C 239.144531 555.925781 245.589844 570.933594 245.703125 579.773438 C 245.816406 588.609375 237.09375 597.5625 228.253906 597.675781 C 219.417969 597.789062 204.25 591.734375 197.917969 585.566406 L 15.210938 407.507812 C 8.882812 401.339844 2.4375 386.332031 2.324219 377.492188 C 2.210938 368.65625 10.933594 359.703125 19.773438 359.589844 \"/>\n",
       "<path style=\"fill:none;stroke-width:1;stroke-linecap:butt;stroke-linejoin:miter;stroke:rgb(80%,80%,80%);stroke-opacity:1;stroke-miterlimit:10;\" d=\"M 435.285156 470.421875 L 228.027344 580 \"/>\n",
       "<path style=\"fill:none;stroke-width:1;stroke-linecap:butt;stroke-linejoin:miter;stroke:rgb(20%,20%,20%);stroke-opacity:1;stroke-miterlimit:10;\" d=\"M 435.285156 470.421875 L 580 20 \"/>\n",
       "<path style=\"fill:none;stroke-width:1;stroke-linecap:butt;stroke-linejoin:miter;stroke:rgb(20%,20%,20%);stroke-opacity:1;stroke-miterlimit:10;\" d=\"M 228.027344 580 L 20 377.265625 \"/>\n",
       "<path style=\"fill-rule:nonzero;fill:rgb(100%,0%,0%);fill-opacity:1;stroke-width:1;stroke-linecap:butt;stroke-linejoin:miter;stroke:rgb(0%,0%,0%);stroke-opacity:1;stroke-miterlimit:10;\" d=\"M 445.285156 470.421875 C 445.285156 475.945312 440.808594 480.421875 435.285156 480.421875 C 429.761719 480.421875 425.285156 475.945312 425.285156 470.421875 C 425.285156 464.902344 429.761719 460.421875 435.285156 460.421875 C 440.808594 460.421875 445.285156 464.902344 445.285156 470.421875 \"/>\n",
       "<path style=\"fill-rule:nonzero;fill:rgb(0%,100%,0%);fill-opacity:1;stroke-width:1;stroke-linecap:butt;stroke-linejoin:miter;stroke:rgb(0%,0%,0%);stroke-opacity:1;stroke-miterlimit:10;\" d=\"M 238.027344 580 C 238.027344 585.523438 233.550781 590 228.027344 590 C 222.503906 590 218.027344 585.523438 218.027344 580 C 218.027344 574.476562 222.503906 570 228.027344 570 C 233.550781 570 238.027344 574.476562 238.027344 580 \"/>\n",
       "<path style=\"fill-rule:nonzero;fill:rgb(100%,0%,0%);fill-opacity:1;stroke-width:1;stroke-linecap:butt;stroke-linejoin:miter;stroke:rgb(0%,0%,0%);stroke-opacity:1;stroke-miterlimit:10;\" d=\"M 590 20 C 590 25.523438 585.523438 30 580 30 C 574.476562 30 570 25.523438 570 20 C 570 14.476562 574.476562 10 580 10 C 585.523438 10 590 14.476562 590 20 \"/>\n",
       "<path style=\"fill-rule:nonzero;fill:rgb(0%,100%,0%);fill-opacity:1;stroke-width:1;stroke-linecap:butt;stroke-linejoin:miter;stroke:rgb(0%,0%,0%);stroke-opacity:1;stroke-miterlimit:10;\" d=\"M 30 377.265625 C 30 382.789062 25.523438 387.265625 20 387.265625 C 14.476562 387.265625 10 382.789062 10 377.265625 C 10 371.742188 14.476562 367.265625 20 367.265625 C 25.523438 367.265625 30 371.742188 30 377.265625 \"/>\n",
       "</g>\n",
       "</svg>\n"
      ],
      "text/plain": [
       "<igraph.drawing.Plot at 0x122521cc0>"
      ]
     },
     "execution_count": 28,
     "metadata": {},
     "output_type": "execute_result"
    }
   ],
   "source": [
    "g2 = Graph.Tree(4, 2)\n",
    "comms = g2.community_multilevel()\n",
    "plot(comms, mark_groups = True)"
   ]
  },
  {
   "cell_type": "code",
   "execution_count": 31,
   "metadata": {},
   "outputs": [
    {
     "name": "stdout",
     "output_type": "stream",
     "text": [
      "[[0, 2], [1, 3]]\n",
      "[0, 1, 2, 3]\n",
      "-0.2777777777777778\n"
     ]
    }
   ],
   "source": [
    "print(list(comms))\n",
    "ml = [i for i in range(g2.vcount())]\n",
    "print(ml)\n",
    "print(g2.modularity(ml))"
   ]
  }
 ],
 "metadata": {
  "kernelspec": {
   "display_name": "Python 3",
   "language": "python",
   "name": "python3"
  },
  "language_info": {
   "codemirror_mode": {
    "name": "ipython",
    "version": 3
   },
   "file_extension": ".py",
   "mimetype": "text/x-python",
   "name": "python",
   "nbconvert_exporter": "python",
   "pygments_lexer": "ipython3",
   "version": "3.7.3"
  }
 },
 "nbformat": 4,
 "nbformat_minor": 2
}
