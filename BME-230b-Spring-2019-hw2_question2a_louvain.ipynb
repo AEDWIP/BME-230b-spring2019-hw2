{
 "cells": [
  {
   "cell_type": "markdown",
   "metadata": {},
   "source": [
    "# BME-230B Spring 2019 HW 2 Question 2.a\n",
    "James Casaletto, Andrew Davidson, Yuanqing Xue, Jim Zheng\n",
    "\n",
    "\n",
    "## Implement Louvain Clustering\n",
    "2.a. [10 pts] Turn in a copy of your code. [5 pts: phase one][5 pts: phase two] Your method should take in the 12-NNGs that you calculated above. Note that the pseudocode above returns solutions at all levels while your method should only produce a single level, the one that you obtain when no new communities are formed and the outer loop is exited. Although not required, we recommend using the iGraph or NetworkX module to develop the Louvain algorithm. You can use the provided knn_to_graphModule.py to create an igraph or networkX object of the k-NNG you previously made in 1.a.\n"
   ]
  },
  {
   "cell_type": "markdown",
   "metadata": {},
   "source": [
    "### Source file\n",
    "\n",
    "- [louvain.py](./louvain.py)\n",
    "- [Cluster.py](./Cluster.py)\n",
    "- [Node.py](./Node.py)\n",
    "- [Edge.py](./Edge.py)\n",
    "\n",
    "### Comand Line interface\n",
    "instrumented log statement are written to stdErr and stdOut. The cluster assigments for each level will be written to the the value provide via '-c' \n",
    "```\n",
    "$ louvainDriverShell.py -c finalClusterAssigments.out\n",
    "```\n",
    "\n",
    "### unit test\n",
    "\n",
    "To run from the command line\n",
    "```\n",
    "$ cd test\n",
    "$ export PYTHONPATH=..\n",
    "$ python -m unittest discover\n",
    "```\n",
    "\n",
    "\n",
    "- [test/testEuclid_knnTest.py](./test/testEuclid_knnTest.py)\n",
    "- [test/testEuclid_bbknn.py](./test/testEuclid_bbknn.py)\n",
    "- [test/testlouvain.py](./test/testlouvain.py)\n",
    "- [test/testLouvainSimple.py](./test/testLouvainSimple.py)\n",
    "- [test/testlouvainPhase.py](./test/testlouvainPhase.py)\n",
    "- [test/testDisjointGraphs.py](./test/testDisjointGraphs.py)\n",
    "- [test/testlouvainScanpyIntegration.py](./test/testlouvainScanpyIntegration.py)\n",
    "                       "
   ]
  },
  {
   "cell_type": "code",
   "execution_count": null,
   "metadata": {},
   "outputs": [],
   "source": []
  }
 ],
 "metadata": {
  "kernelspec": {
   "display_name": "Python 3",
   "language": "python",
   "name": "python3"
  },
  "language_info": {
   "codemirror_mode": {
    "name": "ipython",
    "version": 3
   },
   "file_extension": ".py",
   "mimetype": "text/x-python",
   "name": "python",
   "nbconvert_exporter": "python",
   "pygments_lexer": "ipython3",
   "version": "3.7.3"
  }
 },
 "nbformat": 4,
 "nbformat_minor": 2
}
