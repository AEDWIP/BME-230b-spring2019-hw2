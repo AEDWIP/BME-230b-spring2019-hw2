{
 "cells": [
  {
   "cell_type": "markdown",
   "metadata": {},
   "source": [
    "#BME-230B Spring 2019 Explore Data\n",
    "Andrew Davidson aedavids@ucsc.edu \n",
    "\n",
    "ref:\n",
    "- [scanpy Single-Cell Analysis in Python doc](https://scanpy.readthedocs.io/en/stable/index.html)\n",
    "- [annadata: annotated data](https://scanpy.readthedocs.io/en/stable/basic_usage.html#anndata)\n",
    "\n",
    "## Notes about the data\n",
    "- The home work says there where two experiments and we need to combine the two data sets. it looks like this was already done for us. Where told \"The data has 8098 cells measured on the 3prime platform and 7378 measured on the 5prime platform.\n",
    "\n",
    "- anndata.X shape:(15476, 1199)\n",
    "    * 15476 = 8098 + 7378"
   ]
  },
  {
   "cell_type": "code",
   "execution_count": 1,
   "metadata": {},
   "outputs": [],
   "source": [
    "import numpy as np\n",
    "import scanpy.api as sc"
   ]
  },
  {
   "cell_type": "code",
   "execution_count": 2,
   "metadata": {},
   "outputs": [
    {
     "name": "stdout",
     "output_type": "stream",
     "text": [
      "adata type:<class 'anndata.base.AnnData'>\n",
      "CPU times: user 1.61 s, sys: 160 ms, total: 1.77 s\n",
      "Wall time: 1.2 s\n"
     ]
    }
   ],
   "source": [
    "%%time\n",
    "anndata = sc.read(\"PBMC.merged.h5ad\")\n",
    "print(\"adata type:{}\".format(type(anndata)))"
   ]
  },
  {
   "cell_type": "code",
   "execution_count": 3,
   "metadata": {},
   "outputs": [
    {
     "data": {
      "text/plain": [
       "AnnData object with n_obs × n_vars = 15476 × 1199 \n",
       "    obs: 'Sample', 'n_counts', 'n_genes', 'batch', 'louvain', 'anno', 'Method', 'Cell type'\n",
       "    var: 'GeneName-0', 'GeneID-0', 'GeneName-1', 'GeneID-1', 'means', 'dispersions', 'dispersions_norm'\n",
       "    uns: 'Cell type_colors', 'Method_colors', 'Sample_colors', 'anno_colors', 'louvain', 'louvain_colors', 'neighbors', 'rank_genes_groups'\n",
       "    obsm: 'X_pca', 'X_umap', 'X_tsne'"
      ]
     },
     "execution_count": 3,
     "metadata": {},
     "output_type": "execute_result"
    }
   ],
   "source": [
    "anndata"
   ]
  },
  {
   "cell_type": "code",
   "execution_count": 12,
   "metadata": {},
   "outputs": [
    {
     "data": {
      "text/plain": [
       "array([[-0.1964075 ,  2.1636498 , -0.18641369, ..., -0.0779918 ,\n",
       "        -0.9314647 , -0.77732456],\n",
       "       [-0.1964075 ,  1.3718529 , -0.18641369, ..., -0.0779918 ,\n",
       "        -0.9314647 , -0.77732456],\n",
       "       [-0.1964075 , -0.56439495, -0.18641369, ..., -0.0779918 ,\n",
       "        -0.9314647 ,  0.8405579 ],\n",
       "       ...,\n",
       "       [-0.1964075 , -0.56439495, -0.18641369, ..., -0.0779918 ,\n",
       "         1.0188808 ,  2.2114685 ],\n",
       "       [-0.1964075 , -0.56439495, -0.18641369, ..., -0.0779918 ,\n",
       "         0.5726825 ,  0.21773037],\n",
       "       [-0.1964075 , -0.56439495, -0.18641369, ..., -0.0779918 ,\n",
       "         1.1075432 ,  1.8812242 ]], dtype=float32)"
      ]
     },
     "execution_count": 12,
     "metadata": {},
     "output_type": "execute_result"
    }
   ],
   "source": [
    "anndata.X"
   ]
  },
  {
   "cell_type": "code",
   "execution_count": 5,
   "metadata": {},
   "outputs": [
    {
     "name": "stdout",
     "output_type": "stream",
     "text": [
      "anndata.X type:<class 'numpy.ndarray'>\n",
      "anndata.X shape:(15476, 1199)\n"
     ]
    }
   ],
   "source": [
    "print(\"anndata.X type:{}\".format(type(anndata.X)))\n",
    "print(\"anndata.X shape:{}\".format(anndata.X.shape))"
   ]
  },
  {
   "cell_type": "code",
   "execution_count": 6,
   "metadata": {
    "scrolled": false
   },
   "outputs": [],
   "source": [
    "#anndata.uns lots of output"
   ]
  },
  {
   "cell_type": "code",
   "execution_count": 10,
   "metadata": {},
   "outputs": [
    {
     "data": {
      "text/html": [
       "<div>\n",
       "<style scoped>\n",
       "    .dataframe tbody tr th:only-of-type {\n",
       "        vertical-align: middle;\n",
       "    }\n",
       "\n",
       "    .dataframe tbody tr th {\n",
       "        vertical-align: top;\n",
       "    }\n",
       "\n",
       "    .dataframe thead th {\n",
       "        text-align: right;\n",
       "    }\n",
       "</style>\n",
       "<table border=\"1\" class=\"dataframe\">\n",
       "  <thead>\n",
       "    <tr style=\"text-align: right;\">\n",
       "      <th></th>\n",
       "      <th>GeneName-0</th>\n",
       "      <th>GeneID-0</th>\n",
       "      <th>GeneName-1</th>\n",
       "      <th>GeneID-1</th>\n",
       "      <th>means</th>\n",
       "      <th>dispersions</th>\n",
       "      <th>dispersions_norm</th>\n",
       "    </tr>\n",
       "    <tr>\n",
       "      <th>index</th>\n",
       "      <th></th>\n",
       "      <th></th>\n",
       "      <th></th>\n",
       "      <th></th>\n",
       "      <th></th>\n",
       "      <th></th>\n",
       "      <th></th>\n",
       "    </tr>\n",
       "  </thead>\n",
       "  <tbody>\n",
       "    <tr>\n",
       "      <th>HES4</th>\n",
       "      <td>HES4</td>\n",
       "      <td>ENSG00000188290</td>\n",
       "      <td>HES4</td>\n",
       "      <td>ENSG00000188290</td>\n",
       "      <td>0.114088</td>\n",
       "      <td>1.479612</td>\n",
       "      <td>1.523847</td>\n",
       "    </tr>\n",
       "    <tr>\n",
       "      <th>ISG15</th>\n",
       "      <td>ISG15</td>\n",
       "      <td>ENSG00000187608</td>\n",
       "      <td>ISG15</td>\n",
       "      <td>ENSG00000187608</td>\n",
       "      <td>0.589058</td>\n",
       "      <td>1.640704</td>\n",
       "      <td>1.394684</td>\n",
       "    </tr>\n",
       "    <tr>\n",
       "      <th>TNFRSF18</th>\n",
       "      <td>TNFRSF18</td>\n",
       "      <td>ENSG00000186891</td>\n",
       "      <td>TNFRSF18</td>\n",
       "      <td>ENSG00000186891</td>\n",
       "      <td>0.088250</td>\n",
       "      <td>1.211858</td>\n",
       "      <td>0.854643</td>\n",
       "    </tr>\n",
       "    <tr>\n",
       "      <th>TNFRSF4</th>\n",
       "      <td>TNFRSF4</td>\n",
       "      <td>ENSG00000186827</td>\n",
       "      <td>TNFRSF4</td>\n",
       "      <td>ENSG00000186827</td>\n",
       "      <td>0.123849</td>\n",
       "      <td>1.205380</td>\n",
       "      <td>0.838453</td>\n",
       "    </tr>\n",
       "    <tr>\n",
       "      <th>MMP23B</th>\n",
       "      <td>MMP23B</td>\n",
       "      <td>ENSG00000189409</td>\n",
       "      <td>MMP23B</td>\n",
       "      <td>ENSG00000189409</td>\n",
       "      <td>0.046411</td>\n",
       "      <td>1.151547</td>\n",
       "      <td>0.703906</td>\n",
       "    </tr>\n",
       "  </tbody>\n",
       "</table>\n",
       "</div>"
      ],
      "text/plain": [
       "         GeneName-0         GeneID-0 GeneName-1         GeneID-1     means  \\\n",
       "index                                                                        \n",
       "HES4           HES4  ENSG00000188290       HES4  ENSG00000188290  0.114088   \n",
       "ISG15         ISG15  ENSG00000187608      ISG15  ENSG00000187608  0.589058   \n",
       "TNFRSF18   TNFRSF18  ENSG00000186891   TNFRSF18  ENSG00000186891  0.088250   \n",
       "TNFRSF4     TNFRSF4  ENSG00000186827    TNFRSF4  ENSG00000186827  0.123849   \n",
       "MMP23B       MMP23B  ENSG00000189409     MMP23B  ENSG00000189409  0.046411   \n",
       "\n",
       "          dispersions  dispersions_norm  \n",
       "index                                    \n",
       "HES4         1.479612          1.523847  \n",
       "ISG15        1.640704          1.394684  \n",
       "TNFRSF18     1.211858          0.854643  \n",
       "TNFRSF4      1.205380          0.838453  \n",
       "MMP23B       1.151547          0.703906  "
      ]
     },
     "execution_count": 10,
     "metadata": {},
     "output_type": "execute_result"
    }
   ],
   "source": [
    "anndata.var.head()"
   ]
  },
  {
   "cell_type": "code",
   "execution_count": 9,
   "metadata": {},
   "outputs": [
    {
     "data": {
      "text/html": [
       "<div>\n",
       "<style scoped>\n",
       "    .dataframe tbody tr th:only-of-type {\n",
       "        vertical-align: middle;\n",
       "    }\n",
       "\n",
       "    .dataframe tbody tr th {\n",
       "        vertical-align: top;\n",
       "    }\n",
       "\n",
       "    .dataframe thead th {\n",
       "        text-align: right;\n",
       "    }\n",
       "</style>\n",
       "<table border=\"1\" class=\"dataframe\">\n",
       "  <thead>\n",
       "    <tr style=\"text-align: right;\">\n",
       "      <th></th>\n",
       "      <th>Sample</th>\n",
       "      <th>n_counts</th>\n",
       "      <th>n_genes</th>\n",
       "      <th>batch</th>\n",
       "      <th>louvain</th>\n",
       "      <th>anno</th>\n",
       "      <th>Method</th>\n",
       "      <th>Cell type</th>\n",
       "    </tr>\n",
       "    <tr>\n",
       "      <th>index</th>\n",
       "      <th></th>\n",
       "      <th></th>\n",
       "      <th></th>\n",
       "      <th></th>\n",
       "      <th></th>\n",
       "      <th></th>\n",
       "      <th></th>\n",
       "      <th></th>\n",
       "    </tr>\n",
       "  </thead>\n",
       "  <tbody>\n",
       "    <tr>\n",
       "      <th>data_3p-AAACCTGAGCATCATC-0</th>\n",
       "      <td>data_3p</td>\n",
       "      <td>2394.0</td>\n",
       "      <td>871</td>\n",
       "      <td>0</td>\n",
       "      <td>9</td>\n",
       "      <td>B cell</td>\n",
       "      <td>10X_3prime</td>\n",
       "      <td>B cell</td>\n",
       "    </tr>\n",
       "    <tr>\n",
       "      <th>data_3p-AAACCTGAGCTAGTGG-0</th>\n",
       "      <td>data_3p</td>\n",
       "      <td>4520.0</td>\n",
       "      <td>1316</td>\n",
       "      <td>0</td>\n",
       "      <td>5</td>\n",
       "      <td>CD4 T cell</td>\n",
       "      <td>10X_3prime</td>\n",
       "      <td>CD4 T cell</td>\n",
       "    </tr>\n",
       "    <tr>\n",
       "      <th>data_3p-AAACCTGCACATTAGC-0</th>\n",
       "      <td>data_3p</td>\n",
       "      <td>2788.0</td>\n",
       "      <td>898</td>\n",
       "      <td>0</td>\n",
       "      <td>1</td>\n",
       "      <td>CD4 T cell</td>\n",
       "      <td>10X_3prime</td>\n",
       "      <td>CD4 T cell</td>\n",
       "    </tr>\n",
       "    <tr>\n",
       "      <th>data_3p-AAACCTGCACTGTTAG-0</th>\n",
       "      <td>data_3p</td>\n",
       "      <td>4667.0</td>\n",
       "      <td>1526</td>\n",
       "      <td>0</td>\n",
       "      <td>0</td>\n",
       "      <td>Monocyte_CD14</td>\n",
       "      <td>10X_3prime</td>\n",
       "      <td>Monocyte_CD14</td>\n",
       "    </tr>\n",
       "    <tr>\n",
       "      <th>data_3p-AAACCTGCATAGTAAG-0</th>\n",
       "      <td>data_3p</td>\n",
       "      <td>4440.0</td>\n",
       "      <td>1495</td>\n",
       "      <td>0</td>\n",
       "      <td>0</td>\n",
       "      <td>Monocyte_CD14</td>\n",
       "      <td>10X_3prime</td>\n",
       "      <td>Monocyte_CD14</td>\n",
       "    </tr>\n",
       "  </tbody>\n",
       "</table>\n",
       "</div>"
      ],
      "text/plain": [
       "                             Sample  n_counts  n_genes batch louvain  \\\n",
       "index                                                                  \n",
       "data_3p-AAACCTGAGCATCATC-0  data_3p    2394.0      871     0       9   \n",
       "data_3p-AAACCTGAGCTAGTGG-0  data_3p    4520.0     1316     0       5   \n",
       "data_3p-AAACCTGCACATTAGC-0  data_3p    2788.0      898     0       1   \n",
       "data_3p-AAACCTGCACTGTTAG-0  data_3p    4667.0     1526     0       0   \n",
       "data_3p-AAACCTGCATAGTAAG-0  data_3p    4440.0     1495     0       0   \n",
       "\n",
       "                                     anno      Method      Cell type  \n",
       "index                                                                 \n",
       "data_3p-AAACCTGAGCATCATC-0         B cell  10X_3prime         B cell  \n",
       "data_3p-AAACCTGAGCTAGTGG-0     CD4 T cell  10X_3prime     CD4 T cell  \n",
       "data_3p-AAACCTGCACATTAGC-0     CD4 T cell  10X_3prime     CD4 T cell  \n",
       "data_3p-AAACCTGCACTGTTAG-0  Monocyte_CD14  10X_3prime  Monocyte_CD14  \n",
       "data_3p-AAACCTGCATAGTAAG-0  Monocyte_CD14  10X_3prime  Monocyte_CD14  "
      ]
     },
     "execution_count": 9,
     "metadata": {},
     "output_type": "execute_result"
    }
   ],
   "source": [
    "anndata.obs.head()"
   ]
  },
  {
   "cell_type": "code",
   "execution_count": 13,
   "metadata": {},
   "outputs": [
    {
     "data": {
      "text/plain": [
       "Index(['Sample', 'n_counts', 'n_genes', 'batch', 'louvain', 'anno', 'Method',\n",
       "       'Cell type'],\n",
       "      dtype='object')"
      ]
     },
     "execution_count": 13,
     "metadata": {},
     "output_type": "execute_result"
    }
   ],
   "source": [
    "anndata.obs.keys()"
   ]
  },
  {
   "cell_type": "code",
   "execution_count": 19,
   "metadata": {},
   "outputs": [
    {
     "data": {
      "text/plain": [
       "8098"
      ]
     },
     "execution_count": 19,
     "metadata": {},
     "output_type": "execute_result"
    }
   ],
   "source": [
    "# type = pandas.core.indexes.base.Index\n",
    "sum(anndata.obs.index.str.contains('data_3p'))\n"
   ]
  },
  {
   "cell_type": "code",
   "execution_count": 16,
   "metadata": {},
   "outputs": [
    {
     "data": {
      "text/plain": [
       "pandas.core.indexes.base.Index"
      ]
     },
     "execution_count": 16,
     "metadata": {},
     "output_type": "execute_result"
    }
   ],
   "source": [
    "type(anndata.obs.index)"
   ]
  },
  {
   "cell_type": "code",
   "execution_count": null,
   "metadata": {},
   "outputs": [],
   "source": []
  },
  {
   "cell_type": "code",
   "execution_count": null,
   "metadata": {},
   "outputs": [],
   "source": []
  },
  {
   "cell_type": "code",
   "execution_count": null,
   "metadata": {},
   "outputs": [],
   "source": []
  },
  {
   "cell_type": "code",
   "execution_count": null,
   "metadata": {},
   "outputs": [],
   "source": []
  },
  {
   "cell_type": "code",
   "execution_count": null,
   "metadata": {},
   "outputs": [],
   "source": []
  },
  {
   "cell_type": "code",
   "execution_count": null,
   "metadata": {},
   "outputs": [],
   "source": []
  },
  {
   "cell_type": "code",
   "execution_count": null,
   "metadata": {},
   "outputs": [],
   "source": []
  },
  {
   "cell_type": "code",
   "execution_count": null,
   "metadata": {},
   "outputs": [],
   "source": []
  }
 ],
 "metadata": {
  "kernelspec": {
   "display_name": "Python 3",
   "language": "python",
   "name": "python3"
  },
  "language_info": {
   "codemirror_mode": {
    "name": "ipython",
    "version": 3
   },
   "file_extension": ".py",
   "mimetype": "text/x-python",
   "name": "python",
   "nbconvert_exporter": "python",
   "pygments_lexer": "ipython3",
   "version": "3.7.3"
  }
 },
 "nbformat": 4,
 "nbformat_minor": 2
}
