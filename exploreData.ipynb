{
 "cells": [
  {
   "cell_type": "markdown",
   "metadata": {},
   "source": [
    "#BME-230B Spring 2019 Explore Data\n",
    "Andrew Davidson aedavids@ucsc.edu \n",
    "\n",
    "ref:\n",
    "- [scanpy Single-Cell Analysis in Python doc](https://scanpy.readthedocs.io/en/stable/index.html)\n",
    "- [annadata: annotated data](https://scanpy.readthedocs.io/en/stable/basic_usage.html#anndata)\n",
    "\n",
    "## Notes about the data\n",
    "- The home work says there where two experiments and we need to combine the two data sets. it looks like this was already done for us. Where told \"The data has 8098 cells measured on the 3prime platform and 7378 measured on the 5prime platform.\n",
    "\n",
    "- anndata.X shape:(15476, 1199)\n",
    "    * 15476 = 8098 + 7378"
   ]
  },
  {
   "cell_type": "code",
   "execution_count": 1,
   "metadata": {},
   "outputs": [],
   "source": [
    "import numpy as np\n",
    "import pandas as pd\n",
    "import scanpy.api as sc"
   ]
  },
  {
   "cell_type": "code",
   "execution_count": 2,
   "metadata": {},
   "outputs": [
    {
     "name": "stdout",
     "output_type": "stream",
     "text": [
      "adata type:<class 'anndata.base.AnnData'>\n",
      "CPU times: user 1.55 s, sys: 213 ms, total: 1.76 s\n",
      "Wall time: 1.4 s\n"
     ]
    }
   ],
   "source": [
    "%%time\n",
    "anndata = sc.read(\"PBMC.merged.h5ad\")\n",
    "print(\"adata type:{}\".format(type(anndata)))"
   ]
  },
  {
   "cell_type": "code",
   "execution_count": 3,
   "metadata": {},
   "outputs": [
    {
     "data": {
      "text/plain": [
       "AnnData object with n_obs × n_vars = 15476 × 1199 \n",
       "    obs: 'Sample', 'n_counts', 'n_genes', 'batch', 'louvain', 'anno', 'Method', 'Cell type'\n",
       "    var: 'GeneName-0', 'GeneID-0', 'GeneName-1', 'GeneID-1', 'means', 'dispersions', 'dispersions_norm'\n",
       "    uns: 'Cell type_colors', 'Method_colors', 'Sample_colors', 'anno_colors', 'louvain', 'louvain_colors', 'neighbors', 'rank_genes_groups'\n",
       "    obsm: 'X_pca', 'X_umap', 'X_tsne'"
      ]
     },
     "execution_count": 3,
     "metadata": {},
     "output_type": "execute_result"
    }
   ],
   "source": [
    "anndata"
   ]
  },
  {
   "cell_type": "code",
   "execution_count": 4,
   "metadata": {},
   "outputs": [
    {
     "data": {
      "text/plain": [
       "array([[-0.1964075 ,  2.1636498 , -0.18641369, ..., -0.0779918 ,\n",
       "        -0.9314647 , -0.77732456],\n",
       "       [-0.1964075 ,  1.3718529 , -0.18641369, ..., -0.0779918 ,\n",
       "        -0.9314647 , -0.77732456],\n",
       "       [-0.1964075 , -0.56439495, -0.18641369, ..., -0.0779918 ,\n",
       "        -0.9314647 ,  0.8405579 ],\n",
       "       ...,\n",
       "       [-0.1964075 , -0.56439495, -0.18641369, ..., -0.0779918 ,\n",
       "         1.0188808 ,  2.2114685 ],\n",
       "       [-0.1964075 , -0.56439495, -0.18641369, ..., -0.0779918 ,\n",
       "         0.5726825 ,  0.21773037],\n",
       "       [-0.1964075 , -0.56439495, -0.18641369, ..., -0.0779918 ,\n",
       "         1.1075432 ,  1.8812242 ]], dtype=float32)"
      ]
     },
     "execution_count": 4,
     "metadata": {},
     "output_type": "execute_result"
    }
   ],
   "source": [
    "anndata.X"
   ]
  },
  {
   "cell_type": "code",
   "execution_count": 5,
   "metadata": {},
   "outputs": [
    {
     "name": "stdout",
     "output_type": "stream",
     "text": [
      "anndata.X type:<class 'numpy.ndarray'>\n",
      "anndata.X shape:(15476, 1199)\n"
     ]
    }
   ],
   "source": [
    "print(\"anndata.X type:{}\".format(type(anndata.X)))\n",
    "print(\"anndata.X shape:{}\".format(anndata.X.shape))"
   ]
  },
  {
   "cell_type": "code",
   "execution_count": 6,
   "metadata": {
    "scrolled": false
   },
   "outputs": [],
   "source": [
    "#anndata.uns lots of output"
   ]
  },
  {
   "cell_type": "code",
   "execution_count": 7,
   "metadata": {},
   "outputs": [
    {
     "data": {
      "text/html": [
       "<div>\n",
       "<style scoped>\n",
       "    .dataframe tbody tr th:only-of-type {\n",
       "        vertical-align: middle;\n",
       "    }\n",
       "\n",
       "    .dataframe tbody tr th {\n",
       "        vertical-align: top;\n",
       "    }\n",
       "\n",
       "    .dataframe thead th {\n",
       "        text-align: right;\n",
       "    }\n",
       "</style>\n",
       "<table border=\"1\" class=\"dataframe\">\n",
       "  <thead>\n",
       "    <tr style=\"text-align: right;\">\n",
       "      <th></th>\n",
       "      <th>GeneName-0</th>\n",
       "      <th>GeneID-0</th>\n",
       "      <th>GeneName-1</th>\n",
       "      <th>GeneID-1</th>\n",
       "      <th>means</th>\n",
       "      <th>dispersions</th>\n",
       "      <th>dispersions_norm</th>\n",
       "    </tr>\n",
       "    <tr>\n",
       "      <th>index</th>\n",
       "      <th></th>\n",
       "      <th></th>\n",
       "      <th></th>\n",
       "      <th></th>\n",
       "      <th></th>\n",
       "      <th></th>\n",
       "      <th></th>\n",
       "    </tr>\n",
       "  </thead>\n",
       "  <tbody>\n",
       "    <tr>\n",
       "      <th>HES4</th>\n",
       "      <td>HES4</td>\n",
       "      <td>ENSG00000188290</td>\n",
       "      <td>HES4</td>\n",
       "      <td>ENSG00000188290</td>\n",
       "      <td>0.114088</td>\n",
       "      <td>1.479612</td>\n",
       "      <td>1.523847</td>\n",
       "    </tr>\n",
       "    <tr>\n",
       "      <th>ISG15</th>\n",
       "      <td>ISG15</td>\n",
       "      <td>ENSG00000187608</td>\n",
       "      <td>ISG15</td>\n",
       "      <td>ENSG00000187608</td>\n",
       "      <td>0.589058</td>\n",
       "      <td>1.640704</td>\n",
       "      <td>1.394684</td>\n",
       "    </tr>\n",
       "    <tr>\n",
       "      <th>TNFRSF18</th>\n",
       "      <td>TNFRSF18</td>\n",
       "      <td>ENSG00000186891</td>\n",
       "      <td>TNFRSF18</td>\n",
       "      <td>ENSG00000186891</td>\n",
       "      <td>0.088250</td>\n",
       "      <td>1.211858</td>\n",
       "      <td>0.854643</td>\n",
       "    </tr>\n",
       "    <tr>\n",
       "      <th>TNFRSF4</th>\n",
       "      <td>TNFRSF4</td>\n",
       "      <td>ENSG00000186827</td>\n",
       "      <td>TNFRSF4</td>\n",
       "      <td>ENSG00000186827</td>\n",
       "      <td>0.123849</td>\n",
       "      <td>1.205380</td>\n",
       "      <td>0.838453</td>\n",
       "    </tr>\n",
       "    <tr>\n",
       "      <th>MMP23B</th>\n",
       "      <td>MMP23B</td>\n",
       "      <td>ENSG00000189409</td>\n",
       "      <td>MMP23B</td>\n",
       "      <td>ENSG00000189409</td>\n",
       "      <td>0.046411</td>\n",
       "      <td>1.151547</td>\n",
       "      <td>0.703906</td>\n",
       "    </tr>\n",
       "  </tbody>\n",
       "</table>\n",
       "</div>"
      ],
      "text/plain": [
       "         GeneName-0         GeneID-0 GeneName-1         GeneID-1     means  \\\n",
       "index                                                                        \n",
       "HES4           HES4  ENSG00000188290       HES4  ENSG00000188290  0.114088   \n",
       "ISG15         ISG15  ENSG00000187608      ISG15  ENSG00000187608  0.589058   \n",
       "TNFRSF18   TNFRSF18  ENSG00000186891   TNFRSF18  ENSG00000186891  0.088250   \n",
       "TNFRSF4     TNFRSF4  ENSG00000186827    TNFRSF4  ENSG00000186827  0.123849   \n",
       "MMP23B       MMP23B  ENSG00000189409     MMP23B  ENSG00000189409  0.046411   \n",
       "\n",
       "          dispersions  dispersions_norm  \n",
       "index                                    \n",
       "HES4         1.479612          1.523847  \n",
       "ISG15        1.640704          1.394684  \n",
       "TNFRSF18     1.211858          0.854643  \n",
       "TNFRSF4      1.205380          0.838453  \n",
       "MMP23B       1.151547          0.703906  "
      ]
     },
     "execution_count": 7,
     "metadata": {},
     "output_type": "execute_result"
    }
   ],
   "source": [
    "anndata.var.head()"
   ]
  },
  {
   "cell_type": "code",
   "execution_count": 8,
   "metadata": {},
   "outputs": [
    {
     "data": {
      "text/plain": [
       "Index(['GeneName-0', 'GeneID-0', 'GeneName-1', 'GeneID-1', 'means',\n",
       "       'dispersions', 'dispersions_norm'],\n",
       "      dtype='object')"
      ]
     },
     "execution_count": 8,
     "metadata": {},
     "output_type": "execute_result"
    }
   ],
   "source": [
    "anndata.var.keys()"
   ]
  },
  {
   "cell_type": "code",
   "execution_count": 9,
   "metadata": {},
   "outputs": [
    {
     "data": {
      "text/plain": [
       "1199"
      ]
     },
     "execution_count": 9,
     "metadata": {},
     "output_type": "execute_result"
    }
   ],
   "source": [
    "anndata.var['GeneName-0'].size"
   ]
  },
  {
   "cell_type": "code",
   "execution_count": 10,
   "metadata": {},
   "outputs": [
    {
     "data": {
      "text/html": [
       "<div>\n",
       "<style scoped>\n",
       "    .dataframe tbody tr th:only-of-type {\n",
       "        vertical-align: middle;\n",
       "    }\n",
       "\n",
       "    .dataframe tbody tr th {\n",
       "        vertical-align: top;\n",
       "    }\n",
       "\n",
       "    .dataframe thead th {\n",
       "        text-align: right;\n",
       "    }\n",
       "</style>\n",
       "<table border=\"1\" class=\"dataframe\">\n",
       "  <thead>\n",
       "    <tr style=\"text-align: right;\">\n",
       "      <th></th>\n",
       "      <th>Sample</th>\n",
       "      <th>n_counts</th>\n",
       "      <th>n_genes</th>\n",
       "      <th>batch</th>\n",
       "      <th>louvain</th>\n",
       "      <th>anno</th>\n",
       "      <th>Method</th>\n",
       "      <th>Cell type</th>\n",
       "    </tr>\n",
       "    <tr>\n",
       "      <th>index</th>\n",
       "      <th></th>\n",
       "      <th></th>\n",
       "      <th></th>\n",
       "      <th></th>\n",
       "      <th></th>\n",
       "      <th></th>\n",
       "      <th></th>\n",
       "      <th></th>\n",
       "    </tr>\n",
       "  </thead>\n",
       "  <tbody>\n",
       "    <tr>\n",
       "      <th>data_3p-AAACCTGAGCATCATC-0</th>\n",
       "      <td>data_3p</td>\n",
       "      <td>2394.0</td>\n",
       "      <td>871</td>\n",
       "      <td>0</td>\n",
       "      <td>9</td>\n",
       "      <td>B cell</td>\n",
       "      <td>10X_3prime</td>\n",
       "      <td>B cell</td>\n",
       "    </tr>\n",
       "    <tr>\n",
       "      <th>data_3p-AAACCTGAGCTAGTGG-0</th>\n",
       "      <td>data_3p</td>\n",
       "      <td>4520.0</td>\n",
       "      <td>1316</td>\n",
       "      <td>0</td>\n",
       "      <td>5</td>\n",
       "      <td>CD4 T cell</td>\n",
       "      <td>10X_3prime</td>\n",
       "      <td>CD4 T cell</td>\n",
       "    </tr>\n",
       "    <tr>\n",
       "      <th>data_3p-AAACCTGCACATTAGC-0</th>\n",
       "      <td>data_3p</td>\n",
       "      <td>2788.0</td>\n",
       "      <td>898</td>\n",
       "      <td>0</td>\n",
       "      <td>1</td>\n",
       "      <td>CD4 T cell</td>\n",
       "      <td>10X_3prime</td>\n",
       "      <td>CD4 T cell</td>\n",
       "    </tr>\n",
       "    <tr>\n",
       "      <th>data_3p-AAACCTGCACTGTTAG-0</th>\n",
       "      <td>data_3p</td>\n",
       "      <td>4667.0</td>\n",
       "      <td>1526</td>\n",
       "      <td>0</td>\n",
       "      <td>0</td>\n",
       "      <td>Monocyte_CD14</td>\n",
       "      <td>10X_3prime</td>\n",
       "      <td>Monocyte_CD14</td>\n",
       "    </tr>\n",
       "    <tr>\n",
       "      <th>data_3p-AAACCTGCATAGTAAG-0</th>\n",
       "      <td>data_3p</td>\n",
       "      <td>4440.0</td>\n",
       "      <td>1495</td>\n",
       "      <td>0</td>\n",
       "      <td>0</td>\n",
       "      <td>Monocyte_CD14</td>\n",
       "      <td>10X_3prime</td>\n",
       "      <td>Monocyte_CD14</td>\n",
       "    </tr>\n",
       "  </tbody>\n",
       "</table>\n",
       "</div>"
      ],
      "text/plain": [
       "                             Sample  n_counts  n_genes batch louvain  \\\n",
       "index                                                                  \n",
       "data_3p-AAACCTGAGCATCATC-0  data_3p    2394.0      871     0       9   \n",
       "data_3p-AAACCTGAGCTAGTGG-0  data_3p    4520.0     1316     0       5   \n",
       "data_3p-AAACCTGCACATTAGC-0  data_3p    2788.0      898     0       1   \n",
       "data_3p-AAACCTGCACTGTTAG-0  data_3p    4667.0     1526     0       0   \n",
       "data_3p-AAACCTGCATAGTAAG-0  data_3p    4440.0     1495     0       0   \n",
       "\n",
       "                                     anno      Method      Cell type  \n",
       "index                                                                 \n",
       "data_3p-AAACCTGAGCATCATC-0         B cell  10X_3prime         B cell  \n",
       "data_3p-AAACCTGAGCTAGTGG-0     CD4 T cell  10X_3prime     CD4 T cell  \n",
       "data_3p-AAACCTGCACATTAGC-0     CD4 T cell  10X_3prime     CD4 T cell  \n",
       "data_3p-AAACCTGCACTGTTAG-0  Monocyte_CD14  10X_3prime  Monocyte_CD14  \n",
       "data_3p-AAACCTGCATAGTAAG-0  Monocyte_CD14  10X_3prime  Monocyte_CD14  "
      ]
     },
     "execution_count": 10,
     "metadata": {},
     "output_type": "execute_result"
    }
   ],
   "source": [
    "anndata.obs.head()"
   ]
  },
  {
   "cell_type": "code",
   "execution_count": 11,
   "metadata": {},
   "outputs": [
    {
     "data": {
      "text/plain": [
       "Index(['Sample', 'n_counts', 'n_genes', 'batch', 'louvain', 'anno', 'Method',\n",
       "       'Cell type'],\n",
       "      dtype='object')"
      ]
     },
     "execution_count": 11,
     "metadata": {},
     "output_type": "execute_result"
    }
   ],
   "source": [
    "anndata.obs.keys()"
   ]
  },
  {
   "cell_type": "code",
   "execution_count": 12,
   "metadata": {},
   "outputs": [
    {
     "data": {
      "text/plain": [
       "odict_keys(['Cell type_colors', 'Method_colors', 'Sample_colors', 'anno_colors', 'louvain', 'louvain_colors', 'neighbors', 'rank_genes_groups'])"
      ]
     },
     "execution_count": 12,
     "metadata": {},
     "output_type": "execute_result"
    }
   ],
   "source": [
    "anndata.uns.keys()"
   ]
  },
  {
   "cell_type": "code",
   "execution_count": 13,
   "metadata": {},
   "outputs": [
    {
     "data": {
      "text/plain": [
       "8098"
      ]
     },
     "execution_count": 13,
     "metadata": {},
     "output_type": "execute_result"
    }
   ],
   "source": [
    "# type = pandas.core.indexes.base.Index\n",
    "sum(anndata.obs.index.str.contains('data_3p'))\n"
   ]
  },
  {
   "cell_type": "code",
   "execution_count": 14,
   "metadata": {},
   "outputs": [
    {
     "data": {
      "text/plain": [
       "pandas.core.indexes.base.Index"
      ]
     },
     "execution_count": 14,
     "metadata": {},
     "output_type": "execute_result"
    }
   ],
   "source": [
    "type(anndata.obs.index)"
   ]
  },
  {
   "cell_type": "code",
   "execution_count": 15,
   "metadata": {},
   "outputs": [
    {
     "data": {
      "text/plain": [
       "[10X_3prime, 10X_5prime]\n",
       "Categories (2, object): [10X_3prime, 10X_5prime]"
      ]
     },
     "execution_count": 15,
     "metadata": {},
     "output_type": "execute_result"
    }
   ],
   "source": [
    "pd.unique(anndata.obs['Method'])"
   ]
  },
  {
   "cell_type": "code",
   "execution_count": 16,
   "metadata": {},
   "outputs": [
    {
     "name": "stdout",
     "output_type": "stream",
     "text": [
      "num 3':8098\n",
      "num 5':7378\n"
     ]
    }
   ],
   "source": [
    "prime3Rows = anndata.obs['Method'] == '10X_3prime'\n",
    "prime5Rows = anndata.obs['Method'] == '10X_5prime'\n",
    "num3PrimeSeries = anndata.obs.loc[prime3Rows, ['n_counts']].count()\n",
    "num5PrimeSeries = anndata.obs.loc[prime5Rows, ['n_counts']].count()\n",
    "type(num3PrimeSeries)\n",
    "print(\"num 3':{}\".format(num3PrimeSeries.values[0]))\n",
    "print(\"num 5':{}\".format(num5PrimeSeries.values[0]))"
   ]
  },
  {
   "cell_type": "code",
   "execution_count": 17,
   "metadata": {},
   "outputs": [
    {
     "data": {
      "text/html": [
       "<div>\n",
       "<style scoped>\n",
       "    .dataframe tbody tr th:only-of-type {\n",
       "        vertical-align: middle;\n",
       "    }\n",
       "\n",
       "    .dataframe tbody tr th {\n",
       "        vertical-align: top;\n",
       "    }\n",
       "\n",
       "    .dataframe thead th {\n",
       "        text-align: right;\n",
       "    }\n",
       "</style>\n",
       "<table border=\"1\" class=\"dataframe\">\n",
       "  <thead>\n",
       "    <tr style=\"text-align: right;\">\n",
       "      <th></th>\n",
       "      <th>n_counts</th>\n",
       "      <th>n_genes</th>\n",
       "    </tr>\n",
       "  </thead>\n",
       "  <tbody>\n",
       "    <tr>\n",
       "      <th>count</th>\n",
       "      <td>8098.000000</td>\n",
       "      <td>8098.000000</td>\n",
       "    </tr>\n",
       "    <tr>\n",
       "      <th>mean</th>\n",
       "      <td>4741.162598</td>\n",
       "      <td>1429.591875</td>\n",
       "    </tr>\n",
       "    <tr>\n",
       "      <th>std</th>\n",
       "      <td>2332.510254</td>\n",
       "      <td>471.849765</td>\n",
       "    </tr>\n",
       "    <tr>\n",
       "      <th>min</th>\n",
       "      <td>2002.000000</td>\n",
       "      <td>645.000000</td>\n",
       "    </tr>\n",
       "    <tr>\n",
       "      <th>25%</th>\n",
       "      <td>3349.000000</td>\n",
       "      <td>1132.000000</td>\n",
       "    </tr>\n",
       "    <tr>\n",
       "      <th>50%</th>\n",
       "      <td>4134.500000</td>\n",
       "      <td>1313.000000</td>\n",
       "    </tr>\n",
       "    <tr>\n",
       "      <th>75%</th>\n",
       "      <td>5258.000000</td>\n",
       "      <td>1562.000000</td>\n",
       "    </tr>\n",
       "    <tr>\n",
       "      <th>max</th>\n",
       "      <td>31785.000000</td>\n",
       "      <td>4800.000000</td>\n",
       "    </tr>\n",
       "  </tbody>\n",
       "</table>\n",
       "</div>"
      ],
      "text/plain": [
       "           n_counts      n_genes\n",
       "count   8098.000000  8098.000000\n",
       "mean    4741.162598  1429.591875\n",
       "std     2332.510254   471.849765\n",
       "min     2002.000000   645.000000\n",
       "25%     3349.000000  1132.000000\n",
       "50%     4134.500000  1313.000000\n",
       "75%     5258.000000  1562.000000\n",
       "max    31785.000000  4800.000000"
      ]
     },
     "execution_count": 17,
     "metadata": {},
     "output_type": "execute_result"
    }
   ],
   "source": [
    "anndata.obs.loc[prime3Rows].describe()"
   ]
  },
  {
   "cell_type": "code",
   "execution_count": 18,
   "metadata": {},
   "outputs": [
    {
     "data": {
      "text/plain": [
       "array([[1, 2, 3],\n",
       "       [7, 8, 9]])"
      ]
     },
     "execution_count": 18,
     "metadata": {},
     "output_type": "execute_result"
    }
   ],
   "source": [
    "type(anndata.X)\n",
    "\n",
    "foo = np.array([\n",
    "    [1,2,3],\n",
    "    [4,5,6],\n",
    "    [7,8,9]\n",
    "])\n",
    "foo[[0,2], :]"
   ]
  },
  {
   "cell_type": "markdown",
   "metadata": {},
   "source": [
    "## <span style=\"color:red\">Make sure all the 3 prime cells are stacked on top of the 5 prime cell</span>\n",
    "this assumption will make the implementation of bb-knn easier"
   ]
  },
  {
   "cell_type": "code",
   "execution_count": 19,
   "metadata": {},
   "outputs": [
    {
     "name": "stdout",
     "output_type": "stream",
     "text": [
      "nCells:15476\n",
      "num3Prime':8098\n",
      "num5Prime':7378\n"
     ]
    }
   ],
   "source": [
    "# calc number cells\n",
    "nCells = anndata.X.shape[0]\n",
    "print(\"nCells:{}\".format(nCells))\n",
    "\n",
    "# calc the number of cells in each batch\n",
    "prime3Rows = anndata.obs['Method'] == '10X_3prime'\n",
    "prime5Rows = anndata.obs['Method'] == '10X_5prime'\n",
    "\n",
    "num3PrimeSeries = anndata.obs.loc[prime3Rows, ['n_counts']].count()\n",
    "num5PrimeSeries = anndata.obs.loc[prime5Rows, ['n_counts']].count()\n",
    "\n",
    "num3Prime = num3PrimeSeries.values[0]\n",
    "num5Prime = num5PrimeSeries.values[0]\n",
    "print(\"num3Prime':{}\".format(num3Prime))\n",
    "print(\"num5Prime':{}\".format(num5Prime))\n",
    "\n",
    "assert nCells == (num3Prime + num5Prime)\n",
    "\n",
    "# create a test data frame\n",
    "# we assign an index col ordered the way we would expect if the 3prime are stacked on top \n",
    "# of the 5 prime\n",
    "df = pd.DataFrame(data = {'method':anndata.obs['Method'], \n",
    "                          'npIdx':[i for i in range(nCells)]\n",
    "                         })\n",
    "\n",
    "# check that the npIdx of 3 prime are from zero to num3Prime -1\n",
    "prime3NpIdx = df.loc[prime3Rows, ['npIdx']].values \n",
    "expected3PrimeNpIdx =  np.array( [i for i in range(num3Prime)] ).reshape(prime3NpIdx.shape)\n",
    "\n",
    "assert (prime3NpIdx == expected3PrimeNpIdx).all()\n",
    "\n",
    "# check that the npIdx of 5 prime are from num3Prime ... num5Prime - 1\n",
    "prime5NpIdx = df.loc[prime5Rows, ['npIdx']].values \n",
    "start = num3Prime \n",
    "end = nCells\n",
    "expected5PrimeNpIdx =  np.array( [i for i in range(start, end)] )\n",
    "expected5PrimeNpIdx = expected5PrimeNpIdx.reshape(prime5NpIdx.shape)\n",
    "\n",
    "assert (prime5NpIdx == expected5PrimeNpIdx).all()\n"
   ]
  },
  {
   "cell_type": "code",
   "execution_count": 20,
   "metadata": {},
   "outputs": [
    {
     "data": {
      "text/plain": [
       "9"
      ]
     },
     "execution_count": 20,
     "metadata": {},
     "output_type": "execute_result"
    }
   ],
   "source": [
    "len(anndata.obs.anno.unique())"
   ]
  },
  {
   "cell_type": "code",
   "execution_count": 26,
   "metadata": {},
   "outputs": [
    {
     "data": {
      "text/plain": [
       "array([1, 4, 1])"
      ]
     },
     "execution_count": 26,
     "metadata": {},
     "output_type": "execute_result"
    }
   ],
   "source": [
    "low = 0\n",
    "high = low + 5\n",
    "size = 3 # number of values to generate\n",
    "np.random.randint(low, high, size)"
   ]
  },
  {
   "cell_type": "code",
   "execution_count": 27,
   "metadata": {},
   "outputs": [
    {
     "data": {
      "text/plain": [
       "array([9, 6, 8])"
      ]
     },
     "execution_count": 27,
     "metadata": {},
     "output_type": "execute_result"
    }
   ],
   "source": [
    "low = 5\n",
    "high = low + 5\n",
    "size = 3 # number of values to generate\n",
    "np.random.randint(low, high, size)"
   ]
  },
  {
   "cell_type": "code",
   "execution_count": 28,
   "metadata": {},
   "outputs": [
    {
     "data": {
      "text/plain": [
       "array([4, 0, 3])"
      ]
     },
     "execution_count": 28,
     "metadata": {},
     "output_type": "execute_result"
    }
   ],
   "source": [
    "np.random.randint(0, 5, 3)"
   ]
  },
  {
   "cell_type": "code",
   "execution_count": 31,
   "metadata": {},
   "outputs": [
    {
     "data": {
      "text/plain": [
       "array([[ 1,  2, 10, 20],\n",
       "       [ 3,  4, 30, 40]])"
      ]
     },
     "execution_count": 31,
     "metadata": {},
     "output_type": "execute_result"
    }
   ],
   "source": [
    "x1 = np.array([\n",
    "    [1, 2],\n",
    "    [3, 4]\n",
    "])\n",
    "\n",
    "x2 = np.array([\n",
    "    [10, 20],\n",
    "    [30, 40]\n",
    "])\n",
    "\n",
    "byRows = 0\n",
    "byCols = 1\n",
    "np.concatenate((x1, x2), axis=byCols)"
   ]
  }
 ],
 "metadata": {
  "kernelspec": {
   "display_name": "Python 3",
   "language": "python",
   "name": "python3"
  },
  "language_info": {
   "codemirror_mode": {
    "name": "ipython",
    "version": 3
   },
   "file_extension": ".py",
   "mimetype": "text/x-python",
   "name": "python",
   "nbconvert_exporter": "python",
   "pygments_lexer": "ipython3",
   "version": "3.7.3"
  }
 },
 "nbformat": 4,
 "nbformat_minor": 2
}
