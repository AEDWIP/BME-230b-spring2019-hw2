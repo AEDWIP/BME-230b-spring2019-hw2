{
 "cells": [
  {
   "cell_type": "markdown",
   "metadata": {},
   "source": [
    "# h1\n",
    "\n",
    "## <span style=\"color:red\">are we hacking spanpy?</span>\n",
    "\n",
    "I think our hack is we assume we can replace our version of NN by calling compute_connectivities_umap() and setting these 'uns'\n",
    "\n",
    "issue is we do not know what the function argument are supposed to be\n",
    "\n",
    "```\n",
    "    self.adata.uns['neighbors']['connectivities'] = self.connectivities\n",
    "    self.adata.uns['neighbors']['distances'] = self.distances\n",
    "```\n",
    "\n",
    "- [scanpy.tl.umap](https://icb-scanpy.readthedocs-hosted.com/en/stable/api/scanpy.tl.umap.html)\n",
    "- <span style=\"color:red\">scanpy.api.pl no longer exists</span\n",
    "- [scanpy.pl.umap](https://icb-scanpy.readthedocs-hosted.com/en/stable/api/scanpy.pl.umap.html#scanpy.pl.umap)\n",
    "graphs:\n",
    "    \n",
    "\n",
    "ref: \n",
    "- [ Single-Cell Analysis in Python ](https://scanpy.readthedocs.io/en/stable/api/index.html#tools-tl\n",
    "- [data exploration](exploreData.ipynb)"
   ]
  },
  {
   "cell_type": "code",
   "execution_count": 1,
   "metadata": {},
   "outputs": [],
   "source": [
    "from euclid_knn import knnG\n",
    "import matplotlib.pyplot as plt\n",
    "import numpy as np\n",
    "import scanpy.api as sc"
   ]
  },
  {
   "cell_type": "code",
   "execution_count": 2,
   "metadata": {},
   "outputs": [],
   "source": [
    "anndata = sc.read(\"PBMC.merged.h5ad\")"
   ]
  },
  {
   "cell_type": "code",
   "execution_count": 3,
   "metadata": {},
   "outputs": [
    {
     "data": {
      "text/html": [
       "<div>\n",
       "<style scoped>\n",
       "    .dataframe tbody tr th:only-of-type {\n",
       "        vertical-align: middle;\n",
       "    }\n",
       "\n",
       "    .dataframe tbody tr th {\n",
       "        vertical-align: top;\n",
       "    }\n",
       "\n",
       "    .dataframe thead th {\n",
       "        text-align: right;\n",
       "    }\n",
       "</style>\n",
       "<table border=\"1\" class=\"dataframe\">\n",
       "  <thead>\n",
       "    <tr style=\"text-align: right;\">\n",
       "      <th></th>\n",
       "      <th>Sample</th>\n",
       "      <th>n_counts</th>\n",
       "      <th>n_genes</th>\n",
       "      <th>batch</th>\n",
       "      <th>louvain</th>\n",
       "      <th>anno</th>\n",
       "      <th>Method</th>\n",
       "      <th>Cell type</th>\n",
       "    </tr>\n",
       "    <tr>\n",
       "      <th>index</th>\n",
       "      <th></th>\n",
       "      <th></th>\n",
       "      <th></th>\n",
       "      <th></th>\n",
       "      <th></th>\n",
       "      <th></th>\n",
       "      <th></th>\n",
       "      <th></th>\n",
       "    </tr>\n",
       "  </thead>\n",
       "  <tbody>\n",
       "    <tr>\n",
       "      <th>data_3p-AAACCTGAGCATCATC-0</th>\n",
       "      <td>data_3p</td>\n",
       "      <td>2394.0</td>\n",
       "      <td>871</td>\n",
       "      <td>0</td>\n",
       "      <td>9</td>\n",
       "      <td>B cell</td>\n",
       "      <td>10X_3prime</td>\n",
       "      <td>B cell</td>\n",
       "    </tr>\n",
       "    <tr>\n",
       "      <th>data_3p-AAACCTGAGCTAGTGG-0</th>\n",
       "      <td>data_3p</td>\n",
       "      <td>4520.0</td>\n",
       "      <td>1316</td>\n",
       "      <td>0</td>\n",
       "      <td>5</td>\n",
       "      <td>CD4 T cell</td>\n",
       "      <td>10X_3prime</td>\n",
       "      <td>CD4 T cell</td>\n",
       "    </tr>\n",
       "    <tr>\n",
       "      <th>data_3p-AAACCTGCACATTAGC-0</th>\n",
       "      <td>data_3p</td>\n",
       "      <td>2788.0</td>\n",
       "      <td>898</td>\n",
       "      <td>0</td>\n",
       "      <td>1</td>\n",
       "      <td>CD4 T cell</td>\n",
       "      <td>10X_3prime</td>\n",
       "      <td>CD4 T cell</td>\n",
       "    </tr>\n",
       "    <tr>\n",
       "      <th>data_3p-AAACCTGCACTGTTAG-0</th>\n",
       "      <td>data_3p</td>\n",
       "      <td>4667.0</td>\n",
       "      <td>1526</td>\n",
       "      <td>0</td>\n",
       "      <td>0</td>\n",
       "      <td>Monocyte_CD14</td>\n",
       "      <td>10X_3prime</td>\n",
       "      <td>Monocyte_CD14</td>\n",
       "    </tr>\n",
       "    <tr>\n",
       "      <th>data_3p-AAACCTGCATAGTAAG-0</th>\n",
       "      <td>data_3p</td>\n",
       "      <td>4440.0</td>\n",
       "      <td>1495</td>\n",
       "      <td>0</td>\n",
       "      <td>0</td>\n",
       "      <td>Monocyte_CD14</td>\n",
       "      <td>10X_3prime</td>\n",
       "      <td>Monocyte_CD14</td>\n",
       "    </tr>\n",
       "  </tbody>\n",
       "</table>\n",
       "</div>"
      ],
      "text/plain": [
       "                             Sample  n_counts  n_genes batch louvain  \\\n",
       "index                                                                  \n",
       "data_3p-AAACCTGAGCATCATC-0  data_3p    2394.0      871     0       9   \n",
       "data_3p-AAACCTGAGCTAGTGG-0  data_3p    4520.0     1316     0       5   \n",
       "data_3p-AAACCTGCACATTAGC-0  data_3p    2788.0      898     0       1   \n",
       "data_3p-AAACCTGCACTGTTAG-0  data_3p    4667.0     1526     0       0   \n",
       "data_3p-AAACCTGCATAGTAAG-0  data_3p    4440.0     1495     0       0   \n",
       "\n",
       "                                     anno      Method      Cell type  \n",
       "index                                                                 \n",
       "data_3p-AAACCTGAGCATCATC-0         B cell  10X_3prime         B cell  \n",
       "data_3p-AAACCTGAGCTAGTGG-0     CD4 T cell  10X_3prime     CD4 T cell  \n",
       "data_3p-AAACCTGCACATTAGC-0     CD4 T cell  10X_3prime     CD4 T cell  \n",
       "data_3p-AAACCTGCACTGTTAG-0  Monocyte_CD14  10X_3prime  Monocyte_CD14  \n",
       "data_3p-AAACCTGCATAGTAAG-0  Monocyte_CD14  10X_3prime  Monocyte_CD14  "
      ]
     },
     "execution_count": 3,
     "metadata": {},
     "output_type": "execute_result"
    }
   ],
   "source": [
    "anndata.obs.head()"
   ]
  },
  {
   "cell_type": "code",
   "execution_count": 4,
   "metadata": {},
   "outputs": [
    {
     "data": {
      "text/plain": [
       "[data_3p, data_5p]\n",
       "Categories (2, object): [data_3p, data_5p]"
      ]
     },
     "execution_count": 4,
     "metadata": {},
     "output_type": "execute_result"
    }
   ],
   "source": [
    "#anndata.obs['Sample']\n",
    "anndata.obs['Sample'].unique()"
   ]
  },
  {
   "cell_type": "code",
   "execution_count": 5,
   "metadata": {},
   "outputs": [
    {
     "data": {
      "text/plain": [
       "[0, 1]\n",
       "Categories (2, object): [0, 1]"
      ]
     },
     "execution_count": 5,
     "metadata": {},
     "output_type": "execute_result"
    }
   ],
   "source": [
    "anndata.obs['batch'].unique()"
   ]
  },
  {
   "cell_type": "markdown",
   "metadata": {},
   "source": [
    "\n",
    "- [scanpy.tl.umap](https://icb-scanpy.readthedocs-hosted.com/en/stable/api/scanpy.tl.umap.html)\n",
    "- <span style=\"color:red\">scanpy.api.pl no longer exists</span\n",
    "- [scanpy.pl.umap](https://icb-scanpy.readthedocs-hosted.com/en/stable/api/scanpy.pl.umap.html#scanpy.pl.umap)"
   ]
  },
  {
   "cell_type": "code",
   "execution_count": 6,
   "metadata": {},
   "outputs": [
    {
     "name": "stdout",
     "output_type": "stream",
     "text": [
      "emptying .uns...\n"
     ]
    }
   ],
   "source": [
    "knng = knnG(anndata, n_neighbors=12)"
   ]
  },
  {
   "cell_type": "markdown",
   "metadata": {},
   "source": [
    "[scanpy-tl-umap](https://scanpy.readthedocs.io/en/stable/api/scanpy.tl.umap.html#scanpy-tl-umap]"
   ]
  },
  {
   "cell_type": "code",
   "execution_count": 7,
   "metadata": {},
   "outputs": [
    {
     "ename": "AttributeError",
     "evalue": "'dict' object has no attribute 'tocoo'",
     "output_type": "error",
     "traceback": [
      "\u001b[0;31m---------------------------------------------------------------------------\u001b[0m",
      "\u001b[0;31mAttributeError\u001b[0m                            Traceback (most recent call last)",
      "\u001b[0;32m<ipython-input-7-54729ac1c8da>\u001b[0m in \u001b[0;36m<module>\u001b[0;34m\u001b[0m\n\u001b[1;32m      1\u001b[0m \u001b[0;34m\u001b[0m\u001b[0m\n\u001b[0;32m----> 2\u001b[0;31m \u001b[0maedwip\u001b[0m \u001b[0;34m=\u001b[0m \u001b[0msc\u001b[0m\u001b[0;34m.\u001b[0m\u001b[0mtl\u001b[0m\u001b[0;34m.\u001b[0m\u001b[0mumap\u001b[0m\u001b[0;34m(\u001b[0m\u001b[0manndata\u001b[0m\u001b[0;34m,\u001b[0m \u001b[0mcopy\u001b[0m\u001b[0;34m=\u001b[0m\u001b[0;32mTrue\u001b[0m\u001b[0;34m)\u001b[0m\u001b[0;34m\u001b[0m\u001b[0;34m\u001b[0m\u001b[0m\n\u001b[0m\u001b[1;32m      3\u001b[0m \u001b[0mprint\u001b[0m\u001b[0;34m(\u001b[0m\u001b[0;34m\"type(aedwip):{}\"\u001b[0m\u001b[0;34m.\u001b[0m\u001b[0mformat\u001b[0m\u001b[0;34m(\u001b[0m\u001b[0maedwip\u001b[0m\u001b[0;34m)\u001b[0m\u001b[0;34m)\u001b[0m\u001b[0;34m\u001b[0m\u001b[0;34m\u001b[0m\u001b[0m\n",
      "\u001b[0;32m~/anaconda3/envs/BME-230B-hw2/lib/python3.7/site-packages/scanpy/tools/_umap.py\u001b[0m in \u001b[0;36mumap\u001b[0;34m(adata, min_dist, spread, n_components, maxiter, alpha, gamma, negative_sample_rate, init_pos, random_state, a, b, copy)\u001b[0m\n\u001b[1;32m    122\u001b[0m     \u001b[0mverbosity\u001b[0m \u001b[0;34m=\u001b[0m \u001b[0m_VERBOSITY_LEVELS_FROM_STRINGS\u001b[0m\u001b[0;34m.\u001b[0m\u001b[0mget\u001b[0m\u001b[0;34m(\u001b[0m\u001b[0msettings\u001b[0m\u001b[0;34m.\u001b[0m\u001b[0mverbosity\u001b[0m\u001b[0;34m,\u001b[0m \u001b[0msettings\u001b[0m\u001b[0;34m.\u001b[0m\u001b[0mverbosity\u001b[0m\u001b[0;34m)\u001b[0m\u001b[0;34m\u001b[0m\u001b[0;34m\u001b[0m\u001b[0m\n\u001b[1;32m    123\u001b[0m     X_umap = simplicial_set_embedding(\n\u001b[0;32m--> 124\u001b[0;31m         \u001b[0madata\u001b[0m\u001b[0;34m.\u001b[0m\u001b[0muns\u001b[0m\u001b[0;34m[\u001b[0m\u001b[0;34m'neighbors'\u001b[0m\u001b[0;34m]\u001b[0m\u001b[0;34m[\u001b[0m\u001b[0;34m'connectivities'\u001b[0m\u001b[0;34m]\u001b[0m\u001b[0;34m.\u001b[0m\u001b[0mtocoo\u001b[0m\u001b[0;34m(\u001b[0m\u001b[0;34m)\u001b[0m\u001b[0;34m,\u001b[0m\u001b[0;34m\u001b[0m\u001b[0;34m\u001b[0m\u001b[0m\n\u001b[0m\u001b[1;32m    125\u001b[0m         \u001b[0mn_components\u001b[0m\u001b[0;34m,\u001b[0m\u001b[0;34m\u001b[0m\u001b[0;34m\u001b[0m\u001b[0m\n\u001b[1;32m    126\u001b[0m         \u001b[0malpha\u001b[0m\u001b[0;34m,\u001b[0m\u001b[0;34m\u001b[0m\u001b[0;34m\u001b[0m\u001b[0m\n",
      "\u001b[0;31mAttributeError\u001b[0m: 'dict' object has no attribute 'tocoo'"
     ]
    }
   ],
   "source": [
    "\n",
    "aedwip = sc.tl.umap(anndata, copy=True)\n",
    "print(\"type(aedwip):{}\".format(aedwip))"
   ]
  },
  {
   "cell_type": "markdown",
   "metadata": {},
   "source": [
    "Ref: [scanpy.api.tl.umap](https://icb-scanpy.readthedocs-hosted.com/en/stable/api/scanpy.api.tl.umap.html)\n"
   ]
  },
  {
   "cell_type": "code",
   "execution_count": null,
   "metadata": {},
   "outputs": [],
   "source": [
    "# aedwip = sc.api.pl.umap(anndata)\n",
    "# print(\"type(aedwip):{}\".format(aedwip))"
   ]
  }
 ],
 "metadata": {
  "kernelspec": {
   "display_name": "Python 3",
   "language": "python",
   "name": "python3"
  },
  "language_info": {
   "codemirror_mode": {
    "name": "ipython",
    "version": 3
   },
   "file_extension": ".py",
   "mimetype": "text/x-python",
   "name": "python",
   "nbconvert_exporter": "python",
   "pygments_lexer": "ipython3",
   "version": "3.7.3"
  }
 },
 "nbformat": 4,
 "nbformat_minor": 2
}
